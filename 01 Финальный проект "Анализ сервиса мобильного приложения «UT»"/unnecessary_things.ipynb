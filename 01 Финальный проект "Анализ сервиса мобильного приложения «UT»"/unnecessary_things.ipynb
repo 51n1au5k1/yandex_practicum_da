{
 "cells": [
  {
   "cell_type": "markdown",
   "id": "278d2857",
   "metadata": {},
   "source": [
    "<h1 align=\"center\">Подготовка</h1>"
   ]
  },
  {
   "cell_type": "markdown",
   "id": "268ae6d1",
   "metadata": {},
   "source": [
    "Ставим таймер автосохранения тетрадки."
   ]
  },
  {
   "cell_type": "code",
   "execution_count": 1,
   "id": "eeb01400",
   "metadata": {},
   "outputs": [
    {
     "data": {
      "application/javascript": "IPython.notebook.set_autosave_interval(30000)"
     },
     "metadata": {},
     "output_type": "display_data"
    },
    {
     "name": "stdout",
     "output_type": "stream",
     "text": [
      "Autosaving every 30 seconds\n"
     ]
    }
   ],
   "source": [
    "%autosave 30"
   ]
  },
  {
   "cell_type": "markdown",
   "id": "3f466e93",
   "metadata": {},
   "source": [
    "Импортируем библиотеку в целях скачивания материалов в папку проекта."
   ]
  },
  {
   "cell_type": "raw",
   "id": "7590dee6",
   "metadata": {},
   "source": [
    "import urllib.request\n",
    "\n",
    "urllib.request.urlretrieve('https://code.s3.yandex.net/datasets/mobile_soures.csv', 'mobile_soures.csv')\n",
    "urllib.request.urlretrieve('https://code.s3.yandex.net/datasets/mobile_dataset.csv', 'mobile_dataset.csv')"
   ]
  },
  {
   "cell_type": "markdown",
   "id": "bfed142f",
   "metadata": {},
   "source": [
    "<hr align=\"center\" width=\"80%\" size=\"3\" color=\"#0000dd\" />"
   ]
  },
  {
   "cell_type": "markdown",
   "id": "416c2705",
   "metadata": {},
   "source": [
    "<h1 align=\"center\">Анализ сервиса мобильного приложения «UT»</h1>\n",
    "<hr align=\"center\" width=\"80%\" size=\"3\" color=\"#0000dd\" />\n",
    "<h3 >Описание проекта</h3>\n",
    "\n",
    "В мобильном приложении «UT» пользователи продают вещи, путем размещения лотов на доске объявлений. Требуется провести анализ поведения пользователей в целях выделения основных сценариев использования приложения.\n",
    "\n",
    "\n",
    "<h3>Цель исследования</h3>\n",
    "\n",
    "Повышение монетизации путем увелечения пользовательской вовлеченности.\n",
    "\n",
    "<h3>Основные вопросы исследования</h3>\n",
    "\n",
    "- Пользователи какой группы склонные чаще возвращаться в мобильное приложение (Retention rate)?\n",
    "\n",
    "- Пользователи какой группы часто делают целевое событие (конверсия в целевое действие)?\n",
    "\n",
    "- Как различается время между распространенными событиями пользователей в разрере выделенных групп?\n",
    "\n",
    "<h3>Выдвинутые гипотизы</h3>\n",
    "\n",
    "- В целях оценки эффективности рекламных кампаний проверить конверсию в просмотры контактов пользователей пришедших из источников `google` и `yandex`;\n",
    "- В целях повышения монетизации сравнить конверсию в просмотры контактов пользователей, которые совершают действия `tips_show` и `tips_click`, и тех, что совершают только действие `tips_show`.\n"
   ]
  },
  {
   "cell_type": "markdown",
   "id": "a79e3f44",
   "metadata": {},
   "source": [
    "<hr align=\"center\" width=\"80%\" size=\"3\" color=\"#0000dd\" />"
   ]
  },
  {
   "cell_type": "markdown",
   "id": "85e3dcf3",
   "metadata": {},
   "source": [
    "<a id='back'><a/> \n",
    "<h1>Содержание:</h1>\n",
    "\n",
    "[Описание данных](#step0)\n",
    "\n",
    "[Материалы](#step00)\n",
    "\n",
    "1. [Загрузка данных, их обзор и подготовка к анализу](#step1)\n",
    "\n",
    "2. [Изучение и проверка данных:](#step2)\n",
    "    * [Количество событий в логе](#step21)\n",
    "    * [Количество пользователей](#step22)\n",
    "    * [Среднее количество событий на одного пользователя](#step23)\n",
    "    * [Частота событий](#step25)\n",
    "    * [График активности пользователей](#step24)\n",
    "    * [Пользовательские сессии](#step26)\n",
    "    * [Время в приложении](#step27)\n",
    "    * [Конверсия в целевое действие(contacts_show)](#step28)\n",
    "    * [Пользовательские профили](#step29)\n",
    "    * [Число уникальных пользователей в день](#step291)\n",
    "    * [Коэффициент удержания клиентов](#step292)\n",
    "\n",
    "3. [Анализ влияния событий на совершение целевого события](#step3)  \n",
    "    * [\"События-компаньоны\"](#step31)\n",
    "    * [Воронка событий](#step32)\n",
    "    \n",
    "4. [Сегментация пользователей](#step4)  \n",
    "    * [Определение метрик для сегментации](#step43)\n",
    "    * [Матрица корреляции выбранных метрик для сегментации](#step44)\n",
    "    * [Сегментация и первые выводы](#step45)\n",
    "    \n",
    "5. [Ответы на запрос заказчика:](#step5)\n",
    "    * [Пользователи какой группы склонны часто возвращаться в мобильное приложение (Retention rate)?](#step51)\n",
    "    * [Пользователи какой группы часто делают целевое событие (конверсия в целевое действие)?](#step52)\n",
    "    * [Как различается время между распространенными событиями пользователей из разных групп?](#step53)\n",
    "    \n",
    "6. [Проверка гипотиз](#step6)  \n",
    "    * [Конверсия в просмотры контактов пользователей пришедших из источников google и yandex](#step61)\n",
    "    * [Конверсия в просмотры контактов пользователей, которые совершают действия tips_show и tips_click, и тех, что совершают только действие tips_show](#step62)\n",
    "    \n",
    "7. [Общие выводы и рекомендации](#step7) \n",
    "******"
   ]
  },
  {
   "cell_type": "markdown",
   "id": "8cd1949d",
   "metadata": {},
   "source": [
    "<a id='step0'><a/> \n",
    "## Описание данных\n",
    "[Назад к оглавлению](#back)"
   ]
  },
  {
   "cell_type": "markdown",
   "id": "50aba188",
   "metadata": {},
   "source": [
    "Содержание `mobile_dataset.csv`:\n",
    "- `event.time` — время совершения события;\n",
    "- `event.name` — наименование совершенного события;\n",
    "- `user.id` — идентификатор пользователя.\n",
    "\n",
    "Содержание `mobile_sources.csv`:\n",
    "\n",
    "- `userId` — идентификатор пользователя;\n",
    "- `source` — источник трафика.\n",
    "\n",
    "Расшифровка событий:\n",
    "\n",
    "- `advert_open` — открытие карточки объявления;\n",
    "- `contacts_call` — пользователь совершил звонок через приложение;\n",
    "- `contacts_show` — пользователь просмотрел контакты в объявлении;\n",
    "- `favorites_add` — пользователь добавил объявление в \"избранное\";\n",
    "- `map` — пользователь открыл карту;\n",
    "- `photos_show` — пользователь просмотрел фотографии в объявлении;\n",
    "- `search_NN` — пользователь воспользовался поиском в приложении (`NN` - индификатор поискового запроса);\n",
    "- `show_contacts` — пользователь просмотрел контакты в объявлении;\n",
    "- `tips_click` — пользователь осуществил переход по рекомендованному объявлению;\n",
    "- `tips_show` — пользователь увидел рекомендованные объявления."
   ]
  },
  {
   "cell_type": "markdown",
   "id": "a1c1ccda",
   "metadata": {},
   "source": [
    "<hr align=\"center\" width=\"80%\" size=\"3\" color=\"#0000dd\" />"
   ]
  },
  {
   "cell_type": "markdown",
   "id": "ef2db213",
   "metadata": {},
   "source": [
    "<a id='step00'><a/> \n",
    "## Материалы\n",
    "[Назад к оглавлению](#back)"
   ]
  },
  {
   "cell_type": "markdown",
   "id": "f1c5d733",
   "metadata": {},
   "source": [
    "<a href=\"https://public.tableau.com/views/mob_app_unnecessary_things/Dashboard1?:language=en-US&:display_count=n&:origin=viz_share_link\n",
    "\">Дашборд</a>\n",
    "\n",
    "<a href=\"https://docs.google.com/presentation/d/1WMbBAq-2XBVEAFW55cg0Ie5uv1y4CXoZW48hhMHi8IY/edit?usp=sharing\n",
    "\">Презентация</a>\n"
   ]
  },
  {
   "cell_type": "markdown",
   "id": "c5938ec7",
   "metadata": {},
   "source": [
    "<hr align=\"center\" width=\"80%\" size=\"3\" color=\"#0000dd\" />"
   ]
  },
  {
   "cell_type": "markdown",
   "id": "d90d0cf4",
   "metadata": {},
   "source": [
    "<a id='step1'><a/> \n",
    "## Загрузка данных, их обзор и подготовка к анализу\n",
    "[Назад к оглавлению](#back)"
   ]
  },
  {
   "cell_type": "markdown",
   "id": "b3b9c8d5",
   "metadata": {},
   "source": [
    "Импортируем требумые для анализа библиотеки методом `import`."
   ]
  },
  {
   "cell_type": "code",
   "execution_count": 2,
   "id": "a2a9cbb8",
   "metadata": {},
   "outputs": [],
   "source": [
    "import os\n",
    "\n",
    "import pandas as pd\n",
    "import numpy as np\n",
    "import seaborn as sns\n",
    "import datetime as dt\n",
    "\n",
    "import matplotlib\n",
    "import matplotlib.pyplot as plt\n",
    "import plotly.graph_objs as go\n",
    "\n",
    "from sklearn.preprocessing import StandardScaler\n",
    "from scipy.cluster.hierarchy import dendrogram, linkage\n",
    "from sklearn.cluster import KMeans\n",
    "\n",
    "import math as mth\n",
    "import scipy.stats as stats\n",
    "from statsmodels.stats.proportion import proportions_ztest"
   ]
  },
  {
   "cell_type": "markdown",
   "id": "352dcf06",
   "metadata": {},
   "source": [
    "Определим функцию, которая будет устранять проблемы с загрузкой данных."
   ]
  },
  {
   "cell_type": "code",
   "execution_count": 3,
   "id": "30398c80",
   "metadata": {},
   "outputs": [],
   "source": [
    "def read_file(file_name): \n",
    "    path1 = os.path.join('/datasets', file_name) \n",
    "    path2 = os.path.join(file_name)\n",
    "    if os.path.exists(path1): \n",
    "        df = pd.read_csv(path1) \n",
    "        return df\n",
    "    elif os.path.exists(path2): \n",
    "        df = pd.read_csv(path2) \n",
    "        return df\n",
    "    else:\n",
    "        print('File is not found')"
   ]
  },
  {
   "cell_type": "markdown",
   "id": "a0af3f14",
   "metadata": {},
   "source": [
    "Определим функцию для первичного знакомства с данными, где также проверим данные на явные дубликаты и пропуски."
   ]
  },
  {
   "cell_type": "code",
   "execution_count": 4,
   "id": "74b8d6ff",
   "metadata": {},
   "outputs": [],
   "source": [
    "def first_view(df):\n",
    "    print('\\033[1m' + 'Информация, включающая записи датасета:' + '\\033[0m')\n",
    "# выведем 10 любых строк    \n",
    "    print(df.sample(10)) \n",
    "    print('\\033[1m' + 'Информация о датасете:' + '\\033[0m\\n')\n",
    "# получим общую информацию о датасете\n",
    "    df.info()\n",
    "# проверка на явные дубликаты\n",
    "    print('\\033[1m' + '\\nДубликатов в таблице:' + '\\033[0m', df.duplicated().sum())\n",
    "#проверка на пропуски\n",
    "    print('\\033[1m' + '\\nПодсчет пропусков:' + '\\033[0m\\n', df.isna().sum())\n",
    "#обзор числовых и строковых значений\n",
    "    print('\\033[1m' + '\\nОписательная статистика:' + '\\033[0m\\n', df.describe(include='all')) "
   ]
  },
  {
   "cell_type": "markdown",
   "id": "770dc9fa",
   "metadata": {},
   "source": [
    "<h3>Загрузка данных</h3>"
   ]
  },
  {
   "cell_type": "markdown",
   "id": "94b33f3b",
   "metadata": {},
   "source": [
    "Применим заданную ранее функцию для загрузки данных."
   ]
  },
  {
   "cell_type": "code",
   "execution_count": 5,
   "id": "43854c22",
   "metadata": {},
   "outputs": [],
   "source": [
    "sources = read_file('mobile_soures.csv')\n",
    "dataset = read_file('mobile_dataset.csv')"
   ]
  },
  {
   "cell_type": "markdown",
   "id": "84cae1a0",
   "metadata": {},
   "source": [
    "<h3>Обзор данных</h3>"
   ]
  },
  {
   "cell_type": "markdown",
   "id": "ae5953c1",
   "metadata": {},
   "source": [
    "Вызовем определенную ранее функцию для первичного ознакомления с данными."
   ]
  },
  {
   "cell_type": "code",
   "execution_count": 6,
   "id": "a6aab465",
   "metadata": {},
   "outputs": [
    {
     "name": "stdout",
     "output_type": "stream",
     "text": [
      "\u001b[1mИнформация, включающая записи датасета:\u001b[0m\n",
      "                                    userId  source\n",
      "1376  8c80d63c-6b79-4fb5-b89c-2c72d614323d   other\n",
      "2017  5dabae44-970a-4d21-a7d8-8e7ba5639973   other\n",
      "144   dba7b47e-62f4-475e-9f5e-d842af7225da   other\n",
      "814   28d03e3b-15af-467e-b492-930231df1f37  yandex\n",
      "3071  2e6bc4e2-b4a4-46c2-bb3f-4e243c17d6ad  google\n",
      "2785  3ad631f1-42c9-4b4b-9d27-254a77b96ac0  yandex\n",
      "2219  69c148e9-5e51-4e2b-a752-6ee361fa26f2   other\n",
      "88    11e5d8e7-e6fe-43ed-8bff-fd5deb99ffdb  yandex\n",
      "3821  613952ec-0f28-43b7-9891-832ec458b57c  google\n",
      "2754  16855b4e-eefc-468c-93cb-7832f431dcd2  yandex\n",
      "\u001b[1mИнформация о датасете:\u001b[0m\n",
      "\n",
      "<class 'pandas.core.frame.DataFrame'>\n",
      "RangeIndex: 4293 entries, 0 to 4292\n",
      "Data columns (total 2 columns):\n",
      " #   Column  Non-Null Count  Dtype \n",
      "---  ------  --------------  ----- \n",
      " 0   userId  4293 non-null   object\n",
      " 1   source  4293 non-null   object\n",
      "dtypes: object(2)\n",
      "memory usage: 67.2+ KB\n",
      "\u001b[1m\n",
      "Дубликатов в таблице:\u001b[0m 0\n",
      "\u001b[1m\n",
      "Подсчет пропусков:\u001b[0m\n",
      " userId    0\n",
      "source    0\n",
      "dtype: int64\n",
      "\u001b[1m\n",
      "Описательная статистика:\u001b[0m\n",
      "                                       userId  source\n",
      "count                                   4293    4293\n",
      "unique                                  4293       3\n",
      "top     8ec030e3-a22d-4237-bfca-61bce03b0d8c  yandex\n",
      "freq                                       1    1934\n"
     ]
    }
   ],
   "source": [
    "first_view(sources)"
   ]
  },
  {
   "cell_type": "markdown",
   "id": "2f61714e",
   "metadata": {},
   "source": [
    "**Выводы по датасету `sources`:**\n",
    "- состоит из 2 столбцов и 4 293 строк;\n",
    "- явные дубликаты отсуствуют;\n",
    "- пропуски в данных отсуствуют;\n",
    "- имеется 4 293 уникальных индификатора пользователя;\n",
    "- имеется 3 уникальных источника трафика, при этом наиболее частый - *yandex* (встречается 1934 раза)\n",
    "\n",
    "Требуется следующая предобработка:\n",
    "- приведение написания заголовков столбцов к единому стилю (преобразования текста в стиль snake_case);\n",
    "- в целях уменьшения используемой памяти возможно изменение типа данных столбца источники на категориальный. "
   ]
  },
  {
   "cell_type": "code",
   "execution_count": 7,
   "id": "bf9df8ee",
   "metadata": {},
   "outputs": [
    {
     "name": "stdout",
     "output_type": "stream",
     "text": [
      "\u001b[1mИнформация, включающая записи датасета:\u001b[0m\n",
      "                       event.time     event.name  \\\n",
      "63274  2019-10-30 19:37:24.181117      tips_show   \n",
      "37965  2019-10-22 13:16:23.236979      tips_show   \n",
      "16048  2019-10-14 08:37:57.985155      tips_show   \n",
      "19146  2019-10-15 09:20:41.743079  contacts_show   \n",
      "66485  2019-10-31 21:17:27.685972  contacts_call   \n",
      "5923   2019-10-09 13:46:37.496487      tips_show   \n",
      "39550  2019-10-22 22:03:21.464560  contacts_show   \n",
      "46810  2019-10-25 11:53:32.748794       search_4   \n",
      "25102  2019-10-17 12:00:37.516603    photos_show   \n",
      "33657  2019-10-20 20:27:53.353306      tips_show   \n",
      "\n",
      "                                    user.id  \n",
      "63274  aed9d717-9562-4ac9-8629-d7ef7fd7029e  \n",
      "37965  1191ffd1-cc6f-4db4-94d1-d8c8168aeb63  \n",
      "16048  69d9235d-7849-4df1-be59-364af19fb43b  \n",
      "19146  a6ccc0cb-fdf6-4c97-b713-3d8a4e88bd41  \n",
      "66485  ac442fb7-b464-4625-b31c-d86600a3aa5f  \n",
      "5923   5f90d7d1-e029-4b99-b683-2d5d4d048f6b  \n",
      "39550  e549f8ef-653b-4c5c-a6bd-8970e6bd860b  \n",
      "46810  146c6d31-d314-4704-acac-b06c82dd13cd  \n",
      "25102  1f01ac2f-69f4-4152-a06b-dc73d61ad2de  \n",
      "33657  c3fc0129-69be-437a-b22b-1e345d8613ec  \n",
      "\u001b[1mИнформация о датасете:\u001b[0m\n",
      "\n",
      "<class 'pandas.core.frame.DataFrame'>\n",
      "RangeIndex: 74197 entries, 0 to 74196\n",
      "Data columns (total 3 columns):\n",
      " #   Column      Non-Null Count  Dtype \n",
      "---  ------      --------------  ----- \n",
      " 0   event.time  74197 non-null  object\n",
      " 1   event.name  74197 non-null  object\n",
      " 2   user.id     74197 non-null  object\n",
      "dtypes: object(3)\n",
      "memory usage: 1.7+ MB\n",
      "\u001b[1m\n",
      "Дубликатов в таблице:\u001b[0m 0\n",
      "\u001b[1m\n",
      "Подсчет пропусков:\u001b[0m\n",
      " event.time    0\n",
      "event.name    0\n",
      "user.id       0\n",
      "dtype: int64\n",
      "\u001b[1m\n",
      "Описательная статистика:\u001b[0m\n",
      "                         event.time event.name  \\\n",
      "count                        74197      74197   \n",
      "unique                       74197         16   \n",
      "top     2019-10-26 20:35:26.584252  tips_show   \n",
      "freq                             1      40055   \n",
      "\n",
      "                                     user.id  \n",
      "count                                  74197  \n",
      "unique                                  4293  \n",
      "top     cb36854f-570a-41f4-baa8-36680b396370  \n",
      "freq                                     478  \n"
     ]
    }
   ],
   "source": [
    "first_view(dataset)"
   ]
  },
  {
   "cell_type": "markdown",
   "id": "4d94b1a6",
   "metadata": {},
   "source": [
    "**Выводы по датасету `dataset`:**\n",
    "- состоит из 3 столбцов и 74 197 строк;\n",
    "- явные дубликаты отсуствуют;\n",
    "- пропуски в данных отсуствуют;\n",
    "- имеется 16 уникальных событий, наиболее частое — `tips_show` (40 055 событий).\n",
    "- имеется 4 293 уникальных индификатора пользователя, что соответсвует данный из датасета `sources`;\n",
    "\n",
    "Требуется следующая предобработка:\n",
    "- приведение написания заголовков столбцов к единому стилю (преобразования текста в стиль snake_case);\n",
    "- преобразования типа данных для столбца, содержащего сведения о моменте события;\n",
    "- более детальный обзор значений в столбце событий в целях иселючения избыточной информации для нашего анализа;\n",
    "- в целях уменьшения используемой памяти возможно изменение типа данных столбца с событиями на категориальный. "
   ]
  },
  {
   "cell_type": "markdown",
   "id": "96ef6c69",
   "metadata": {},
   "source": [
    "<h3>Подготовка данных к анализу</h3>"
   ]
  },
  {
   "cell_type": "markdown",
   "id": "15d17121",
   "metadata": {},
   "source": [
    "<h4>Преобразования текста в стиль <i>snake_case</i>.</h4>\n",
    "\n",
    "Функцией `columns`, примененной к датасету, вызовем текущие наименования столбцов."
   ]
  },
  {
   "cell_type": "code",
   "execution_count": 8,
   "id": "42c08cac",
   "metadata": {},
   "outputs": [
    {
     "name": "stdout",
     "output_type": "stream",
     "text": [
      "Index(['userId', 'source'], dtype='object')\n"
     ]
    },
    {
     "data": {
      "text/plain": [
       "Index(['event.time', 'event.name', 'user.id'], dtype='object')"
      ]
     },
     "execution_count": 8,
     "metadata": {},
     "output_type": "execute_result"
    }
   ],
   "source": [
    "print(sources.columns)\n",
    "dataset.columns"
   ]
  },
  {
   "cell_type": "markdown",
   "id": "edd69178",
   "metadata": {},
   "source": [
    "Как видим:\n",
    "- для `sources` целесообразно будет применить функцию `rename` с аргументом `columns`, куда мы передадим актальное наименование стоблбца и желаемое;\n",
    "- для `dataset` применим функцию `replace` заменив точки на нижнее подчеркивание."
   ]
  },
  {
   "cell_type": "code",
   "execution_count": 9,
   "id": "3d2045ed",
   "metadata": {},
   "outputs": [],
   "source": [
    "sources = sources.rename(columns={'userId': 'user_id', 'source': 'source'}, errors=\"raise\")\n",
    "dataset.columns = [x.replace('.', '_') for x in dataset.columns]"
   ]
  },
  {
   "cell_type": "markdown",
   "id": "54c60ef9",
   "metadata": {},
   "source": [
    "<h4>Преобразование типов данных</h4>\n",
    "\n",
    "Начнём преобразование с даты и времени. \n",
    "\n",
    "Вызовем любое значение столбца `event_time` применив к датафрейму функцию `sample`."
   ]
  },
  {
   "cell_type": "code",
   "execution_count": 10,
   "id": "d4d0f4a1",
   "metadata": {},
   "outputs": [
    {
     "data": {
      "text/plain": [
       "59054    2019-10-29 12:50:16.899412\n",
       "Name: event_time, dtype: object"
      ]
     },
     "execution_count": 10,
     "metadata": {},
     "output_type": "execute_result"
    }
   ],
   "source": [
    "dataset['event_time'].sample()"
   ]
  },
  {
   "cell_type": "markdown",
   "id": "cfc269fa",
   "metadata": {},
   "source": [
    "Как видим информация о моменте события храниться с долей до микросекунды.\n",
    "\n",
    "Согласно исследованиям, среднее значение CPS(click per second) составляет 6.51 клика в секунду, по словам представителей Google мировой рекорд составляет 14.1. При чём это касается использования специальных манипуляторов, так как мышь например.\n",
    "\n",
    "В свою очередь, принимая во внимание, что в исследовании речь идёт о мобильном приложении, где следуя актуальным тенденциям, взаимодействие с интерфейсом построено на действиях, совершаемых в один клик (т.к. это не игра или прочее специализированое ПО, где CPS может оказывать значение), округлим временной момент события с точностью до 1 секунды.\n",
    "\n",
    "На основании вышеиложенного, сначала применим функцию `to_datetime` изменим тип данных рассматриваемого столбца, а позже применим функцию `dt.round` с переданным аргументом `S` для округления до секунд."
   ]
  },
  {
   "cell_type": "code",
   "execution_count": 11,
   "id": "c77484a8",
   "metadata": {},
   "outputs": [],
   "source": [
    "dataset['event_time'] = pd.to_datetime(dataset['event_time'], format='%Y-%m-%d %H:%M:%S')\n",
    "dataset['event_time'] = dataset['event_time'].dt.round('S')"
   ]
  },
  {
   "cell_type": "markdown",
   "id": "2d3c6ec2",
   "metadata": {},
   "source": [
    "Как мы помним, ранее, при первичном анализе, у нас не возникало явных дубликатов на сырых данных, однако, применим округление к столбу, хранящем сведения о моменте события, они могли возникнуть.\n",
    "\n",
    "Проверим данную теорию, применим последовательно функции `duplicated` и `sum`."
   ]
  },
  {
   "cell_type": "code",
   "execution_count": 12,
   "id": "a0132e53",
   "metadata": {},
   "outputs": [
    {
     "data": {
      "text/plain": [
       "1118"
      ]
     },
     "execution_count": 12,
     "metadata": {},
     "output_type": "execute_result"
    }
   ],
   "source": [
    "dataset.duplicated().sum()"
   ]
  },
  {
   "cell_type": "markdown",
   "id": "aee6249f",
   "metadata": {},
   "source": [
    "Как видим, у нас появилось 1 118 дубликатов. Взгляним на них детальнее. Выведем 4 первые и последние строки появившихся дубликатов."
   ]
  },
  {
   "cell_type": "code",
   "execution_count": 13,
   "id": "507b7418",
   "metadata": {},
   "outputs": [
    {
     "data": {
      "text/html": [
       "<div>\n",
       "<style scoped>\n",
       "    .dataframe tbody tr th:only-of-type {\n",
       "        vertical-align: middle;\n",
       "    }\n",
       "\n",
       "    .dataframe tbody tr th {\n",
       "        vertical-align: top;\n",
       "    }\n",
       "\n",
       "    .dataframe thead th {\n",
       "        text-align: right;\n",
       "    }\n",
       "</style>\n",
       "<table border=\"1\" class=\"dataframe\">\n",
       "  <thead>\n",
       "    <tr style=\"text-align: right;\">\n",
       "      <th></th>\n",
       "      <th>event_time</th>\n",
       "      <th>event_name</th>\n",
       "      <th>user_id</th>\n",
       "    </tr>\n",
       "  </thead>\n",
       "  <tbody>\n",
       "    <tr>\n",
       "      <th>395</th>\n",
       "      <td>2019-10-07 11:00:20</td>\n",
       "      <td>tips_show</td>\n",
       "      <td>fb667205-a708-4693-832d-363a30022cfc</td>\n",
       "    </tr>\n",
       "    <tr>\n",
       "      <th>396</th>\n",
       "      <td>2019-10-07 11:00:20</td>\n",
       "      <td>tips_show</td>\n",
       "      <td>fb667205-a708-4693-832d-363a30022cfc</td>\n",
       "    </tr>\n",
       "    <tr>\n",
       "      <th>421</th>\n",
       "      <td>2019-10-07 11:10:40</td>\n",
       "      <td>map</td>\n",
       "      <td>ed13f6f0-08f4-4561-852e-456580f7a40d</td>\n",
       "    </tr>\n",
       "    <tr>\n",
       "      <th>422</th>\n",
       "      <td>2019-10-07 11:10:40</td>\n",
       "      <td>map</td>\n",
       "      <td>ed13f6f0-08f4-4561-852e-456580f7a40d</td>\n",
       "    </tr>\n",
       "  </tbody>\n",
       "</table>\n",
       "</div>"
      ],
      "text/plain": [
       "             event_time event_name                               user_id\n",
       "395 2019-10-07 11:00:20  tips_show  fb667205-a708-4693-832d-363a30022cfc\n",
       "396 2019-10-07 11:00:20  tips_show  fb667205-a708-4693-832d-363a30022cfc\n",
       "421 2019-10-07 11:10:40        map  ed13f6f0-08f4-4561-852e-456580f7a40d\n",
       "422 2019-10-07 11:10:40        map  ed13f6f0-08f4-4561-852e-456580f7a40d"
      ]
     },
     "metadata": {},
     "output_type": "display_data"
    },
    {
     "data": {
      "text/html": [
       "<div>\n",
       "<style scoped>\n",
       "    .dataframe tbody tr th:only-of-type {\n",
       "        vertical-align: middle;\n",
       "    }\n",
       "\n",
       "    .dataframe tbody tr th {\n",
       "        vertical-align: top;\n",
       "    }\n",
       "\n",
       "    .dataframe thead th {\n",
       "        text-align: right;\n",
       "    }\n",
       "</style>\n",
       "<table border=\"1\" class=\"dataframe\">\n",
       "  <thead>\n",
       "    <tr style=\"text-align: right;\">\n",
       "      <th></th>\n",
       "      <th>event_time</th>\n",
       "      <th>event_name</th>\n",
       "      <th>user_id</th>\n",
       "    </tr>\n",
       "  </thead>\n",
       "  <tbody>\n",
       "    <tr>\n",
       "      <th>73838</th>\n",
       "      <td>2019-11-03 21:45:22</td>\n",
       "      <td>photos_show</td>\n",
       "      <td>1af9ffcd-2c77-4de0-9d35-3ff30604c9bd</td>\n",
       "    </tr>\n",
       "    <tr>\n",
       "      <th>73839</th>\n",
       "      <td>2019-11-03 21:45:22</td>\n",
       "      <td>photos_show</td>\n",
       "      <td>1af9ffcd-2c77-4de0-9d35-3ff30604c9bd</td>\n",
       "    </tr>\n",
       "    <tr>\n",
       "      <th>74027</th>\n",
       "      <td>2019-11-03 22:41:01</td>\n",
       "      <td>tips_show</td>\n",
       "      <td>16a5371c-152f-48d8-86fe-5636a931316b</td>\n",
       "    </tr>\n",
       "    <tr>\n",
       "      <th>74028</th>\n",
       "      <td>2019-11-03 22:41:01</td>\n",
       "      <td>tips_show</td>\n",
       "      <td>16a5371c-152f-48d8-86fe-5636a931316b</td>\n",
       "    </tr>\n",
       "  </tbody>\n",
       "</table>\n",
       "</div>"
      ],
      "text/plain": [
       "               event_time   event_name                               user_id\n",
       "73838 2019-11-03 21:45:22  photos_show  1af9ffcd-2c77-4de0-9d35-3ff30604c9bd\n",
       "73839 2019-11-03 21:45:22  photos_show  1af9ffcd-2c77-4de0-9d35-3ff30604c9bd\n",
       "74027 2019-11-03 22:41:01    tips_show  16a5371c-152f-48d8-86fe-5636a931316b\n",
       "74028 2019-11-03 22:41:01    tips_show  16a5371c-152f-48d8-86fe-5636a931316b"
      ]
     },
     "execution_count": 13,
     "metadata": {},
     "output_type": "execute_result"
    }
   ],
   "source": [
    "display(dataset.loc[dataset.duplicated(keep=False)].head(4))\n",
    "dataset.loc[dataset.duplicated(keep=False)].tail(4)"
   ]
  },
  {
   "cell_type": "markdown",
   "id": "a641a445",
   "metadata": {},
   "source": [
    "Скорее всего наличие дубликатов такого рода свидетельствует либо о технических проблемах с логированием событий, либо с совершением пользователем ошибочного второго нажатия.\n",
    "\n",
    "Учитывая, что их количество невелико отностильно имееющегося массива данных ~ 1,4 % (1 118 к 79 197), принимаем решение избавиться от дублей функцией `drop_duplicates`."
   ]
  },
  {
   "cell_type": "code",
   "execution_count": 14,
   "id": "f12b4c3b",
   "metadata": {},
   "outputs": [],
   "source": [
    "dataset = dataset.drop_duplicates()"
   ]
  },
  {
   "cell_type": "markdown",
   "id": "6b5f2cdc",
   "metadata": {},
   "source": [
    "Для преобразования типа в категориальные типы данных изучим дополнительно предлагаемые к преобразованию данные.\n",
    "\n",
    "Начнём со датасета `sources`:\n",
    "Для начала выведим на экран уникальные значения столбца `source` методом `unique`."
   ]
  },
  {
   "cell_type": "code",
   "execution_count": 15,
   "id": "6dadb1e3",
   "metadata": {},
   "outputs": [
    {
     "data": {
      "text/plain": [
       "array(['other', 'yandex', 'google'], dtype=object)"
      ]
     },
     "execution_count": 15,
     "metadata": {},
     "output_type": "execute_result"
    }
   ],
   "source": [
    "sources['source'].unique()"
   ]
  },
  {
   "cell_type": "markdown",
   "id": "b9131d83",
   "metadata": {},
   "source": [
    "Принимаемые значения соответвуют ТЗ, а также могут быть преобразованые в категориальный тип данных."
   ]
  },
  {
   "cell_type": "code",
   "execution_count": 16,
   "id": "5a1d27c0",
   "metadata": {},
   "outputs": [],
   "source": [
    "sources['source'] = sources['source'].astype('category')"
   ]
  },
  {
   "cell_type": "markdown",
   "id": "986db5db",
   "metadata": {},
   "source": [
    "Теперь перейдем в датасету `dataset`.\n",
    "\n",
    "Изучим уникальные значения столбца `event_name`."
   ]
  },
  {
   "cell_type": "code",
   "execution_count": 17,
   "id": "fd7f294c",
   "metadata": {},
   "outputs": [
    {
     "data": {
      "text/plain": [
       "array(['advert_open', 'tips_show', 'map', 'contacts_show', 'search_4',\n",
       "       'search_5', 'tips_click', 'photos_show', 'search_1', 'search_2',\n",
       "       'search_3', 'favorites_add', 'contacts_call', 'search_6',\n",
       "       'search_7', 'show_contacts'], dtype=object)"
      ]
     },
     "execution_count": 17,
     "metadata": {},
     "output_type": "execute_result"
    }
   ],
   "source": [
    "dataset['event_name'].unique()"
   ]
  },
  {
   "cell_type": "markdown",
   "id": "59fd81e8",
   "metadata": {},
   "source": [
    "Изучим детальные частоту совершения событий применив функцию `value_counts`."
   ]
  },
  {
   "cell_type": "code",
   "execution_count": 18,
   "id": "f841b1db",
   "metadata": {},
   "outputs": [
    {
     "data": {
      "text/plain": [
       "tips_show        39892\n",
       "photos_show       9372\n",
       "advert_open       6145\n",
       "contacts_show     4302\n",
       "map               3760\n",
       "search_1          3489\n",
       "favorites_add     1414\n",
       "search_5          1049\n",
       "tips_click         811\n",
       "search_4           701\n",
       "contacts_call      538\n",
       "search_3           521\n",
       "search_6           460\n",
       "search_2           324\n",
       "search_7           222\n",
       "show_contacts       79\n",
       "Name: event_name, dtype: int64"
      ]
     },
     "execution_count": 18,
     "metadata": {},
     "output_type": "execute_result"
    }
   ],
   "source": [
    "dataset['event_name'].value_counts()"
   ]
  },
  {
   "cell_type": "markdown",
   "id": "86fecc43",
   "metadata": {},
   "source": [
    "Исходя из того, что в рамках данного исследования не имеет значения ни количетсво совершаемых поисковых запросов пользователем, ни порядковый номер этого запроса, мы можем совершенно спокойно объединить все действия, связанные с поиском, в одно событие - `search`.\n",
    "\n",
    "Также объединим события `contacts_show` и `show_contacts`), принципиальной разницы в их сути нам доведено не было в ТЗ, поэтому прдполгаем, что `show_contacts` есть более ранее название `contacts_show` для одного и того же события \"просмотр контактов\", которое ошибочно закралось в лог. В связи с чем для описания такого типа события будем использовать то, которое произошло наибольшее количество раз - `contacts_show`(4 302) вместо `show_contacts`, которое произошло всего 79 раз."
   ]
  },
  {
   "cell_type": "code",
   "execution_count": 19,
   "id": "c464aa32",
   "metadata": {},
   "outputs": [],
   "source": [
    "# объединяем события, связанные с поиском\n",
    "dataset.loc[dataset['event_name'].str.contains('search'), 'event_name'] = 'search'\n",
    "\n",
    "# заменяем события show_contacts на contacts_show\n",
    "dataset.loc[dataset['event_name'] == 'show_contacts', 'event_name'] = 'contacts_show'"
   ]
  },
  {
   "cell_type": "markdown",
   "id": "ec62f539",
   "metadata": {},
   "source": [
    "Теперь, когда мы объединили(заменили) одинкавые по смыслу события, можем преобразовать тип данных в категориальный уже знакомым нам методом."
   ]
  },
  {
   "cell_type": "code",
   "execution_count": 20,
   "id": "bf0a2cc9",
   "metadata": {},
   "outputs": [],
   "source": [
    "dataset['event_name'] = dataset['event_name'].astype('category')"
   ]
  },
  {
   "cell_type": "markdown",
   "id": "e12deacc",
   "metadata": {},
   "source": [
    "<h4>Проверка соответствия пользователей в таблицах</h4>"
   ]
  },
  {
   "cell_type": "markdown",
   "id": "130f3d0d",
   "metadata": {},
   "source": [
    "В целях проверки наличия возможности бесшовного соединения данных из двух датасетов в один, проверим соотвествие пользователей в обоих списках, как признак по которому предполагается объединение.\n",
    "\n",
    "Для проверки равентсва пользователей в обоих таблицах применим функцию `equals`. \n",
    "В свою очередь, учитывая, что она применяется для сравнения двух Series или DataFrame, создадим из списка уникальных пользователей, полученых функцией `unique`, Series функцией `series`.\n",
    "\n",
    "На выходе `equals` вернёт True, если значения в сравнимаемых объектах равны, и False, если, соотвественно, нет."
   ]
  },
  {
   "cell_type": "code",
   "execution_count": 21,
   "id": "ee96a423",
   "metadata": {},
   "outputs": [
    {
     "data": {
      "text/plain": [
       "True"
      ]
     },
     "execution_count": 21,
     "metadata": {},
     "output_type": "execute_result"
    }
   ],
   "source": [
    "pd.Series(sources['user_id'].unique()).equals(pd.Series(dataset['user_id'].unique()))"
   ]
  },
  {
   "cell_type": "raw",
   "id": "69522bf9",
   "metadata": {},
   "source": [
    "# а можно было сделать проще применив сравнение к отсортированным спискам, но об этом я вспомнил позже.\n",
    "if sources['user_id'].unique().sort() == dataset['user_id'].unique().sort():\n",
    "    print (\"Пользователи в таблицах совпадают\")\n",
    "else:\n",
    "    print (\"Пользователи в таблицах не совпадают\")"
   ]
  },
  {
   "cell_type": "markdown",
   "id": "43ab0855",
   "metadata": {},
   "source": [
    "Как видим пользователи в изучаемых датафреймах совпадают."
   ]
  },
  {
   "cell_type": "markdown",
   "id": "b291ca6d",
   "metadata": {},
   "source": [
    "<h4>Создание единого датафрейма для анализа</h4>"
   ]
  },
  {
   "cell_type": "markdown",
   "id": "1eb26069",
   "metadata": {},
   "source": [
    "Применив функцию `merge` объединим два датафрейма в одну переменную, которую будем использовать в дальнейшем, а также выведем на экран любые 5 строк нового датафрейма."
   ]
  },
  {
   "cell_type": "code",
   "execution_count": 22,
   "id": "e73ec272",
   "metadata": {},
   "outputs": [
    {
     "data": {
      "text/html": [
       "<div>\n",
       "<style scoped>\n",
       "    .dataframe tbody tr th:only-of-type {\n",
       "        vertical-align: middle;\n",
       "    }\n",
       "\n",
       "    .dataframe tbody tr th {\n",
       "        vertical-align: top;\n",
       "    }\n",
       "\n",
       "    .dataframe thead th {\n",
       "        text-align: right;\n",
       "    }\n",
       "</style>\n",
       "<table border=\"1\" class=\"dataframe\">\n",
       "  <thead>\n",
       "    <tr style=\"text-align: right;\">\n",
       "      <th></th>\n",
       "      <th>event_time</th>\n",
       "      <th>event_name</th>\n",
       "      <th>user_id</th>\n",
       "      <th>source</th>\n",
       "    </tr>\n",
       "  </thead>\n",
       "  <tbody>\n",
       "    <tr>\n",
       "      <th>25797</th>\n",
       "      <td>2019-10-17 19:22:31</td>\n",
       "      <td>tips_show</td>\n",
       "      <td>b185d7d1-6610-4b4f-9d6a-06afb76a398b</td>\n",
       "      <td>google</td>\n",
       "    </tr>\n",
       "    <tr>\n",
       "      <th>71547</th>\n",
       "      <td>2019-11-03 16:01:50</td>\n",
       "      <td>tips_show</td>\n",
       "      <td>61c7b41d-9d33-48c3-b9b9-da54f2644bd0</td>\n",
       "      <td>other</td>\n",
       "    </tr>\n",
       "    <tr>\n",
       "      <th>32185</th>\n",
       "      <td>2019-10-20 13:16:57</td>\n",
       "      <td>advert_open</td>\n",
       "      <td>3521521c-99cb-4142-96cb-0b97cd5c60e6</td>\n",
       "      <td>yandex</td>\n",
       "    </tr>\n",
       "    <tr>\n",
       "      <th>55984</th>\n",
       "      <td>2019-10-28 17:27:23</td>\n",
       "      <td>tips_show</td>\n",
       "      <td>081bb564-703e-4f1c-9016-ac9460dec5bf</td>\n",
       "      <td>other</td>\n",
       "    </tr>\n",
       "    <tr>\n",
       "      <th>38910</th>\n",
       "      <td>2019-10-22 21:46:03</td>\n",
       "      <td>photos_show</td>\n",
       "      <td>f6f94ebe-e69a-4ae3-9fb0-312d52d35826</td>\n",
       "      <td>other</td>\n",
       "    </tr>\n",
       "  </tbody>\n",
       "</table>\n",
       "</div>"
      ],
      "text/plain": [
       "               event_time   event_name                               user_id  \\\n",
       "25797 2019-10-17 19:22:31    tips_show  b185d7d1-6610-4b4f-9d6a-06afb76a398b   \n",
       "71547 2019-11-03 16:01:50    tips_show  61c7b41d-9d33-48c3-b9b9-da54f2644bd0   \n",
       "32185 2019-10-20 13:16:57  advert_open  3521521c-99cb-4142-96cb-0b97cd5c60e6   \n",
       "55984 2019-10-28 17:27:23    tips_show  081bb564-703e-4f1c-9016-ac9460dec5bf   \n",
       "38910 2019-10-22 21:46:03  photos_show  f6f94ebe-e69a-4ae3-9fb0-312d52d35826   \n",
       "\n",
       "       source  \n",
       "25797  google  \n",
       "71547   other  \n",
       "32185  yandex  \n",
       "55984   other  \n",
       "38910   other  "
      ]
     },
     "execution_count": 22,
     "metadata": {},
     "output_type": "execute_result"
    }
   ],
   "source": [
    "df = dataset.merge(sources, on='user_id', how='left')\n",
    "df.sample(5)"
   ]
  },
  {
   "cell_type": "markdown",
   "id": "012976c9",
   "metadata": {},
   "source": [
    "<h2>Выводы</h2>\n",
    "\n",
    "Первичный взгляд на полученные для анализа данные выявил ряд моментов, которые были в дальнейшем устранены, в частности:\n",
    "- преобразования заголовков столбцов к одиному стилю (snake_case), что в дальнейшем повысит уровень читаемости и комфорта в работе,\n",
    "- преобразование типов данных, которые в конечном счёте теперь соответствуют реальности, а на больших объёмах данных позволят провести экономию занимаемого места (перевод в категориальный тип);\n",
    "- при преобразовании типов данных было выявлено и успешно устранено:\n",
    "    - удалены 1,4% дубликатов, возникших при округлении даты до 1 секунды,\n",
    "    - объединены равнозначные события по идентичным категориям;\n",
    "- проведена проверка соответсвия пользователей в обоих источников данных в дальнейшего создания единого датафрейма для анализа, который был успешно сформирован."
   ]
  },
  {
   "cell_type": "markdown",
   "id": "6a5a1dfe",
   "metadata": {},
   "source": [
    "<hr align=\"center\" width=\"80%\" size=\"3\" color=\"#0000dd\" />"
   ]
  },
  {
   "cell_type": "markdown",
   "id": "56f65543",
   "metadata": {},
   "source": [
    "<a id='step2'><a/> \n",
    "## Изучение и проверка данных\n",
    "[Назад к оглавлению](#back)"
   ]
  },
  {
   "cell_type": "markdown",
   "id": "48df9a82",
   "metadata": {},
   "source": [
    "В рамках данного раздела изучим события и пользователей в логах, выявим период наблюдения. Выделим и изучим пользовательские сессии."
   ]
  },
  {
   "cell_type": "markdown",
   "id": "0573e434",
   "metadata": {},
   "source": [
    "<hr align=\"center\" width=\"80%\" size=\"3\" color=\"#0000dd\" />"
   ]
  },
  {
   "cell_type": "markdown",
   "id": "5753cab3",
   "metadata": {},
   "source": [
    "<a id='step21'><a/> \n",
    "### Количество событий в логе\n",
    "[Назад к оглавлению](#back)"
   ]
  },
  {
   "cell_type": "markdown",
   "id": "c6837f39",
   "metadata": {},
   "source": [
    "Функцией `shape` с с переданным аргументом 0 выведем на экран количество строк в датафрейме, которые и будут равны количеству проишедших событий."
   ]
  },
  {
   "cell_type": "code",
   "execution_count": 23,
   "id": "5ceda732",
   "metadata": {},
   "outputs": [
    {
     "name": "stdout",
     "output_type": "stream",
     "text": [
      "Всего событий 73079.\n"
     ]
    }
   ],
   "source": [
    "print('Всего событий %d.' % (df.shape[0]))"
   ]
  },
  {
   "cell_type": "markdown",
   "id": "bc136c79",
   "metadata": {},
   "source": [
    "<hr align=\"center\" width=\"80%\" size=\"3\" color=\"#0000dd\" />"
   ]
  },
  {
   "cell_type": "markdown",
   "id": "2d480731",
   "metadata": {},
   "source": [
    "<a id='step22'><a/> \n",
    "### Количество пользователей\n",
    "[Назад к оглавлению](#back)"
   ]
  },
  {
   "cell_type": "markdown",
   "id": "f18b2ca2",
   "metadata": {},
   "source": [
    "Применим функцию `nunique`, чтобы вывести количество уникальных пользователей."
   ]
  },
  {
   "cell_type": "code",
   "execution_count": 24,
   "id": "e67b2a85",
   "metadata": {},
   "outputs": [
    {
     "name": "stdout",
     "output_type": "stream",
     "text": [
      "Всего пользователей 4293.\n"
     ]
    }
   ],
   "source": [
    "print('Всего пользователей %d.' % (df['user_id'].nunique()))"
   ]
  },
  {
   "cell_type": "markdown",
   "id": "b597a593",
   "metadata": {},
   "source": [
    "<hr align=\"center\" width=\"80%\" size=\"3\" color=\"#0000dd\" />"
   ]
  },
  {
   "cell_type": "markdown",
   "id": "07752191",
   "metadata": {},
   "source": [
    "<a id='step23'><a/> \n",
    "### Среднее количество событий на одного пользователя\n",
    "[Назад к оглавлению](#back)"
   ]
  },
  {
   "cell_type": "markdown",
   "id": "794cf3b4",
   "metadata": {},
   "source": [
    "Для расчёта среднего количества событий на одного пользователя сгруппируюм методом `groupby` датафрейм по столбцу `user_id` с применением аггрегирующей функции подсчёта, `count`, к столбцу с событиями, `event_name`, в последущем применив метод `describe` для вывода основных статистических характеристик."
   ]
  },
  {
   "cell_type": "code",
   "execution_count": 25,
   "id": "df407edb",
   "metadata": {},
   "outputs": [
    {
     "data": {
      "text/html": [
       "<div>\n",
       "<style scoped>\n",
       "    .dataframe tbody tr th:only-of-type {\n",
       "        vertical-align: middle;\n",
       "    }\n",
       "\n",
       "    .dataframe tbody tr th {\n",
       "        vertical-align: top;\n",
       "    }\n",
       "\n",
       "    .dataframe thead th {\n",
       "        text-align: right;\n",
       "    }\n",
       "</style>\n",
       "<table border=\"1\" class=\"dataframe\">\n",
       "  <thead>\n",
       "    <tr style=\"text-align: right;\">\n",
       "      <th></th>\n",
       "      <th>count</th>\n",
       "      <th>mean</th>\n",
       "      <th>std</th>\n",
       "      <th>min</th>\n",
       "      <th>25%</th>\n",
       "      <th>50%</th>\n",
       "      <th>75%</th>\n",
       "      <th>max</th>\n",
       "    </tr>\n",
       "  </thead>\n",
       "  <tbody>\n",
       "    <tr>\n",
       "      <th>event_name</th>\n",
       "      <td>4293.0</td>\n",
       "      <td>17.022828</td>\n",
       "      <td>28.617646</td>\n",
       "      <td>1.0</td>\n",
       "      <td>5.0</td>\n",
       "      <td>9.0</td>\n",
       "      <td>17.0</td>\n",
       "      <td>472.0</td>\n",
       "    </tr>\n",
       "  </tbody>\n",
       "</table>\n",
       "</div>"
      ],
      "text/plain": [
       "             count       mean        std  min  25%  50%   75%    max\n",
       "event_name  4293.0  17.022828  28.617646  1.0  5.0  9.0  17.0  472.0"
      ]
     },
     "execution_count": 25,
     "metadata": {},
     "output_type": "execute_result"
    }
   ],
   "source": [
    "df.groupby('user_id').agg({'event_name': 'count'}).describe().T"
   ]
  },
  {
   "cell_type": "markdown",
   "id": "daf6307b",
   "metadata": {},
   "source": [
    "Как мы можем видеть, в среднем на одного уникального пользователя приходится порядка 17 событий, медианное значение составляет 9 событий. \n",
    "\n",
    "На среднее значение сильно влияют выбросы (пользователи, с очень большим числом событий)."
   ]
  },
  {
   "cell_type": "markdown",
   "id": "f9806e89",
   "metadata": {},
   "source": [
    "<a id='step25'><a/> \n",
    "### Частота событий\n",
    "[Назад к оглавлению](#back)"
   ]
  },
  {
   "cell_type": "markdown",
   "id": "7119dfeb",
   "metadata": {},
   "source": [
    "В начале изучим частоту событий."
   ]
  },
  {
   "cell_type": "code",
   "execution_count": 26,
   "id": "22ddb66b",
   "metadata": {},
   "outputs": [
    {
     "data": {
      "text/html": [
       "<div>\n",
       "<style scoped>\n",
       "    .dataframe tbody tr th:only-of-type {\n",
       "        vertical-align: middle;\n",
       "    }\n",
       "\n",
       "    .dataframe tbody tr th {\n",
       "        vertical-align: top;\n",
       "    }\n",
       "\n",
       "    .dataframe thead th {\n",
       "        text-align: right;\n",
       "    }\n",
       "</style>\n",
       "<table border=\"1\" class=\"dataframe\">\n",
       "  <thead>\n",
       "    <tr style=\"text-align: right;\">\n",
       "      <th></th>\n",
       "      <th>event_name</th>\n",
       "      <th>event_count</th>\n",
       "      <th>event_ratio</th>\n",
       "    </tr>\n",
       "  </thead>\n",
       "  <tbody>\n",
       "    <tr>\n",
       "      <th>0</th>\n",
       "      <td>tips_show</td>\n",
       "      <td>39892</td>\n",
       "      <td>0.545875</td>\n",
       "    </tr>\n",
       "    <tr>\n",
       "      <th>1</th>\n",
       "      <td>photos_show</td>\n",
       "      <td>9372</td>\n",
       "      <td>0.128245</td>\n",
       "    </tr>\n",
       "    <tr>\n",
       "      <th>2</th>\n",
       "      <td>search</td>\n",
       "      <td>6766</td>\n",
       "      <td>0.092585</td>\n",
       "    </tr>\n",
       "    <tr>\n",
       "      <th>3</th>\n",
       "      <td>advert_open</td>\n",
       "      <td>6145</td>\n",
       "      <td>0.084087</td>\n",
       "    </tr>\n",
       "    <tr>\n",
       "      <th>4</th>\n",
       "      <td>contacts_show</td>\n",
       "      <td>4381</td>\n",
       "      <td>0.059949</td>\n",
       "    </tr>\n",
       "    <tr>\n",
       "      <th>5</th>\n",
       "      <td>map</td>\n",
       "      <td>3760</td>\n",
       "      <td>0.051451</td>\n",
       "    </tr>\n",
       "    <tr>\n",
       "      <th>6</th>\n",
       "      <td>favorites_add</td>\n",
       "      <td>1414</td>\n",
       "      <td>0.019349</td>\n",
       "    </tr>\n",
       "    <tr>\n",
       "      <th>7</th>\n",
       "      <td>tips_click</td>\n",
       "      <td>811</td>\n",
       "      <td>0.011098</td>\n",
       "    </tr>\n",
       "    <tr>\n",
       "      <th>8</th>\n",
       "      <td>contacts_call</td>\n",
       "      <td>538</td>\n",
       "      <td>0.007362</td>\n",
       "    </tr>\n",
       "  </tbody>\n",
       "</table>\n",
       "</div>"
      ],
      "text/plain": [
       "      event_name  event_count  event_ratio\n",
       "0      tips_show        39892     0.545875\n",
       "1    photos_show         9372     0.128245\n",
       "2         search         6766     0.092585\n",
       "3    advert_open         6145     0.084087\n",
       "4  contacts_show         4381     0.059949\n",
       "5            map         3760     0.051451\n",
       "6  favorites_add         1414     0.019349\n",
       "7     tips_click          811     0.011098\n",
       "8  contacts_call          538     0.007362"
      ]
     },
     "execution_count": 26,
     "metadata": {},
     "output_type": "execute_result"
    }
   ],
   "source": [
    "#поместим в переменную события и их частоту\n",
    "events_count_n_ratio = df['event_name'].value_counts().reset_index()\n",
    "#переименуем столбцы сообтветсвующим образом\n",
    "events_count_n_ratio.columns = ['event_name', 'event_count']\n",
    "#посчитаем соотнощение события к общему\n",
    "events_count_n_ratio['event_ratio'] = events_count_n_ratio['event_count'] / len(df)\n",
    "events_count_n_ratio"
   ]
  },
  {
   "cell_type": "markdown",
   "id": "ae7a2f44",
   "metadata": {},
   "source": [
    "Далее узнаем cколько пользователей приходится на каждое действие, следуя ранее используемой логике."
   ]
  },
  {
   "cell_type": "code",
   "execution_count": 27,
   "id": "ee3e6cbd",
   "metadata": {
    "scrolled": true
   },
   "outputs": [
    {
     "data": {
      "text/html": [
       "<div>\n",
       "<style scoped>\n",
       "    .dataframe tbody tr th:only-of-type {\n",
       "        vertical-align: middle;\n",
       "    }\n",
       "\n",
       "    .dataframe tbody tr th {\n",
       "        vertical-align: top;\n",
       "    }\n",
       "\n",
       "    .dataframe thead th {\n",
       "        text-align: right;\n",
       "    }\n",
       "</style>\n",
       "<table border=\"1\" class=\"dataframe\">\n",
       "  <thead>\n",
       "    <tr style=\"text-align: right;\">\n",
       "      <th></th>\n",
       "      <th>event_name</th>\n",
       "      <th>users_count</th>\n",
       "      <th>users_ratio</th>\n",
       "    </tr>\n",
       "  </thead>\n",
       "  <tbody>\n",
       "    <tr>\n",
       "      <th>0</th>\n",
       "      <td>tips_show</td>\n",
       "      <td>2801</td>\n",
       "      <td>0.652457</td>\n",
       "    </tr>\n",
       "    <tr>\n",
       "      <th>1</th>\n",
       "      <td>search</td>\n",
       "      <td>1666</td>\n",
       "      <td>0.388074</td>\n",
       "    </tr>\n",
       "    <tr>\n",
       "      <th>2</th>\n",
       "      <td>map</td>\n",
       "      <td>1456</td>\n",
       "      <td>0.339157</td>\n",
       "    </tr>\n",
       "    <tr>\n",
       "      <th>3</th>\n",
       "      <td>photos_show</td>\n",
       "      <td>1095</td>\n",
       "      <td>0.255066</td>\n",
       "    </tr>\n",
       "    <tr>\n",
       "      <th>4</th>\n",
       "      <td>contacts_show</td>\n",
       "      <td>981</td>\n",
       "      <td>0.228512</td>\n",
       "    </tr>\n",
       "    <tr>\n",
       "      <th>5</th>\n",
       "      <td>advert_open</td>\n",
       "      <td>751</td>\n",
       "      <td>0.174936</td>\n",
       "    </tr>\n",
       "    <tr>\n",
       "      <th>6</th>\n",
       "      <td>favorites_add</td>\n",
       "      <td>351</td>\n",
       "      <td>0.081761</td>\n",
       "    </tr>\n",
       "    <tr>\n",
       "      <th>7</th>\n",
       "      <td>tips_click</td>\n",
       "      <td>322</td>\n",
       "      <td>0.075006</td>\n",
       "    </tr>\n",
       "    <tr>\n",
       "      <th>8</th>\n",
       "      <td>contacts_call</td>\n",
       "      <td>213</td>\n",
       "      <td>0.049616</td>\n",
       "    </tr>\n",
       "  </tbody>\n",
       "</table>\n",
       "</div>"
      ],
      "text/plain": [
       "      event_name  users_count  users_ratio\n",
       "0      tips_show         2801     0.652457\n",
       "1         search         1666     0.388074\n",
       "2            map         1456     0.339157\n",
       "3    photos_show         1095     0.255066\n",
       "4  contacts_show          981     0.228512\n",
       "5    advert_open          751     0.174936\n",
       "6  favorites_add          351     0.081761\n",
       "7     tips_click          322     0.075006\n",
       "8  contacts_call          213     0.049616"
      ]
     },
     "execution_count": 27,
     "metadata": {},
     "output_type": "execute_result"
    }
   ],
   "source": [
    "users_count_n_ratio = df.groupby('event_name')['user_id'].nunique().sort_values(ascending=False).reset_index()\n",
    "users_count_n_ratio.columns = ['event_name', 'users_count']\n",
    "users_count_n_ratio['users_ratio'] = users_count_n_ratio['users_count'] / df['user_id'].nunique()\n",
    "users_count_n_ratio"
   ]
  },
  {
   "cell_type": "markdown",
   "id": "cb36c8dc",
   "metadata": {},
   "source": [
    "Самое распространенное действие среди пользователей - просмотр рекомендованных объявлений - более 54% от всех событий. Рекомендованные объявления просматривает 65% пользователей. Остальные действия совершают менее половины всех пользователей: на втором месте - действия по поиску (38% пользователей), на третьем - открытие карты объявлений (33% пользователей)."
   ]
  },
  {
   "cell_type": "markdown",
   "id": "ac9ce206",
   "metadata": {},
   "source": [
    "<hr align=\"center\" width=\"80%\" size=\"3\" color=\"#0000dd\" />"
   ]
  },
  {
   "cell_type": "markdown",
   "id": "baa0ea38",
   "metadata": {},
   "source": [
    "<a id='step24'><a/> \n",
    "### График активности пользователей\n",
    "[Назад к оглавлению](#back)"
   ]
  },
  {
   "cell_type": "markdown",
   "id": "cc24d469",
   "metadata": {},
   "source": [
    "Выясним за какой период предоставлены данные, а также оценим их полноту.\n",
    "\n",
    "Для определения максимальной и минимальной даты воспользуемся функциями `max` и `min` примеменными к столбцу `event_time`, хранищим информацию о дате события, а чтобы установить период за который мы имеем данный наёдм разницу между двумя этими датами."
   ]
  },
  {
   "cell_type": "code",
   "execution_count": 28,
   "id": "5ae13e32",
   "metadata": {},
   "outputs": [
    {
     "name": "stdout",
     "output_type": "stream",
     "text": [
      "Данные c 2019-10-07 00:00:00 по 2019-11-03 23:58:13, период составляет 28.0 дней.\n"
     ]
    }
   ],
   "source": [
    "print('Данные c %s по %s, период составляет %s дней.' % (df['event_time'].min(), df['event_time'].max(), np.ceil((df['event_time'].max()-df['event_time'].min())/np.timedelta64(1, 'D'))))"
   ]
  },
  {
   "cell_type": "markdown",
   "id": "7632f390",
   "metadata": {},
   "source": [
    "Изучим полноту данных построив гистограмму при помощи библиотеки `seaborn`."
   ]
  },
  {
   "cell_type": "code",
   "execution_count": 29,
   "id": "a1bf09bb",
   "metadata": {
    "scrolled": false
   },
   "outputs": [
    {
     "data": {
      "image/png": "[encoded data removed]",
      "text/plain": [
       "<Figure size 1440x720 with 1 Axes>"
      ]
     },
     "metadata": {
      "needs_background": "light"
     },
     "output_type": "display_data"
    }
   ],
   "source": [
    "f, ax = plt.subplots(figsize=(20, 10))\n",
    "sns.histplot(df,x=\"event_time\")\n",
    "plt.title('Распределение в разрезе даты и времени', size=20)\n",
    "plt.ylabel(\"Частота\", size=15)\n",
    "plt.xlabel(\"Дата\", size=15)\n",
    "plt.show()"
   ]
  },
  {
   "cell_type": "markdown",
   "id": "e52ee52e",
   "metadata": {},
   "source": [
    "Исходя из полученной гистограммы можно сделать вывод о том, что данные распределены равномерно."
   ]
  },
  {
   "cell_type": "markdown",
   "id": "14116b8d",
   "metadata": {},
   "source": [
    "<hr align=\"center\" width=\"80%\" size=\"3\" color=\"#0000dd\" />"
   ]
  },
  {
   "cell_type": "markdown",
   "id": "59d76858",
   "metadata": {},
   "source": [
    "<a id='step26'><a/> \n",
    "### Пользовательские сессии\n",
    "[Назад к оглавлению](#back)"
   ]
  },
  {
   "cell_type": "markdown",
   "id": "da784c06",
   "metadata": {},
   "source": [
    "В целях выделения пользовательских сессий расчитаем разницу между моментами времени каждого события в разрезе пользователей, применим функцию `diff`, результат действий положим в новую переменную.\n",
    "\n",
    "Функцией `describe` отобразим числовое описание времени между событиями."
   ]
  },
  {
   "cell_type": "code",
   "execution_count": 30,
   "id": "c0831425",
   "metadata": {},
   "outputs": [
    {
     "data": {
      "text/plain": [
       "count                        68786\n",
       "mean     0 days 03:56:48.409487395\n",
       "std      1 days 01:45:04.312930597\n",
       "min                0 days 00:00:00\n",
       "25%                0 days 00:00:26\n",
       "50%                0 days 00:01:12\n",
       "75%                0 days 00:03:04\n",
       "max               26 days 13:49:55\n",
       "Name: event_time, dtype: object"
      ]
     },
     "execution_count": 30,
     "metadata": {},
     "output_type": "execute_result"
    }
   ],
   "source": [
    "events_diff = df.groupby('user_id')['event_time'].diff()\n",
    "\n",
    "events_diff.describe()"
   ]
  },
  {
   "cell_type": "markdown",
   "id": "b21aadbb",
   "metadata": {},
   "source": [
    "Как видим время между событиями принимает значения в диапазоне от прометка менее секунды до практически 27 дней, при этом стандартное отклонение составляет 1 день 1 час 45 минут и 4 секунды, а 75% значений укладывается в 3 минуты 4 секунды.\n",
    "\n",
    "Это нормальная пользовательская активность для такого рода приложения: пользователь зашёл, совершил ряд действий, а далее отложил приложение до возникновения следующей потребности.\n",
    "\n",
    "Визуализируем полученные данные, сократив рассматриваемый диапазон до 30 минут (1 800 секунд)."
   ]
  },
  {
   "cell_type": "code",
   "execution_count": 31,
   "id": "7db0b53c",
   "metadata": {},
   "outputs": [
    {
     "data": {
      "image/png": "[encoded data removed]",
      "text/plain": [
       "<Figure size 576x432 with 1 Axes>"
      ]
     },
     "metadata": {
      "needs_background": "light"
     },
     "output_type": "display_data"
    }
   ],
   "source": [
    "events_diff.dt.seconds.plot( # применяем dt.seconds для преобразования данных в секунды\n",
    "    kind='hist',\n",
    "    bins=100,\n",
    "    range=(0, 1800),\n",
    "    figsize=(8, 6),\n",
    "    legend=False\n",
    ")\n",
    "\n",
    "plt.title('Время между событиями')\n",
    "plt.xlabel('Прошедшее время, с')\n",
    "plt.ylabel('Количество сессий')\n",
    "plt.show()"
   ]
  },
  {
   "cell_type": "markdown",
   "id": "83ab1198",
   "metadata": {},
   "source": [
    "Исходя из гистограммы можно сделать вывод, что основная часть сессий укладывается в 750 секунд. Данное значение выберем в качестве точки таймаута, после которой наступает новая пользовательская сессия.\n",
    "\n",
    "В целях индетификации пользовательских сессий отсортируем основной датафрейм в разрезе пользователей и момента события. \n",
    "\n",
    "Номер сессии присвои методом `cumsum`.\n",
    "\n",
    "Также отобразим количество выделенных сессий применив функцию `nunique` к новому столбца."
   ]
  },
  {
   "cell_type": "code",
   "execution_count": 32,
   "id": "2ecf6038",
   "metadata": {},
   "outputs": [
    {
     "name": "stdout",
     "output_type": "stream",
     "text": [
      "Выделено пользовательских сессий: 12006\n"
     ]
    }
   ],
   "source": [
    "df = df.sort_values(by=['user_id', 'event_time'])\n",
    "# создаём фильтр по user_id\n",
    "user_filter = df['user_id'] != df['user_id'].shift()\n",
    "# создаём фильтр по event_time с учётом сессии в 750 сек\n",
    "timeout = df['event_time'].diff() > pd.Timedelta('750sec') \n",
    "\n",
    "# формируем столбец с сессиями\n",
    "df['session_id'] = (user_filter | timeout).cumsum()\n",
    "\n",
    "\n",
    "print('Выделено пользовательских сессий:', df['session_id'].nunique())"
   ]
  },
  {
   "cell_type": "markdown",
   "id": "58cb44ef",
   "metadata": {},
   "source": [
    "Посчитаем сколько приходится сессий на одного пользователя.\n",
    "\n",
    "Для этого применим функцию `describe` к датафрейму сгруппированому в разрезе пользователей с применением аггрегирующей функции `nunique` к столбцу `session_id`."
   ]
  },
  {
   "cell_type": "code",
   "execution_count": 33,
   "id": "1bc912d0",
   "metadata": {},
   "outputs": [
    {
     "data": {
      "text/html": [
       "<div>\n",
       "<style scoped>\n",
       "    .dataframe tbody tr th:only-of-type {\n",
       "        vertical-align: middle;\n",
       "    }\n",
       "\n",
       "    .dataframe tbody tr th {\n",
       "        vertical-align: top;\n",
       "    }\n",
       "\n",
       "    .dataframe thead th {\n",
       "        text-align: right;\n",
       "    }\n",
       "</style>\n",
       "<table border=\"1\" class=\"dataframe\">\n",
       "  <thead>\n",
       "    <tr style=\"text-align: right;\">\n",
       "      <th></th>\n",
       "      <th>count</th>\n",
       "      <th>mean</th>\n",
       "      <th>std</th>\n",
       "      <th>min</th>\n",
       "      <th>25%</th>\n",
       "      <th>50%</th>\n",
       "      <th>75%</th>\n",
       "      <th>max</th>\n",
       "    </tr>\n",
       "  </thead>\n",
       "  <tbody>\n",
       "    <tr>\n",
       "      <th>session_id</th>\n",
       "      <td>4293.0</td>\n",
       "      <td>2.796646</td>\n",
       "      <td>4.419506</td>\n",
       "      <td>1.0</td>\n",
       "      <td>1.0</td>\n",
       "      <td>2.0</td>\n",
       "      <td>3.0</td>\n",
       "      <td>120.0</td>\n",
       "    </tr>\n",
       "  </tbody>\n",
       "</table>\n",
       "</div>"
      ],
      "text/plain": [
       "             count      mean       std  min  25%  50%  75%    max\n",
       "session_id  4293.0  2.796646  4.419506  1.0  1.0  2.0  3.0  120.0"
      ]
     },
     "execution_count": 33,
     "metadata": {},
     "output_type": "execute_result"
    }
   ],
   "source": [
    "df.groupby('user_id').agg({'session_id': 'nunique'}).describe().T"
   ]
  },
  {
   "cell_type": "markdown",
   "id": "24f64fe3",
   "metadata": {},
   "source": [
    "Среднее число сессий на пользователя: 2.7\n",
    "\n",
    "Медианное число сессий на пользователя: 2.0"
   ]
  },
  {
   "cell_type": "markdown",
   "id": "78b8ebe9",
   "metadata": {},
   "source": [
    "Также построим гистограмму, ограничив ототбражаемые границы значений количества сессий зоной без выбросов, т.е. от 1 до сумму третьего квартиля и межквартального размаха умноженного на 1,5, при этом межквартальный размах считаем как разницу между третьи и первым квартилем. Данные о значениях квартилей возмём из расчёта выше."
   ]
  },
  {
   "cell_type": "code",
   "execution_count": 34,
   "id": "24d0c23b",
   "metadata": {},
   "outputs": [
    {
     "data": {
      "image/png": "[encoded data removed]",
      "text/plain": [
       "<Figure size 576x432 with 1 Axes>"
      ]
     },
     "metadata": {
      "needs_background": "light"
     },
     "output_type": "display_data"
    }
   ],
   "source": [
    "df.groupby('user_id').agg({'session_id': 'nunique'}).plot(\n",
    "    kind='hist',\n",
    "    bins=5,\n",
    "    range=(1, (3 + 1.5 * (3-1))), \n",
    "    figsize=(8, 6),\n",
    "    legend=False\n",
    ")\n",
    "plt.title('Количество сессий в разрезе пользователей')\n",
    "plt.xlabel('Количество сессий')\n",
    "plt.ylabel('Число пользователей')\n",
    "plt.show()"
   ]
  },
  {
   "cell_type": "markdown",
   "id": "7720999c",
   "metadata": {},
   "source": [
    "В среднем на одного пользователя приходится 2,7 сессий, при этом медианное значение — 2 сессии на пользователя, которое меньше среднего за счёт длинного хвоста редких, но очень высоких значений. \n",
    "\n",
    "Судя по гистограмме, большинство пользователей действительно имели по 1 сессии и больше в приложение не возвращались."
   ]
  },
  {
   "cell_type": "markdown",
   "id": "9e2521ca",
   "metadata": {},
   "source": [
    "<hr align=\"center\" width=\"80%\" size=\"3\" color=\"#0000dd\" />"
   ]
  },
  {
   "cell_type": "markdown",
   "id": "45210204",
   "metadata": {},
   "source": [
    "<a id='step27'><a/> \n",
    "### Время в приложении\n",
    "[Назад к оглавлению](#back)"
   ]
  },
  {
   "cell_type": "markdown",
   "id": "745cb426",
   "metadata": {},
   "source": [
    "Для определения времении проведенном в приложении создадим временную переменную в которой произведем требуемые вычисления, а позже добавим полученные сведения в основной датафрейм."
   ]
  },
  {
   "cell_type": "code",
   "execution_count": 35,
   "id": "fc1cd6ee",
   "metadata": {},
   "outputs": [],
   "source": [
    "#расчитаем начало и конец сессии\n",
    "sessions_time = pd.pivot_table(df, index='session_id', values='event_time', aggfunc=['min','max'])\n",
    "#расчитаем время сессии\n",
    "sessions_time['session_time'] = (sessions_time['max'] - sessions_time['min'])\n",
    "#избавимся от мультииндекса\n",
    "sessions_time.columns = sessions_time.columns.map(''.join) \n",
    "sessions_time.reset_index()\n",
    "#удалим лишние столбцы\n",
    "sessions_time = sessions_time.drop(columns = ['minevent_time', 'maxevent_time'], axis = 1).reset_index()\n",
    "#присоединим к основной таблице\n",
    "df = df.merge(sessions_time, on='session_id', how='left') "
   ]
  },
  {
   "cell_type": "code",
   "execution_count": 36,
   "id": "20cf79c2",
   "metadata": {},
   "outputs": [
    {
     "name": "stdout",
     "output_type": "stream",
     "text": [
      "Cреднее время в приложении: 0 days 00:08:32.257871064\n"
     ]
    }
   ],
   "source": [
    "print('Cреднее время в приложении:', sessions_time['session_time'].mean())"
   ]
  },
  {
   "cell_type": "markdown",
   "id": "29b037dc",
   "metadata": {},
   "source": [
    "<hr align=\"center\" width=\"80%\" size=\"3\" color=\"#0000dd\" />"
   ]
  },
  {
   "cell_type": "markdown",
   "id": "cb4c06db",
   "metadata": {},
   "source": [
    "<a id='step28'><a/> \n",
    "### Конверсия в целевое действие(contacts_show)\n",
    "[Назад к оглавлению](#back)"
   ]
  },
  {
   "cell_type": "markdown",
   "id": "2b7df4b5",
   "metadata": {},
   "source": [
    "В целях расчёта конверсии в целевое действие(contacts_show) обоготим наш датафрейм столбцом, который будет содержать признак совершения целевого действия. Далее выделим список пользователь и признак соврешения целевого действия и поместим его в отдельную переменную."
   ]
  },
  {
   "cell_type": "code",
   "execution_count": 37,
   "id": "b4b6b712",
   "metadata": {},
   "outputs": [
    {
     "name": "stdout",
     "output_type": "stream",
     "text": [
      "Конверсия в целевое действие(contacts_show): 22.9%\n"
     ]
    }
   ],
   "source": [
    "df['target_action'] = df['event_name'] == 'contacts_show'\n",
    "target_action = df.groupby('user_id').agg({'target_action': 'max'}).reset_index()\n",
    "\n",
    "print('Конверсия в целевое действие(contacts_show): {:.1%}'.format(target_action[target_action['target_action'] == True]['user_id'].count()/target_action['user_id'].count()))"
   ]
  },
  {
   "cell_type": "markdown",
   "id": "8fc73e86",
   "metadata": {},
   "source": [
    "<a id='step29'><a/> \n",
    "### Пользовательские профили\n",
    "[Назад к оглавлению](#back)"
   ]
  },
  {
   "cell_type": "markdown",
   "id": "3d0b143d",
   "metadata": {},
   "source": [
    "Для дальнейшего расчёта метрик нам надо создадить список уникальных пользователей с данными о дате первого посещения и источнике привлечения пользователя.\n",
    "\n",
    "Поместим переменную `profiles` требуемый список пользователей, полученный путем группировки основного датефрейма по пользователем с применением аггрегирующих функций `min` к столбцу с моментами событий для поиска даты первого посещения и `first` к столбцу с источниками захода."
   ]
  },
  {
   "cell_type": "code",
   "execution_count": 38,
   "id": "18095917",
   "metadata": {},
   "outputs": [],
   "source": [
    "#формируем список\n",
    "profiles = df.groupby('user_id').agg({'event_time': 'min', 'source': 'first'})\n",
    "#оставляем тольео дату\n",
    "profiles['event_time'] = profiles['event_time'].dt.date \n",
    "#приводим в читаемый вид\n",
    "profiles = profiles.rename(columns={'event_time': 'first_session'}).reset_index() "
   ]
  },
  {
   "cell_type": "markdown",
   "id": "29bb8501",
   "metadata": {},
   "source": [
    "Посмотрим на сформированные профили"
   ]
  },
  {
   "cell_type": "code",
   "execution_count": 39,
   "id": "aa9da3ed",
   "metadata": {},
   "outputs": [
    {
     "data": {
      "text/html": [
       "<div>\n",
       "<style scoped>\n",
       "    .dataframe tbody tr th:only-of-type {\n",
       "        vertical-align: middle;\n",
       "    }\n",
       "\n",
       "    .dataframe tbody tr th {\n",
       "        vertical-align: top;\n",
       "    }\n",
       "\n",
       "    .dataframe thead th {\n",
       "        text-align: right;\n",
       "    }\n",
       "</style>\n",
       "<table border=\"1\" class=\"dataframe\">\n",
       "  <thead>\n",
       "    <tr style=\"text-align: right;\">\n",
       "      <th></th>\n",
       "      <th>user_id</th>\n",
       "      <th>first_session</th>\n",
       "      <th>source</th>\n",
       "    </tr>\n",
       "  </thead>\n",
       "  <tbody>\n",
       "    <tr>\n",
       "      <th>695</th>\n",
       "      <td>25c88ede-3fc5-47f8-812f-6f31c11c8134</td>\n",
       "      <td>2019-10-25</td>\n",
       "      <td>yandex</td>\n",
       "    </tr>\n",
       "    <tr>\n",
       "      <th>3107</th>\n",
       "      <td>ba2253ec-099d-42be-a66f-2b5e46505213</td>\n",
       "      <td>2019-10-30</td>\n",
       "      <td>other</td>\n",
       "    </tr>\n",
       "    <tr>\n",
       "      <th>510</th>\n",
       "      <td>1aff3e19-5dc9-4aba-94d6-6d4cda41309d</td>\n",
       "      <td>2019-10-26</td>\n",
       "      <td>google</td>\n",
       "    </tr>\n",
       "    <tr>\n",
       "      <th>4137</th>\n",
       "      <td>f6fc8cc6-7340-4be1-bb42-49ffa70ae230</td>\n",
       "      <td>2019-10-30</td>\n",
       "      <td>yandex</td>\n",
       "    </tr>\n",
       "    <tr>\n",
       "      <th>59</th>\n",
       "      <td>0410a648-99aa-4554-b064-963c2c5d1974</td>\n",
       "      <td>2019-11-02</td>\n",
       "      <td>yandex</td>\n",
       "    </tr>\n",
       "  </tbody>\n",
       "</table>\n",
       "</div>"
      ],
      "text/plain": [
       "                                   user_id first_session  source\n",
       "695   25c88ede-3fc5-47f8-812f-6f31c11c8134    2019-10-25  yandex\n",
       "3107  ba2253ec-099d-42be-a66f-2b5e46505213    2019-10-30   other\n",
       "510   1aff3e19-5dc9-4aba-94d6-6d4cda41309d    2019-10-26  google\n",
       "4137  f6fc8cc6-7340-4be1-bb42-49ffa70ae230    2019-10-30  yandex\n",
       "59    0410a648-99aa-4554-b064-963c2c5d1974    2019-11-02  yandex"
      ]
     },
     "execution_count": 39,
     "metadata": {},
     "output_type": "execute_result"
    }
   ],
   "source": [
    "profiles.sample(5)"
   ]
  },
  {
   "cell_type": "markdown",
   "id": "bf286b8e",
   "metadata": {},
   "source": [
    "<a id='step291'><a/> \n",
    "### Число уникальных пользователей в день\n",
    "[Назад к оглавлению](#back)"
   ]
  },
  {
   "cell_type": "markdown",
   "id": "9a5ee816",
   "metadata": {},
   "source": [
    "Для расчёта числа уникальных пользователей в день (DAU) нам понадобиться столбец с выделенным днём соврешенного события, добавим его к основному датафрейму использовав функцию `date` библиотеки `datetime`. \n",
    "\n",
    "DAU рассчиатаем путем группировки по новому столбцу с применением аггригирующей функции `nunique` с столбцу содержащей свеведения об индитификаторе пользователся."
   ]
  },
  {
   "cell_type": "code",
   "execution_count": 40,
   "id": "c07c7fde",
   "metadata": {},
   "outputs": [
    {
     "data": {
      "text/html": [
       "<div>\n",
       "<style scoped>\n",
       "    .dataframe tbody tr th:only-of-type {\n",
       "        vertical-align: middle;\n",
       "    }\n",
       "\n",
       "    .dataframe tbody tr th {\n",
       "        vertical-align: top;\n",
       "    }\n",
       "\n",
       "    .dataframe thead th {\n",
       "        text-align: right;\n",
       "    }\n",
       "</style>\n",
       "<table border=\"1\" class=\"dataframe\">\n",
       "  <thead>\n",
       "    <tr style=\"text-align: right;\">\n",
       "      <th>event_date</th>\n",
       "      <th>2019-10-07</th>\n",
       "      <th>2019-10-08</th>\n",
       "      <th>2019-10-09</th>\n",
       "      <th>2019-10-10</th>\n",
       "      <th>2019-10-11</th>\n",
       "      <th>2019-10-12</th>\n",
       "      <th>2019-10-13</th>\n",
       "      <th>2019-10-14</th>\n",
       "      <th>2019-10-15</th>\n",
       "      <th>2019-10-16</th>\n",
       "      <th>...</th>\n",
       "      <th>2019-10-25</th>\n",
       "      <th>2019-10-26</th>\n",
       "      <th>2019-10-27</th>\n",
       "      <th>2019-10-28</th>\n",
       "      <th>2019-10-29</th>\n",
       "      <th>2019-10-30</th>\n",
       "      <th>2019-10-31</th>\n",
       "      <th>2019-11-01</th>\n",
       "      <th>2019-11-02</th>\n",
       "      <th>2019-11-03</th>\n",
       "    </tr>\n",
       "  </thead>\n",
       "  <tbody>\n",
       "    <tr>\n",
       "      <th>user_id</th>\n",
       "      <td>204</td>\n",
       "      <td>204</td>\n",
       "      <td>227</td>\n",
       "      <td>233</td>\n",
       "      <td>206</td>\n",
       "      <td>178</td>\n",
       "      <td>226</td>\n",
       "      <td>298</td>\n",
       "      <td>303</td>\n",
       "      <td>278</td>\n",
       "      <td>...</td>\n",
       "      <td>305</td>\n",
       "      <td>287</td>\n",
       "      <td>299</td>\n",
       "      <td>348</td>\n",
       "      <td>312</td>\n",
       "      <td>313</td>\n",
       "      <td>325</td>\n",
       "      <td>279</td>\n",
       "      <td>240</td>\n",
       "      <td>285</td>\n",
       "    </tr>\n",
       "  </tbody>\n",
       "</table>\n",
       "<p>1 rows × 28 columns</p>\n",
       "</div>"
      ],
      "text/plain": [
       "event_date  2019-10-07  2019-10-08  2019-10-09  2019-10-10  2019-10-11  \\\n",
       "user_id            204         204         227         233         206   \n",
       "\n",
       "event_date  2019-10-12  2019-10-13  2019-10-14  2019-10-15  2019-10-16  ...  \\\n",
       "user_id            178         226         298         303         278  ...   \n",
       "\n",
       "event_date  2019-10-25  2019-10-26  2019-10-27  2019-10-28  2019-10-29  \\\n",
       "user_id            305         287         299         348         312   \n",
       "\n",
       "event_date  2019-10-30  2019-10-31  2019-11-01  2019-11-02  2019-11-03  \n",
       "user_id            313         325         279         240         285  \n",
       "\n",
       "[1 rows x 28 columns]"
      ]
     },
     "metadata": {},
     "output_type": "display_data"
    },
    {
     "name": "stdout",
     "output_type": "stream",
     "text": [
      "Средний DAU: 279.2\n"
     ]
    }
   ],
   "source": [
    "#сформируем столбец с датой год-месяц-день\n",
    "df['event_date']= pd.to_datetime(df['event_time'].dt.date)\n",
    "# рассчитаем DAU\n",
    "DAU = df.groupby('event_date').agg({'user_id': 'nunique'})\n",
    "#число уникальных пользователей в разрезе дней\n",
    "display(DAU.T)\n",
    "# рассчитаем и выведем средний DAU\n",
    "print('Средний DAU:',round(DAU['user_id'].mean(), 1))"
   ]
  },
  {
   "cell_type": "markdown",
   "id": "3045ab99",
   "metadata": {},
   "source": [
    "Построим график"
   ]
  },
  {
   "cell_type": "code",
   "execution_count": 41,
   "id": "e56743a6",
   "metadata": {},
   "outputs": [
    {
     "data": {
      "image/png": "[encoded data removed]",
      "text/plain": [
       "<Figure size 1080x576 with 1 Axes>"
      ]
     },
     "metadata": {
      "needs_background": "light"
     },
     "output_type": "display_data"
    }
   ],
   "source": [
    "DAU.plot(figsize=(15, 8), grid=True, marker='o', legend=False)\n",
    "plt.title('Число уникальных пользователей')\n",
    "plt.xlabel('дата')\n",
    "plt.ylabel('количество уникальных пользователей')\n",
    "\n",
    "plt.show()"
   ]
  },
  {
   "cell_type": "markdown",
   "id": "303ed8d1",
   "metadata": {},
   "source": [
    "Среднее число уникальных пользователей в день(DAU) составляет 279 уникальных пользователей.\n",
    "\n",
    "Минимальное значение DAU (178 пользователей) зафиксировано 12.10.2019, затем отмечается резкий рост, растущий тренднаблюдаетася до 31.10.2019, после идёт резкий спад."
   ]
  },
  {
   "cell_type": "markdown",
   "id": "adbd4bd1",
   "metadata": {},
   "source": [
    "<a id='step292'><a/> \n",
    "### Коэффициент удержания клиентов\n",
    "[Назад к оглавлению](#back)"
   ]
  },
  {
   "cell_type": "markdown",
   "id": "0a653d78",
   "metadata": {},
   "source": [
    "Для расчёта **Retention rate** создадим переменную куда поместим список пользовательских сессий путем группировки основного датафрейма по столбцам, содержащим сведения о пользователях и сессия, с применением аггрегирующей функции `min` к столбцу, содержащем сведения о моменте совершения события, для определения начала сессии."
   ]
  },
  {
   "cell_type": "code",
   "execution_count": 42,
   "id": "5ade336f",
   "metadata": {},
   "outputs": [],
   "source": [
    "#формируем список\n",
    "sessions = df.groupby(['user_id', 'session_id']).agg({'event_time': 'min'})\n",
    "#приводим в читаемый вид\n",
    "sessions = sessions.rename(columns={'event_time': 'session_start'}).reset_index()"
   ]
  },
  {
   "cell_type": "code",
   "execution_count": 43,
   "id": "f8b0709a",
   "metadata": {},
   "outputs": [],
   "source": [
    "# задаем максимальную дату привлечения\n",
    "max_acquisition_date = dt.datetime(2019, 10, 21).date()\n",
    "# задаем максимальный лайфтайм для графика\n",
    "max_lifetime = 14 \n",
    "\n",
    "# объединяем профили и сессий в одну переменную ограничевая максимальной датой привлечения\n",
    "rr = profiles.query('first_session <= @max_acquisition_date').merge(sessions[['user_id', 'session_start']], on='user_id', how='left')\n",
    "#устраняем конфликт типов данных для дальнейших расчётов\n",
    "rr['first_session'] = rr['first_session'].astype('datetime64') \n",
    "#считаем лайфтам\n",
    "rr['lifetime'] = (rr['session_start'] - rr['first_session']).dt.days \n",
    "\n",
    "#строии таблицу удержания\n",
    "rr_grouped = rr.pivot_table(index='first_session',columns='lifetime',values='user_id',aggfunc='nunique') \n",
    "\n",
    "# вычисляем размеры когорт\n",
    "cohort_sizes = rr.groupby('first_session').agg({'user_id': 'nunique'}).rename(columns={'user_id': 'cohort_size'})\n",
    "\n",
    "# объединяем размеры когорт и таблицу удержания\n",
    "rr_grouped = cohort_sizes.merge(rr_grouped, on='first_session', how='left').fillna(0)\n",
    "\n",
    "# делим данные таблицы удержания на размеры когорт\n",
    "rr_grouped = rr_grouped.div(rr_grouped['cohort_size'], axis=0)\n",
    "\n",
    "# учитываем максимальный лайфтайм\n",
    "rr_grouped = rr_grouped[['cohort_size'] + list(range(max_lifetime))]"
   ]
  },
  {
   "cell_type": "markdown",
   "id": "e5b69e9a",
   "metadata": {},
   "source": [
    "Построим тепловую карту удержания пользователей"
   ]
  },
  {
   "cell_type": "code",
   "execution_count": 44,
   "id": "d02fdf6a",
   "metadata": {},
   "outputs": [
    {
     "data": {
      "image/png": "[encoded data removed]",
      "text/plain": [
       "<Figure size 1152x576 with 2 Axes>"
      ]
     },
     "metadata": {
      "needs_background": "light"
     },
     "output_type": "display_data"
    }
   ],
   "source": [
    "plt.figure(figsize=(16, 8))\n",
    "sns.heatmap(rr_grouped.drop(columns=['cohort_size', 0]), annot=True, fmt='.2%')\n",
    "plt.title('Тепловая карта удержания пользователей')\n",
    "plt.ylabel('')\n",
    "plt.show()"
   ]
  },
  {
   "cell_type": "code",
   "execution_count": 45,
   "id": "5cdd2856",
   "metadata": {},
   "outputs": [
    {
     "name": "stdout",
     "output_type": "stream",
     "text": [
      "Средний retention rate 2 дня: 14.6\n",
      "Средний retention rate 14 дня: 4.1\n"
     ]
    }
   ],
   "source": [
    "print('Средний retention rate 2 дня:',round(rr_grouped[1].mean()*100, 1))\n",
    "print('Средний retention rate 14 дня:',round(rr_grouped[13].mean()*100, 1))"
   ]
  },
  {
   "cell_type": "markdown",
   "id": "686b1ef2",
   "metadata": {},
   "source": [
    "Для построения тепловой карты были выбраны пользователи для которых есть полные данные по активности за 14 дней, т.е. привлеченные с 7 по 21 октября 2019 года, \n",
    "\n",
    "На 2-й лайфтайм в мобильное приложение возвращается от 8 до 20% пользователей. Максимальный retention 2-го дня у когорты, привлеченной 12 октября.\n",
    "\n",
    "На 14-й лайфтайм в мобильное приложение возвращается от 0,6 до 6% пользователей. Максимальный retention 14-го дня у когорты, привлеченной 12 октября."
   ]
  },
  {
   "cell_type": "markdown",
   "id": "279291da",
   "metadata": {},
   "source": [
    "<h2>Выводы:</h2>\n",
    "\n",
    "- для анализа предоставлены действия за 28 дней в период c 2019-10-07 00:00:00 по 2019-11-03 23:58:13;\n",
    "- график распределения событий по дате и времени позволил сделать вывод о том, что данные распределены равномерно;\n",
    "- в логах содержится 73 079 событий, соверешенные 4 293 пользователями;\n",
    "- в среднем на одного уникального пользователя приходится порядка 17 событий, медианное значение составляет 9 событий, на среднее значение сильно влияют выбросы (пользователи, с очень большим числом событий);\n",
    "- самое распространенное действие - просмотр рекомендованных объявлений (более 54% от всех событий), рекомендованные объявления просматривает 65% пользователей, остальные действия совершают менее половины всех пользователей: на II месте - поиск (38% пользователей), на III - открытие карты (33% пользователей);\n",
    "- выделили пользовательские сессии и выяснили, в среднем на одного пользователя приходится 2,7 сессий, при этом медианное значение — 2 сессии на пользователя, которое меньше среднего за счёт длинного хвоста редких, но очень высоких значений;\n",
    "- визуализация количества сессий в разрезе пользователей показала, большинство пользователей имели по 1 сессии и больше в приложение не возвращались;\n",
    "- среднее время проведенное в приложении составляет чуть более 8 с половиной минут;\n",
    "- конверсия в целевое действие(contacts_show) составляла 22.9%;\n",
    "- среднее число уникальных пользователей в день составляет 279 уникальных пользователей;\n",
    "- средний retention rate 2-го дня составляет 14,6%, 14-го дня — 4,1%."
   ]
  },
  {
   "cell_type": "markdown",
   "id": "1824a62c",
   "metadata": {},
   "source": [
    "<hr align=\"center\" width=\"80%\" size=\"3\" color=\"#0000dd\" />"
   ]
  },
  {
   "cell_type": "markdown",
   "id": "9d6275bb",
   "metadata": {},
   "source": [
    "<a id='step3'><a/> \n",
    "## Анализ влияния событий на совершение целевого события\n",
    "[Назад к оглавлению](#back)"
   ]
  },
  {
   "cell_type": "markdown",
   "id": "dcd391d5",
   "metadata": {},
   "source": [
    "В целях анализа влияния иных событий на совершение целевого события выделим те из них, которые совершают пользователи вместе с целевым событием (события-компаньоны). Проанализируем, часто ли эти события бывают самостоятельными событиями пользователя или они составляют воронку. Проанализируем, за какое время до совершения целевого события совершаются вспомогательные события."
   ]
  },
  {
   "cell_type": "markdown",
   "id": "30754df6",
   "metadata": {},
   "source": [
    "<a id='step31'><a/> \n",
    "### \"События-компаньоны\"\n",
    "    \n",
    "[Назад к оглавлению](#back)"
   ]
  },
  {
   "cell_type": "markdown",
   "id": "d751b3b7",
   "metadata": {},
   "source": [
    "Для выделения таких событий найдём те, которые совершают пользователи чаще всего вместе с целевым событием: сделаем срез основного датафрейма по списку сессий с целевым действием и посчитаем события."
   ]
  },
  {
   "cell_type": "code",
   "execution_count": 46,
   "id": "73c79945",
   "metadata": {},
   "outputs": [
    {
     "data": {
      "text/plain": [
       "tips_show        6685\n",
       "contacts_show    4381\n",
       "photos_show      1267\n",
       "search            817\n",
       "advert_open       672\n",
       "contacts_call     538\n",
       "map               455\n",
       "favorites_add     212\n",
       "tips_click        176\n",
       "Name: event_name, dtype: int64"
      ]
     },
     "execution_count": 46,
     "metadata": {},
     "output_type": "execute_result"
    }
   ],
   "source": [
    "# определим сессии, в которых совершено целевое событие\n",
    "target_sessions_list = df.groupby('session_id').agg({'target_action': 'max'})\n",
    "#создаем список сессий с целевым действием\n",
    "target_sessions_list = target_sessions_list.query('target_action == True').index.to_list()\n",
    "\n",
    "# делаем срез по списку сессий с целевым действием и считаем события\n",
    "df.query('session_id in @target_sessions_list')['event_name'].value_counts()"
   ]
  },
  {
   "cell_type": "markdown",
   "id": "3c0a1cab",
   "metadata": {},
   "source": [
    "Как видим вместе с целевым дейтвием `contacts_show` рядом идут `tips_show`, `photos_show`, `search`,` advert_open`, `contacts_call` и `map`.\n",
    "\n",
    "При этом принем во внимание, что `tips_show` является событием, на которое пользователь не оказывает влияние, в связи с чем его и событие `tips_click`, являющееся его продолжением не будем рассматривать в качестве \"компаньона\". \n",
    "\n",
    "Аналогично поступим и для \"родственных\" событий `contacts_call` и `contacts_show`.\n",
    "\n",
    "Исходя из вышесказанного определим следующие \"события-компаньоны\": `photos_show`,`search`, `advert_open`, `map`."
   ]
  },
  {
   "cell_type": "markdown",
   "id": "3d2e7ef4",
   "metadata": {},
   "source": [
    "<a id='step32'><a/> \n",
    "### Воронка событий\n",
    "[Назад к оглавлению](#back)"
   ]
  },
  {
   "cell_type": "markdown",
   "id": "87802fa9",
   "metadata": {},
   "source": [
    "На данном этапе выясним составляют ли \"события-компаньоны\" воронку, которая заканчивается целевым событием.\n",
    "\n",
    "Для получения списков первых и всех событий и их частотности для пользователей, совершивших вспомогательные события, определим функцию `events_counts`, которая принимает событие, фильтрует пользователей, совершавших событие, возвращает лидиров первых событий и лидеров всех событий этих пользователей."
   ]
  },
  {
   "cell_type": "code",
   "execution_count": 47,
   "id": "a76dc068",
   "metadata": {},
   "outputs": [],
   "source": [
    "def events_counts(event):\n",
    "    # фильтруем совершавших событие пользователей\n",
    "    event_users = df.loc[df['event_name'] == event, 'user_id'].unique()\n",
    "    # первые события сессий\n",
    "    print(df.query('user_id in @event_users').groupby('session_id').agg({'event_name': 'first'})['event_name'].value_counts())\n",
    "    # все события\n",
    "    print(df.query('user_id in @event_users')['event_name'].value_counts())"
   ]
  },
  {
   "cell_type": "markdown",
   "id": "5b21135a",
   "metadata": {},
   "source": [
    "Применим функцию для получения событий пользователей, совершивших \"события-компаньоны\"."
   ]
  },
  {
   "cell_type": "code",
   "execution_count": 48,
   "id": "0ab0f145",
   "metadata": {},
   "outputs": [
    {
     "name": "stdout",
     "output_type": "stream",
     "text": [
      "Списки событий пользователей,\n",
      "совершавших событие photos_show \n",
      "\n",
      "photos_show      1950\n",
      "search           1242\n",
      "contacts_show     277\n",
      "advert_open       112\n",
      "favorites_add      90\n",
      "tips_show          18\n",
      "map                 6\n",
      "tips_click          2\n",
      "Name: event_name, dtype: int64\n",
      "photos_show      9372\n",
      "search           2820\n",
      "contacts_show    1085\n",
      "favorites_add     672\n",
      "advert_open       406\n",
      "contacts_call     401\n",
      "tips_show         231\n",
      "map                37\n",
      "tips_click          8\n",
      "Name: event_name, dtype: int64\n",
      "\n",
      "Списки событий пользователей,\n",
      "совершавших событие search \n",
      "\n",
      "search           2616\n",
      "tips_show        1027\n",
      "photos_show       823\n",
      "map               342\n",
      "advert_open       248\n",
      "contacts_show     226\n",
      "favorites_add      74\n",
      "tips_click          9\n",
      "Name: event_name, dtype: int64\n",
      "tips_show        13280\n",
      "search            6766\n",
      "photos_show       5547\n",
      "advert_open       3247\n",
      "contacts_show     1584\n",
      "map               1515\n",
      "favorites_add      852\n",
      "contacts_call      264\n",
      "tips_click         152\n",
      "Name: event_name, dtype: int64\n",
      "\n",
      "Списки событий пользователей,\n",
      "совершавших событие advert_open \n",
      "\n",
      "tips_show        943\n",
      "map              528\n",
      "advert_open      519\n",
      "search           474\n",
      "photos_show      212\n",
      "contacts_show    113\n",
      "favorites_add     62\n",
      "tips_click        16\n",
      "Name: event_name, dtype: int64\n",
      "tips_show        11384\n",
      "advert_open       6145\n",
      "search            1483\n",
      "map               1466\n",
      "photos_show       1323\n",
      "contacts_show      876\n",
      "favorites_add      724\n",
      "tips_click         182\n",
      "contacts_call       47\n",
      "Name: event_name, dtype: int64\n",
      "\n",
      "Списки событий пользователей,\n",
      "совершавших событие map \n",
      "\n",
      "tips_show        2186\n",
      "map              1377\n",
      "search            610\n",
      "advert_open       240\n",
      "contacts_show     167\n",
      "tips_click         30\n",
      "photos_show        25\n",
      "favorites_add      18\n",
      "Name: event_name, dtype: int64\n",
      "tips_show        24224\n",
      "advert_open       4534\n",
      "map               3760\n",
      "search            1907\n",
      "contacts_show     1843\n",
      "favorites_add      456\n",
      "tips_click         399\n",
      "photos_show        271\n",
      "contacts_call        0\n",
      "Name: event_name, dtype: int64\n",
      "\n"
     ]
    }
   ],
   "source": [
    "# циклом передадим функции список событий\n",
    "for event in ['photos_show', 'search', 'advert_open', 'map']:\n",
    "    print(\n",
    "        'Списки событий пользователей,\\nсовершавших событие',\n",
    "        event,\n",
    "        '\\n'\n",
    "    )\n",
    "    events_counts(event)\n",
    "    print()"
   ]
  },
  {
   "cell_type": "markdown",
   "id": "30ba4f9c",
   "metadata": {},
   "source": [
    "<h2>Выводы:</h2>\n",
    "\n",
    "Определили, что вместе с целевым событием совершаются следующие \"события-компаньоны\": `photos_show`,`search`, `advert_open`, `map`.\n",
    "\n",
    "Указанные выше события формируют 3 воронки событий (в скобках отмечено необязательное событие):\n",
    "\n",
    "* photos_show → search → (advert_open) → contacts_show\n",
    "* search → photos_show → (advert_open) → contacts_show\n",
    "* map → advert_open → (photos_show) → contacts_show\n"
   ]
  },
  {
   "cell_type": "markdown",
   "id": "2099aa19",
   "metadata": {},
   "source": [
    "<hr align=\"center\" width=\"80%\" size=\"3\" color=\"#0000dd\" />"
   ]
  },
  {
   "cell_type": "markdown",
   "id": "52bd4184",
   "metadata": {},
   "source": [
    "<a id='step4'><a/> \n",
    "## Сегментация пользователей\n",
    "[Назад к оглавлению](#back)"
   ]
  },
  {
   "cell_type": "markdown",
   "id": "caf42b38",
   "metadata": {},
   "source": [
    "<a id='step43'><a/> \n",
    "### Определение метрик для сегментации\n",
    "[Назад к оглавлению](#back)"
   ]
  },
  {
   "cell_type": "markdown",
   "id": "d532660a",
   "metadata": {},
   "source": [
    "В целях успешного разделения пользователей на группы определим набор метрик, которые позволят нам это сделать и создадим датафрейм куда поместим эти признаки.\n",
    "\n",
    "Предлагается выделить следуюшие метрики:\n",
    "* количество совершенных целевых действий;\n",
    "* количество пользовательских сессий;\n",
    "* количество времени, проведенное в приложении;\n",
    "* среднее время сессии;\n",
    "* атрибут совершения действия \"поиск\", как признак вовлеченности;\n",
    "* признак установки приложения из неизвестного нам источника.\n",
    "\n",
    "В переменную `users_group` поместим выделенные признаки в разрезе пользователей."
   ]
  },
  {
   "cell_type": "code",
   "execution_count": 49,
   "id": "80188027",
   "metadata": {},
   "outputs": [
    {
     "data": {
      "text/html": [
       "<div>\n",
       "<style scoped>\n",
       "    .dataframe tbody tr th:only-of-type {\n",
       "        vertical-align: middle;\n",
       "    }\n",
       "\n",
       "    .dataframe tbody tr th {\n",
       "        vertical-align: top;\n",
       "    }\n",
       "\n",
       "    .dataframe thead th {\n",
       "        text-align: right;\n",
       "    }\n",
       "</style>\n",
       "<table border=\"1\" class=\"dataframe\">\n",
       "  <thead>\n",
       "    <tr style=\"text-align: right;\">\n",
       "      <th></th>\n",
       "      <th>user_id</th>\n",
       "      <th>target_action</th>\n",
       "      <th>target_count</th>\n",
       "      <th>session_count</th>\n",
       "      <th>in_app_time_sec</th>\n",
       "      <th>average_time_sec</th>\n",
       "      <th>search</th>\n",
       "      <th>other_source</th>\n",
       "    </tr>\n",
       "  </thead>\n",
       "  <tbody>\n",
       "    <tr>\n",
       "      <th>4120</th>\n",
       "      <td>f60a4cd4-f82c-4897-9804-3b7b130b15ac</td>\n",
       "      <td>True</td>\n",
       "      <td>1.0</td>\n",
       "      <td>2</td>\n",
       "      <td>438.0</td>\n",
       "      <td>219.0</td>\n",
       "      <td>False</td>\n",
       "      <td>False</td>\n",
       "    </tr>\n",
       "    <tr>\n",
       "      <th>386</th>\n",
       "      <td>146c6d31-d314-4704-acac-b06c82dd13cd</td>\n",
       "      <td>True</td>\n",
       "      <td>2.0</td>\n",
       "      <td>2</td>\n",
       "      <td>734.0</td>\n",
       "      <td>367.0</td>\n",
       "      <td>False</td>\n",
       "      <td>True</td>\n",
       "    </tr>\n",
       "    <tr>\n",
       "      <th>3222</th>\n",
       "      <td>c12b870e-828e-40a4-b39a-2f4f92cb4afb</td>\n",
       "      <td>False</td>\n",
       "      <td>0.0</td>\n",
       "      <td>1</td>\n",
       "      <td>43.0</td>\n",
       "      <td>43.0</td>\n",
       "      <td>False</td>\n",
       "      <td>False</td>\n",
       "    </tr>\n",
       "    <tr>\n",
       "      <th>807</th>\n",
       "      <td>2d3aec1e-a800-4e81-a6af-7ace610aa8b1</td>\n",
       "      <td>True</td>\n",
       "      <td>2.0</td>\n",
       "      <td>4</td>\n",
       "      <td>4.0</td>\n",
       "      <td>1.0</td>\n",
       "      <td>True</td>\n",
       "      <td>False</td>\n",
       "    </tr>\n",
       "    <tr>\n",
       "      <th>2614</th>\n",
       "      <td>9c03f511-24e3-453d-8b2a-6ef5561d64d9</td>\n",
       "      <td>False</td>\n",
       "      <td>0.0</td>\n",
       "      <td>1</td>\n",
       "      <td>688.0</td>\n",
       "      <td>688.0</td>\n",
       "      <td>False</td>\n",
       "      <td>False</td>\n",
       "    </tr>\n",
       "  </tbody>\n",
       "</table>\n",
       "</div>"
      ],
      "text/plain": [
       "                                   user_id  target_action  target_count  \\\n",
       "4120  f60a4cd4-f82c-4897-9804-3b7b130b15ac           True           1.0   \n",
       "386   146c6d31-d314-4704-acac-b06c82dd13cd           True           2.0   \n",
       "3222  c12b870e-828e-40a4-b39a-2f4f92cb4afb          False           0.0   \n",
       "807   2d3aec1e-a800-4e81-a6af-7ace610aa8b1           True           2.0   \n",
       "2614  9c03f511-24e3-453d-8b2a-6ef5561d64d9          False           0.0   \n",
       "\n",
       "      session_count  in_app_time_sec  average_time_sec  search  other_source  \n",
       "4120              2            438.0             219.0   False         False  \n",
       "386               2            734.0             367.0   False          True  \n",
       "3222              1             43.0              43.0   False         False  \n",
       "807               4              4.0               1.0    True         False  \n",
       "2614              1            688.0             688.0   False         False  "
      ]
     },
     "execution_count": 49,
     "metadata": {},
     "output_type": "execute_result"
    }
   ],
   "source": [
    "#сформируем переменную путем объединения списка пользователей по признаку совершения целевого действия и \n",
    "#количеством соверщенных целевых действий\n",
    "users_group = target_action.merge(df.query('event_name == \"contacts_show\"').groupby('user_id', as_index=False).agg({'event_name':'count'}).rename(columns={'event_name':'target_count'}), on='user_id', how='left')\n",
    "#заполним пропуски нулями\n",
    "users_group['target_count'] = users_group['target_count'].fillna(0)\n",
    "#добавим количество сессий\n",
    "users_group = users_group.merge(df.groupby('user_id').agg({'session_id':'nunique'}).reset_index().rename(columns={'session_id':'session_count'}), on='user_id', how='left')\n",
    "#добавим суммарное время сессий - время в приложении\n",
    "users_group = users_group.merge(df.groupby(['user_id', 'session_id']).agg({'session_time':'min'}).reset_index().groupby('user_id').agg({'session_time':'sum'}).reset_index().rename(columns={'session_time':'in_app_time_sec'}), on='user_id', how='left')\n",
    "#переведем общее время в секунды\n",
    "users_group['in_app_time_sec'] = users_group['in_app_time_sec'].dt.total_seconds()\n",
    "#посчитаем среднее время сессии\n",
    "users_group['average_time_sec'] = round(users_group['in_app_time_sec']/users_group['session_count'],0)\n",
    "#добавим \"поиск\", как признак вовлеченности \n",
    "users_group['search'] = df['event_name'] == 'search'\n",
    "#добавим признак установки не из известных нам источников\n",
    "users_group['other_source'] = df['source'] == 'other'\n",
    "#выведем на экран\n",
    "users_group.sample(5)"
   ]
  },
  {
   "cell_type": "markdown",
   "id": "94696eb6",
   "metadata": {},
   "source": [
    "<a id='step44'><a/> \n",
    "### Матрица корреляции выбранных метрик для сегментации\n",
    "[Назад к оглавлению](#back)"
   ]
  },
  {
   "cell_type": "markdown",
   "id": "3bfe2dcb",
   "metadata": {},
   "source": [
    "Визуализируем матрицу корреляций выбранных метрик, полученную методом `corr`, с помощью библиотеки `seaborn`."
   ]
  },
  {
   "cell_type": "code",
   "execution_count": 50,
   "id": "e552ac6f",
   "metadata": {},
   "outputs": [
    {
     "data": {
      "text/plain": [
       "<AxesSubplot:title={'center':'Тепловая карта для матрицы корреляций'}>"
      ]
     },
     "execution_count": 50,
     "metadata": {},
     "output_type": "execute_result"
    },
    {
     "data": {
      "image/png": "[encoded data removed]",
      "text/plain": [
       "<Figure size 1152x576 with 2 Axes>"
      ]
     },
     "metadata": {
      "needs_background": "light"
     },
     "output_type": "display_data"
    }
   ],
   "source": [
    "plt.figure(figsize=(16, 8))\n",
    "plt.title('Тепловая карта для матрицы корреляций')\n",
    "sns.heatmap(users_group.corr(), annot=True, fmt='.2f',square=True)"
   ]
  },
  {
   "cell_type": "markdown",
   "id": "cdafee5f",
   "metadata": {},
   "source": [
    "Из полученной тепловой карты можно сделать вывод:\n",
    "* есть высокая зависимость (0,71) между количеством сессий и временем проведенным в приложение(наибольшая положительная корреляция);\n",
    "* есть средние зависимости (0,51) между количеством сессий/количеством проведенного времени в приложениии и количеством совершенных целевых действий, что вполне объясними, чем больше пользователь использует приложение, тем выше шанс соврешения покупки через него;\n",
    "* есть слабая засимость (0,4) между пользователями совершившими целевое действие и их количеством, что говорит о том, что соврешивший однажды целевое действие с большей вероятностью последующем его совершит повторно.\n",
    "* есть слабая связь (0,23) между пользователями совершившими целевое действие и количеством сессий, что логично, т.к. люди, использующие приложение более одного раза, делают это с определенной целью с большей вероятностью;\n",
    "* интресно также отметить, что существуют наибольшая отрицательная связь, хоть и очень слабая (-0,09) между количеством и средним временем сессии, скорее всего этого говорит о том, что с каждым разом пользователю проще пользоваться приложением, т.к. он его лучше узнает."
   ]
  },
  {
   "cell_type": "markdown",
   "id": "08f8c386",
   "metadata": {},
   "source": [
    "<a id='step45'><a/> \n",
    "### Сегментация и первые выводы\n",
    "[Назад к оглавлению](#back)"
   ]
  },
  {
   "cell_type": "markdown",
   "id": "9f8d1396",
   "metadata": {},
   "source": [
    "В целях сегментации пользователей по выбранным метрикам произведем иерархическую кластеризацию пользователей с привлечением библиотек `sklearn` и `scipy`."
   ]
  },
  {
   "cell_type": "code",
   "execution_count": 51,
   "id": "fffa8140",
   "metadata": {
    "scrolled": true
   },
   "outputs": [
    {
     "data": {
      "image/png": "[encoded data removed]",
      "text/plain": [
       "<Figure size 1440x576 with 1 Axes>"
      ]
     },
     "metadata": {
      "needs_background": "light"
     },
     "output_type": "display_data"
    }
   ],
   "source": [
    "# в целях искоючения подглядования помимимо столбца с индификаторами пользователя также столбец с признаком \n",
    "#соверешения целевого действия\n",
    "X = users_group.drop(['user_id', 'target_action'], axis=1)\n",
    "\n",
    "sc = StandardScaler()\n",
    "X_sc = sc.fit_transform(X)\n",
    "\n",
    "linked = linkage(X_sc, method = 'ward')\n",
    "plt.figure(figsize=(20, 8))  \n",
    "dendrogram(linked, orientation='top')\n",
    "plt.title('Иерархическая кластеризация пользователей')\n",
    "plt.show();"
   ]
  },
  {
   "cell_type": "markdown",
   "id": "812c7714",
   "metadata": {},
   "source": [
    "Исходя из полученной дендграммы оптимальным будет выделение 5 групп пользователей.\n",
    "\n",
    "Кластеризацию проведем путем применения метода k-средних из библиотеки `sklearn`."
   ]
  },
  {
   "cell_type": "code",
   "execution_count": 52,
   "id": "a0f4200f",
   "metadata": {},
   "outputs": [
    {
     "data": {
      "text/html": [
       "<div>\n",
       "<style scoped>\n",
       "    .dataframe tbody tr th:only-of-type {\n",
       "        vertical-align: middle;\n",
       "    }\n",
       "\n",
       "    .dataframe tbody tr th {\n",
       "        vertical-align: top;\n",
       "    }\n",
       "\n",
       "    .dataframe thead th {\n",
       "        text-align: right;\n",
       "    }\n",
       "</style>\n",
       "<table border=\"1\" class=\"dataframe\">\n",
       "  <thead>\n",
       "    <tr style=\"text-align: right;\">\n",
       "      <th></th>\n",
       "      <th>user_id</th>\n",
       "      <th>target_action</th>\n",
       "      <th>target_count</th>\n",
       "      <th>session_count</th>\n",
       "      <th>in_app_time_sec</th>\n",
       "      <th>average_time_sec</th>\n",
       "      <th>search</th>\n",
       "      <th>other_source</th>\n",
       "      <th>cluster</th>\n",
       "    </tr>\n",
       "  </thead>\n",
       "  <tbody>\n",
       "    <tr>\n",
       "      <th>0</th>\n",
       "      <td>0001b1d5-b74a-4cbf-aeb0-7df5947bf349</td>\n",
       "      <td>False</td>\n",
       "      <td>0.0</td>\n",
       "      <td>4</td>\n",
       "      <td>2760.0</td>\n",
       "      <td>690.0</td>\n",
       "      <td>False</td>\n",
       "      <td>True</td>\n",
       "      <td>3</td>\n",
       "    </tr>\n",
       "    <tr>\n",
       "      <th>1</th>\n",
       "      <td>00157779-810c-4498-9e05-a1e9e3cedf93</td>\n",
       "      <td>True</td>\n",
       "      <td>11.0</td>\n",
       "      <td>9</td>\n",
       "      <td>7671.0</td>\n",
       "      <td>852.0</td>\n",
       "      <td>False</td>\n",
       "      <td>True</td>\n",
       "      <td>0</td>\n",
       "    </tr>\n",
       "    <tr>\n",
       "      <th>2</th>\n",
       "      <td>00463033-5717-4bf1-91b4-09183923b9df</td>\n",
       "      <td>False</td>\n",
       "      <td>0.0</td>\n",
       "      <td>1</td>\n",
       "      <td>1483.0</td>\n",
       "      <td>1483.0</td>\n",
       "      <td>False</td>\n",
       "      <td>True</td>\n",
       "      <td>3</td>\n",
       "    </tr>\n",
       "    <tr>\n",
       "      <th>3</th>\n",
       "      <td>004690c3-5a84-4bb7-a8af-e0c8f8fca64e</td>\n",
       "      <td>False</td>\n",
       "      <td>0.0</td>\n",
       "      <td>10</td>\n",
       "      <td>2012.0</td>\n",
       "      <td>201.0</td>\n",
       "      <td>False</td>\n",
       "      <td>True</td>\n",
       "      <td>3</td>\n",
       "    </tr>\n",
       "    <tr>\n",
       "      <th>4</th>\n",
       "      <td>00551e79-152e-4441-9cf7-565d7eb04090</td>\n",
       "      <td>True</td>\n",
       "      <td>3.0</td>\n",
       "      <td>3</td>\n",
       "      <td>560.0</td>\n",
       "      <td>187.0</td>\n",
       "      <td>False</td>\n",
       "      <td>True</td>\n",
       "      <td>3</td>\n",
       "    </tr>\n",
       "  </tbody>\n",
       "</table>\n",
       "</div>"
      ],
      "text/plain": [
       "                                user_id  target_action  target_count  \\\n",
       "0  0001b1d5-b74a-4cbf-aeb0-7df5947bf349          False           0.0   \n",
       "1  00157779-810c-4498-9e05-a1e9e3cedf93           True          11.0   \n",
       "2  00463033-5717-4bf1-91b4-09183923b9df          False           0.0   \n",
       "3  004690c3-5a84-4bb7-a8af-e0c8f8fca64e          False           0.0   \n",
       "4  00551e79-152e-4441-9cf7-565d7eb04090           True           3.0   \n",
       "\n",
       "   session_count  in_app_time_sec  average_time_sec  search  other_source  \\\n",
       "0              4           2760.0             690.0   False          True   \n",
       "1              9           7671.0             852.0   False          True   \n",
       "2              1           1483.0            1483.0   False          True   \n",
       "3             10           2012.0             201.0   False          True   \n",
       "4              3            560.0             187.0   False          True   \n",
       "\n",
       "   cluster  \n",
       "0        3  \n",
       "1        0  \n",
       "2        3  \n",
       "3        3  \n",
       "4        3  "
      ]
     },
     "execution_count": 52,
     "metadata": {},
     "output_type": "execute_result"
    }
   ],
   "source": [
    "#обучим модель\n",
    "km = KMeans(n_clusters=5, random_state = 0)\n",
    "labels = km.fit_predict(X_sc)\n",
    "\n",
    "#поместим в датафрейм\n",
    "users_group['cluster'] = labels\n",
    "users_group.head()"
   ]
  },
  {
   "cell_type": "code",
   "execution_count": 53,
   "id": "81ec74a4",
   "metadata": {},
   "outputs": [
    {
     "data": {
      "text/plain": [
       "<AxesSubplot:title={'center':'Распределение по кластерам'}, ylabel='cluster'>"
      ]
     },
     "execution_count": 53,
     "metadata": {},
     "output_type": "execute_result"
    },
    {
     "data": {
      "image/png": "[encoded data removed]",
      "text/plain": [
       "<Figure size 432x288 with 1 Axes>"
      ]
     },
     "metadata": {},
     "output_type": "display_data"
    }
   ],
   "source": [
    "users_group['cluster'].value_counts().plot(kind='pie', y='cluster', autopct='%1.0f%%',title='Распределение по кластерам')"
   ]
  },
  {
   "cell_type": "markdown",
   "id": "c06e67db",
   "metadata": {},
   "source": [
    "Определим средние значения выбранных метрик в рамках проведенной кластеризации."
   ]
  },
  {
   "cell_type": "code",
   "execution_count": 54,
   "id": "d409ecf9",
   "metadata": {},
   "outputs": [],
   "source": [
    "clusters = users_group.groupby('cluster').mean().reset_index()\n",
    "#добавим информацию о ёмкости кластера\n",
    "clusters = clusters.merge(users_group.groupby('cluster').agg({'user_id':'count'}).reset_index().rename(columns={'user_id':'user_amount'}), on='cluster', how='left')\n",
    "#для удобства переведем временные показатели в минуты и округлим до целового в большую сторону\n",
    "clusters['average_time_sec'] = np.ceil(clusters['average_time_sec'] / 60)\n",
    "clusters['in_app_time_sec'] = np.ceil(clusters['in_app_time_sec'] / 60)\n",
    "#отразим это изменив наименования столбцов\n",
    "clusters = clusters.rename(columns={'in_app_time_sec':'in_app_time_min', 'average_time_sec':'average_time_min'})"
   ]
  },
  {
   "cell_type": "code",
   "execution_count": 55,
   "id": "b71ea349",
   "metadata": {},
   "outputs": [
    {
     "data": {
      "text/html": [
       "<div>\n",
       "<style scoped>\n",
       "    .dataframe tbody tr th:only-of-type {\n",
       "        vertical-align: middle;\n",
       "    }\n",
       "\n",
       "    .dataframe tbody tr th {\n",
       "        vertical-align: top;\n",
       "    }\n",
       "\n",
       "    .dataframe thead th {\n",
       "        text-align: right;\n",
       "    }\n",
       "</style>\n",
       "<table border=\"1\" class=\"dataframe\">\n",
       "  <thead>\n",
       "    <tr style=\"text-align: right;\">\n",
       "      <th></th>\n",
       "      <th>cluster</th>\n",
       "      <th>target_action</th>\n",
       "      <th>target_count</th>\n",
       "      <th>session_count</th>\n",
       "      <th>in_app_time_min</th>\n",
       "      <th>average_time_min</th>\n",
       "      <th>search</th>\n",
       "      <th>other_source</th>\n",
       "      <th>user_amount</th>\n",
       "    </tr>\n",
       "  </thead>\n",
       "  <tbody>\n",
       "    <tr>\n",
       "      <th>0</th>\n",
       "      <td>0</td>\n",
       "      <td>0.354756</td>\n",
       "      <td>2.822622</td>\n",
       "      <td>6.311054</td>\n",
       "      <td>95.0</td>\n",
       "      <td>31.0</td>\n",
       "      <td>0.025707</td>\n",
       "      <td>0.138817</td>\n",
       "      <td>389</td>\n",
       "    </tr>\n",
       "    <tr>\n",
       "      <th>1</th>\n",
       "      <td>1</td>\n",
       "      <td>0.211194</td>\n",
       "      <td>0.593657</td>\n",
       "      <td>2.251119</td>\n",
       "      <td>15.0</td>\n",
       "      <td>8.0</td>\n",
       "      <td>0.000000</td>\n",
       "      <td>0.000000</td>\n",
       "      <td>2680</td>\n",
       "    </tr>\n",
       "    <tr>\n",
       "      <th>2</th>\n",
       "      <td>2</td>\n",
       "      <td>0.221154</td>\n",
       "      <td>0.778846</td>\n",
       "      <td>2.670673</td>\n",
       "      <td>22.0</td>\n",
       "      <td>10.0</td>\n",
       "      <td>1.000000</td>\n",
       "      <td>0.211538</td>\n",
       "      <td>416</td>\n",
       "    </tr>\n",
       "    <tr>\n",
       "      <th>3</th>\n",
       "      <td>3</td>\n",
       "      <td>0.216352</td>\n",
       "      <td>0.698113</td>\n",
       "      <td>2.285535</td>\n",
       "      <td>16.0</td>\n",
       "      <td>9.0</td>\n",
       "      <td>0.000000</td>\n",
       "      <td>1.000000</td>\n",
       "      <td>795</td>\n",
       "    </tr>\n",
       "    <tr>\n",
       "      <th>4</th>\n",
       "      <td>4</td>\n",
       "      <td>1.000000</td>\n",
       "      <td>62.538462</td>\n",
       "      <td>45.384615</td>\n",
       "      <td>446.0</td>\n",
       "      <td>11.0</td>\n",
       "      <td>0.076923</td>\n",
       "      <td>0.384615</td>\n",
       "      <td>13</td>\n",
       "    </tr>\n",
       "  </tbody>\n",
       "</table>\n",
       "</div>"
      ],
      "text/plain": [
       "   cluster  target_action  target_count  session_count  in_app_time_min  \\\n",
       "0        0       0.354756      2.822622       6.311054             95.0   \n",
       "1        1       0.211194      0.593657       2.251119             15.0   \n",
       "2        2       0.221154      0.778846       2.670673             22.0   \n",
       "3        3       0.216352      0.698113       2.285535             16.0   \n",
       "4        4       1.000000     62.538462      45.384615            446.0   \n",
       "\n",
       "   average_time_min    search  other_source  user_amount  \n",
       "0              31.0  0.025707      0.138817          389  \n",
       "1               8.0  0.000000      0.000000         2680  \n",
       "2              10.0  1.000000      0.211538          416  \n",
       "3               9.0  0.000000      1.000000          795  \n",
       "4              11.0  0.076923      0.384615           13  "
      ]
     },
     "execution_count": 55,
     "metadata": {},
     "output_type": "execute_result"
    }
   ],
   "source": [
    "clusters"
   ]
  },
  {
   "cell_type": "markdown",
   "id": "060f4784",
   "metadata": {},
   "source": [
    "<h4>Первые выводы:</h4>\n",
    "\n",
    "Проведенная кластеризация выделила 5 групп пользователей:\n",
    "- 1(кластер \"0\") - в группу входит 389 человек, что составляет порядка 9% от общего количество изучаемых пользователей, главной отличительной чертой этой группы является наибольшее среднее время сессии - около 31 минуты, при этом пользователи данной в среднем совершают почти 3 целывых действия, а конверсия в это составляет 35%, что занимает вторую строчку общего рейтинга, также 2-е место принадлежит этой группе и по количеству сессий, чуть более 6, и общему времени в приложении - 95 минут;\n",
    "- 2(кластер \"1\") - самая мнгочисленная группа, в нёё входит 2 680 пользователей, что составляет 62%, её характеризует наименьшее количество проведенного времени в приложении, соотвественно, и общего времени и количество сессий, отличительной чертой является, что пользователи не используют поиск, а также на 100% привлеченые путем google/yandex, по прочим показателем она находиться на худших позициях;\n",
    "- 3(кластер \"2\") - группа крепких середнячков куда входит 10% пользователей (416 человек), отличительной чертой является то, что это пльзователи, которые целенаправленно пришли в приложения (100% используют поиск), остальное признаки группы находяться на третьем месте: можно сказать, что это люди, которые знают зачем пришли, однако не найдя это продолжают заходить в приложение, и вслучае успешного поиска совершают покупку, т.к. количество совершенных действий в ней стримиться к 1.\n",
    "- 4(кластер \"3\") - группа на 100% пришедшая из неизвестных источников, а также неипользующая поиск в принципе, составляет 19% пользователей(795 человек), по остальным признаком находиться ненамного ниже группы №3, из чего можно высказать предположение, что это пользователи, которые пришли по рекомендации знакомых, заинтересованы в приложении, однако, не освоили принципы работы, также, возможно, если в приложение есть возможность делиться ссылками на объявления, они перешли по ним от других пользователей;\n",
    "- 5(кластер \"4) - \"группа 100% успеха\", самая немногочисленная, состоящая из 13 человек, эти пользователи пользуються приложением чаще всего: порядка 45-и 11-х минутных сессий и 62 целевых действия на одного человека, казлось бы мечта, но нет - они почти не пользуются поиском, следовательно, скорее всего это люди, одержимые импульсивными покупками, которые шерстят приложение в поисках счастья - есть большая вероятность, что рекламные объявления на них действуют лучше всего."
   ]
  },
  {
   "cell_type": "markdown",
   "id": "91f5640a",
   "metadata": {},
   "source": [
    "<a id='step5'><a/> \n",
    "## Ответы на запрос заказчика\n",
    "[Назад к оглавлению](#back)"
   ]
  },
  {
   "cell_type": "markdown",
   "id": "5b531d61",
   "metadata": {},
   "source": [
    "Заказчиком сформулированы следующие вопросы:\n",
    "* Пользователи какой группы склонны часто возвращаться в мобильное приложение (Retention rate)?\n",
    "* Пользователи какой группы часто делают целевое событие (конверсия в целевое действие)?\n",
    "* Как различается время между распространенными событиями пользователей из разных групп?"
   ]
  },
  {
   "cell_type": "markdown",
   "id": "0af3f685",
   "metadata": {},
   "source": [
    "<a id='step51'><a/> \n",
    "### Пользователи какой группы склонны часто возвращаться в мобильное приложение (Retention rate)?\n",
    "[Назад к оглавлению](#back)"
   ]
  },
  {
   "cell_type": "markdown",
   "id": "562fd98d",
   "metadata": {},
   "source": [
    "В целях ответа на данный вопросы совершим ряд манипуляций для расчёта RR в разрезе недель, а ввиду многочисленности выбранных групп определим функцию, которая позволит нам сократиьт время, необходимое для рассчётов."
   ]
  },
  {
   "cell_type": "code",
   "execution_count": 56,
   "id": "9e2e3969",
   "metadata": {},
   "outputs": [],
   "source": [
    "df['event_week'] = df['event_time'].dt.isocalendar().week\n",
    "df['event_week'] = df['event_week'].astype('int64')"
   ]
  },
  {
   "cell_type": "code",
   "execution_count": 57,
   "id": "f80734ea",
   "metadata": {},
   "outputs": [],
   "source": [
    "df = df.merge(df.groupby(['user_id'])['event_date'].min().reset_index().rename(columns={'event_date':'first_activity_date'}), on='user_id', how='left')\n"
   ]
  },
  {
   "cell_type": "code",
   "execution_count": 58,
   "id": "19f5770c",
   "metadata": {
    "scrolled": true
   },
   "outputs": [],
   "source": [
    "df['first_activity_date'] = pd.to_datetime(df['first_activity_date'])\n",
    "df['first_activity_week'] = df['first_activity_date'].dt.isocalendar().week\n",
    "df['first_activity_week'] = df['first_activity_week'].astype('int64')"
   ]
  },
  {
   "cell_type": "code",
   "execution_count": 59,
   "id": "e23bfdf8",
   "metadata": {},
   "outputs": [],
   "source": [
    "df['cohort_lifetime'] = df['event_week'] - df['first_activity_week']"
   ]
  },
  {
   "cell_type": "code",
   "execution_count": 60,
   "id": "2b888759",
   "metadata": {},
   "outputs": [],
   "source": [
    "df = df.merge(users_group[['user_id','cluster']], on='user_id', how='left')"
   ]
  },
  {
   "cell_type": "markdown",
   "id": "4e306d70",
   "metadata": {},
   "source": [
    "Определим функцию в которую передав номер кластера получим `retenrion rate` требуемой группы, а также средний показатель второй недели с общей визуализацией."
   ]
  },
  {
   "cell_type": "code",
   "execution_count": 61,
   "id": "ae37a781",
   "metadata": {},
   "outputs": [],
   "source": [
    "def rr_for_cluster(cluster):\n",
    "    print('Тепловая карта retention rate для группы №', cluster+1)\n",
    "    df_cluster = df[df['cluster'] == cluster]\n",
    "    cohorts_cluster = df_cluster.groupby(['first_activity_week', 'cohort_lifetime']).agg({'user_id': 'nunique'}).reset_index()\n",
    "\n",
    "    cohorts_cluster_initial = cohorts_cluster[cohorts_cluster['cohort_lifetime'] == 0][['first_activity_week', 'user_id']]\n",
    "    cohorts_cluster_initial = cohorts_cluster_initial.rename(columns={'user_id': 'cohort_size'})\n",
    "\n",
    "    cohorts_cluster = cohorts_cluster.merge(cohorts_cluster_initial, on='first_activity_week', how='left')\n",
    "    cohorts_cluster['retention'] = cohorts_cluster['user_id'] / cohorts_cluster['cohort_size']\n",
    "    cohorts_cluster_pivot = cohorts_cluster.pivot_table(index='first_activity_week', columns='cohort_lifetime', values='retention', aggfunc='sum')\n",
    "    print('Средний retention rate 2-й недели:',round(cohorts_cluster_pivot[1].mean()*100, 1))\n",
    "    print('Средний retention rate 4-й недели:',round(cohorts_cluster_pivot[3].mean()*100, 1))\n",
    "    sns.set(style='white')\n",
    "    plt.figure(figsize=(8,6))\n",
    "    plt.title('Retention rate')\n",
    "    sns.heatmap(cohorts_cluster_pivot, annot=True, fmt='.1%', linewidth=1, linecolor='gray')\n",
    "    plt.show()"
   ]
  },
  {
   "cell_type": "code",
   "execution_count": 62,
   "id": "48e1f4fa",
   "metadata": {},
   "outputs": [
    {
     "name": "stdout",
     "output_type": "stream",
     "text": [
      "Тепловая карта retention rate для группы № 1\n",
      "Средний retention rate 2-й недели: 42.9\n",
      "Средний retention rate 4-й недели: 23.5\n"
     ]
    },
    {
     "data": {
      "image/png": "[encoded data removed]",
      "text/plain": [
       "<Figure size 576x432 with 2 Axes>"
      ]
     },
     "metadata": {},
     "output_type": "display_data"
    },
    {
     "name": "stdout",
     "output_type": "stream",
     "text": [
      "Тепловая карта retention rate для группы № 2\n",
      "Средний retention rate 2-й недели: 21.1\n",
      "Средний retention rate 4-й недели: 7.2\n"
     ]
    },
    {
     "data": {
      "image/png": "[encoded data removed]",
      "text/plain": [
       "<Figure size 576x432 with 2 Axes>"
      ]
     },
     "metadata": {},
     "output_type": "display_data"
    },
    {
     "name": "stdout",
     "output_type": "stream",
     "text": [
      "Тепловая карта retention rate для группы № 3\n",
      "Средний retention rate 2-й недели: 24.3\n",
      "Средний retention rate 4-й недели: 8.3\n"
     ]
    },
    {
     "data": {
      "image/png": "[encoded data removed]",
      "text/plain": [
       "<Figure size 576x432 with 2 Axes>"
      ]
     },
     "metadata": {},
     "output_type": "display_data"
    },
    {
     "name": "stdout",
     "output_type": "stream",
     "text": [
      "Тепловая карта retention rate для группы № 4\n",
      "Средний retention rate 2-й недели: 18.8\n",
      "Средний retention rate 4-й недели: 10.8\n"
     ]
    },
    {
     "data": {
      "image/png": "[encoded data removed]",
      "text/plain": [
       "<Figure size 576x432 with 2 Axes>"
      ]
     },
     "metadata": {},
     "output_type": "display_data"
    },
    {
     "name": "stdout",
     "output_type": "stream",
     "text": [
      "Тепловая карта retention rate для группы № 5\n",
      "Средний retention rate 2-й недели: 81.9\n",
      "Средний retention rate 4-й недели: 88.9\n"
     ]
    },
    {
     "data": {
      "image/png": "[encoded data removed]",
      "text/plain": [
       "<Figure size 576x432 with 2 Axes>"
      ]
     },
     "metadata": {},
     "output_type": "display_data"
    }
   ],
   "source": [
    "for cn in sorted(df['cluster'].unique()):\n",
    "    rr_for_cluster(cn)"
   ]
  },
  {
   "cell_type": "markdown",
   "id": "b447b6da",
   "metadata": {},
   "source": [
    "Средний `retention rate`, для II и IV недели, в разрезе групп выглядит следющим образом:\n",
    "* 1 - 42,9 | 23,5 %\n",
    "* 2 - 21,1 |  7,2 %\n",
    "* 3 - 24,3 |  8,3 %\n",
    "* 4 - 18,8 | 10,8 %\n",
    "* 5 - 81,9 | 88,9 %.\n",
    "\n",
    "Хорошие показатели по обоим рассматриваемым неделял показывает группа №1, напомним, что они обладают лучшим показателем по средней длине сессий, при этом совершают в среднем почти 3 целевых действия. По всей видимости это и есть \"костяк\" пользователей мобильного приложения.\n",
    "\n",
    "Вторая группа имеет наименьший retention rate IV недели - 7,2 %, напомним, что она самая мнгоночисленная и состоит на 100% пришла по источникам google/yandex, по всей видмисоти - это \"залетные птички\", которые поддались на рекламу, установили приложение, немного попользовались, сочли его неитересным и перестали использовать, целевое действие в этой группе совершило наименьшее количество человек.\n",
    "\n",
    "Третья группа показывает средние показатели (особенность - 100% поиск) что подтверждает тезис о том, что это они пришли за чем-то конретным и используют приложение по назначению.\n",
    "\n",
    "Четвертая группа (100% из неизвестного источника) имеет худший показатель второй недели, что возможно подтвержает тезис о том, что они пришли по наводке от друзей/знакомых, при этом показатели IV недели находяться на 3-м месте, что возможно сведетельствует о возможности работы с данным сегментом.\n",
    "\n",
    "Ожидаемо, самый высокий показатель retention rate второй недели в группе №5, однако, следует обратить внимание, что в данную группу не вошли пользователи 43 и 44 недели использования приложения, RR 4-й недели ещё больше высок, но он сформирован пользователся только кагорты недели 41. Следует провести дополнительное расследование почему в эту группу не попал не один человек из кагорт 43/44. Возможно эта группа тестировщиков приложения.\n",
    "\n"
   ]
  },
  {
   "cell_type": "markdown",
   "id": "32e6fdf8",
   "metadata": {},
   "source": [
    "<a id='step52'><a/> \n",
    "### Пользователи какой группы часто делают целевое событие (конверсия в целевое действие)?\n",
    "[Назад к оглавлению](#back)"
   ]
  },
  {
   "cell_type": "code",
   "execution_count": 63,
   "id": "9d7e8c5a",
   "metadata": {},
   "outputs": [
    {
     "data": {
      "text/html": [
       "<div>\n",
       "<style scoped>\n",
       "    .dataframe tbody tr th:only-of-type {\n",
       "        vertical-align: middle;\n",
       "    }\n",
       "\n",
       "    .dataframe tbody tr th {\n",
       "        vertical-align: top;\n",
       "    }\n",
       "\n",
       "    .dataframe thead th {\n",
       "        text-align: right;\n",
       "    }\n",
       "</style>\n",
       "<table border=\"1\" class=\"dataframe\">\n",
       "  <thead>\n",
       "    <tr style=\"text-align: right;\">\n",
       "      <th></th>\n",
       "      <th>cluster</th>\n",
       "      <th>target_action</th>\n",
       "    </tr>\n",
       "  </thead>\n",
       "  <tbody>\n",
       "    <tr>\n",
       "      <th>4</th>\n",
       "      <td>4</td>\n",
       "      <td>1.000000</td>\n",
       "    </tr>\n",
       "    <tr>\n",
       "      <th>0</th>\n",
       "      <td>0</td>\n",
       "      <td>0.354756</td>\n",
       "    </tr>\n",
       "    <tr>\n",
       "      <th>2</th>\n",
       "      <td>2</td>\n",
       "      <td>0.221154</td>\n",
       "    </tr>\n",
       "    <tr>\n",
       "      <th>3</th>\n",
       "      <td>3</td>\n",
       "      <td>0.216352</td>\n",
       "    </tr>\n",
       "    <tr>\n",
       "      <th>1</th>\n",
       "      <td>1</td>\n",
       "      <td>0.211194</td>\n",
       "    </tr>\n",
       "  </tbody>\n",
       "</table>\n",
       "</div>"
      ],
      "text/plain": [
       "   cluster  target_action\n",
       "4        4       1.000000\n",
       "0        0       0.354756\n",
       "2        2       0.221154\n",
       "3        3       0.216352\n",
       "1        1       0.211194"
      ]
     },
     "execution_count": 63,
     "metadata": {},
     "output_type": "execute_result"
    }
   ],
   "source": [
    "clusters[['cluster','target_action']].sort_values('target_action', ascending=False)"
   ]
  },
  {
   "cell_type": "markdown",
   "id": "655c2c66",
   "metadata": {},
   "source": [
    "Пользователи 5-й группы в среднем совершают наибольшее количество целевых действий, несмотря на их малочисленность, далее следуют пользователи 1 группы, которые по нашему виденью составляют целевую группу приложения.\n",
    "\n",
    "Но посмотрим под ещё один углом на этот вопрос: каково соотношение целевых действий к количеству сессий."
   ]
  },
  {
   "cell_type": "code",
   "execution_count": 64,
   "id": "05690d4b",
   "metadata": {},
   "outputs": [
    {
     "data": {
      "text/plain": [
       "0    0.447251\n",
       "1    0.263716\n",
       "2    0.291629\n",
       "3    0.305449\n",
       "4    1.377966\n",
       "dtype: float64"
      ]
     },
     "execution_count": 64,
     "metadata": {},
     "output_type": "execute_result"
    }
   ],
   "source": [
    "clusters['target_count']/clusters['session_count']"
   ]
  },
  {
   "cell_type": "markdown",
   "id": "5f55ab61",
   "metadata": {},
   "source": [
    "Как видно из рассчёта почти каждая вторая сессия группы №1 знаканчивается целевым действием.\n",
    "\n",
    "А для группы пять приходиться более 1-го целевого действия на сессию. Надо дополнительно исследовать причины такой активности: шопоголизм это либо группа тестировщиков, а может в целом аномалии, связанные с техническими ошибками логирования."
   ]
  },
  {
   "cell_type": "markdown",
   "id": "86e537d0",
   "metadata": {},
   "source": [
    "<a id='step53'><a/> \n",
    "### Как различается время между распространенными событиями пользователей из разных групп?\n",
    "[Назад к оглавлению](#back)"
   ]
  },
  {
   "cell_type": "markdown",
   "id": "67effaf0",
   "metadata": {},
   "source": [
    "Исходя из построенных выше построеных воронок, можно сделаь вывод, что значимыми событиями в цепочке использования приложения выступают следующие шаги:\n",
    "* `search` → `photos_show` → `(advert_open)` → `contacts_show`\n",
    "* `map` → `advert_open` → `(photos_show)` → `contacts_show`\n",
    "\n",
    "Исходя из них можно сформировать наиболее распостраненные события, цепочка которых будет выглядеть следующим образом:\n",
    "<div align='center'><b>search/map → photos_show/advert_open → contacts_show </b></div>\n",
    "\n",
    "Пользователь ищёт нужную вещь либо просматривает карту с объявлениями, потом открывает карточку объявления либо просматривает фотографии, а позже совершает целевое действие.\n",
    "\n",
    "\n",
    "Чтобы ответить на данный вопрос рассчитаем среднее время между шагом 1 и шагом 2 в разрезе групп."
   ]
  },
  {
   "cell_type": "code",
   "execution_count": 65,
   "id": "4693731e",
   "metadata": {},
   "outputs": [],
   "source": [
    "#выделяем события относящиеся с первому шагу из основного датафрейма, учитывая признак соврешения целевого действия\n",
    "first_step = df[df['target_action'] != 0 & df['event_name'].isin(['search', 'map'])][['cluster','session_id','event_name','event_time']]\n",
    "#определяем первое событие в разрезе сессий\n",
    "first_step = first_step.groupby(['cluster','session_id']).agg({'event_time':'first'}).reset_index().rename(columns={\"event_time\":\"first_search\"})\n",
    "#выделяем второй шаг в разрезе сессий, попавший в первый шаг\n",
    "next_step = df[df['session_id'].isin(first_step['session_id'].unique()) & df['event_name'].isin(['photos_show', 'advert_open'])][['cluster','session_id','event_name','event_time']]\n",
    "#определяем последнее время второго действия в шаге\n",
    "next_step = next_step.groupby(['cluster','session_id']).agg({'event_time':'last'}).reset_index().rename(columns={\"event_time\":\"last_next_step\"})\n",
    "#формируем воронку\n",
    "event_funnel = first_step.merge(next_step, on=['cluster','session_id'], how='inner')"
   ]
  },
  {
   "cell_type": "code",
   "execution_count": 66,
   "id": "b2af5891",
   "metadata": {},
   "outputs": [
    {
     "data": {
      "text/html": [
       "<div>\n",
       "<style scoped>\n",
       "    .dataframe tbody tr th:only-of-type {\n",
       "        vertical-align: middle;\n",
       "    }\n",
       "\n",
       "    .dataframe tbody tr th {\n",
       "        vertical-align: top;\n",
       "    }\n",
       "\n",
       "    .dataframe thead th {\n",
       "        text-align: right;\n",
       "    }\n",
       "</style>\n",
       "<table border=\"1\" class=\"dataframe\">\n",
       "  <thead>\n",
       "    <tr style=\"text-align: right;\">\n",
       "      <th></th>\n",
       "      <th>cluster</th>\n",
       "      <th>session_id</th>\n",
       "      <th>first_search</th>\n",
       "      <th>last_next_step</th>\n",
       "      <th>step_time</th>\n",
       "    </tr>\n",
       "  </thead>\n",
       "  <tbody>\n",
       "    <tr>\n",
       "      <th>293</th>\n",
       "      <td>1</td>\n",
       "      <td>10473</td>\n",
       "      <td>2019-10-23 16:54:46</td>\n",
       "      <td>2019-10-23 16:58:02</td>\n",
       "      <td>196.0</td>\n",
       "    </tr>\n",
       "  </tbody>\n",
       "</table>\n",
       "</div>"
      ],
      "text/plain": [
       "     cluster  session_id        first_search      last_next_step  step_time\n",
       "293        1       10473 2019-10-23 16:54:46 2019-10-23 16:58:02      196.0"
      ]
     },
     "execution_count": 66,
     "metadata": {},
     "output_type": "execute_result"
    }
   ],
   "source": [
    "#вычесляем время шага\n",
    "event_funnel['step_time'] = event_funnel['last_next_step'] - event_funnel['first_search']\n",
    "event_funnel['step_time'] = event_funnel['step_time'].dt.total_seconds()\n",
    "#откинем значения шага меньше 0\n",
    "event_funnel = event_funnel[event_funnel.step_time > 0]\n",
    "#выводим на экран пример\n",
    "event_funnel.sample()"
   ]
  },
  {
   "cell_type": "markdown",
   "id": "8640fee7",
   "metadata": {},
   "source": [
    "Циклом выводим среднее время в секундах между значимыми событиями"
   ]
  },
  {
   "cell_type": "code",
   "execution_count": 67,
   "id": "91cc0be7",
   "metadata": {
    "scrolled": true
   },
   "outputs": [
    {
     "name": "stdout",
     "output_type": "stream",
     "text": [
      "Среднее время между значимыми шагами в группе 1 составляет: 1000.0 секунд(ы)\n",
      "\n",
      "Среднее время между значимыми шагами в группе 2 составляет: 442.0 секунд(ы)\n",
      "\n",
      "Среднее время между значимыми шагами в группе 3 составляет: 676.0 секунд(ы)\n",
      "\n",
      "Среднее время между значимыми шагами в группе 4 составляет: 444.0 секунд(ы)\n",
      "\n",
      "Среднее время между значимыми шагами в группе 5 составляет: 957.0 секунд(ы)\n",
      "\n"
     ]
    }
   ],
   "source": [
    "for i in sorted(event_funnel['cluster'].unique()):\n",
    "    print('Среднее время между значимыми шагами в группе', i+1, 'составляет:',\n",
    "          round(event_funnel[event_funnel['cluster'] == i]['step_time'].mean(),0), 'секунд(ы)')\n",
    "    print()\n"
   ]
  },
  {
   "cell_type": "markdown",
   "id": "d74ace25",
   "metadata": {},
   "source": [
    "Можно выделить три группы в данном контекте: \n",
    "* I - до 10 минут(группы № 2, 4)\n",
    "* II - около 10 минут (группа №3)\n",
    "* III - более 10 минут (группы № 1, 5)"
   ]
  },
  {
   "cell_type": "markdown",
   "id": "057e7e34",
   "metadata": {},
   "source": [
    "<hr align=\"center\" width=\"80%\" size=\"3\" color=\"#0000dd\" />"
   ]
  },
  {
   "cell_type": "markdown",
   "id": "d9386562",
   "metadata": {},
   "source": [
    "<a id='step6'><a/> \n",
    "## Проверка гипотиз\n",
    "[Назад к оглавлению](#back)"
   ]
  },
  {
   "cell_type": "markdown",
   "id": "ac12e23f",
   "metadata": {},
   "source": [
    "В целях сегментации пользователей разделим пользователей в разрезе проведенного времени в приложении."
   ]
  },
  {
   "cell_type": "markdown",
   "id": "8e678554",
   "metadata": {},
   "source": [
    "<a id='step61'><a/> \n",
    "### Конверсия в просмотры контактов пользователей пришедших из источников google и yandex\n",
    "[Назад к оглавлению](#back)"
   ]
  },
  {
   "cell_type": "markdown",
   "id": "59af5e0b",
   "metadata": {},
   "source": [
    "Проверим статистическую значимость различия в конверсии посетителями из `yandex` и `google` в целевое действие (`show_contacts`).\n",
    "\n",
    "\n",
    "\n",
    "Сформулируем гипотезы:<br>\n",
    "H0: <i><u>Нет статистически значимого различия в конверсии в show_contacts между посетителями из разных источников.</i></u><br>\n",
    "H1: <i><u>Есть статистически значимое различие в конверсии в show_contacts между посетителями из разных источников.</i></u>\n",
    "\n",
    "\n",
    "<i>Определим критический уровень статистической значимости alpha в 5%.</i>"
   ]
  },
  {
   "cell_type": "code",
   "execution_count": 68,
   "id": "9aec2cff",
   "metadata": {},
   "outputs": [],
   "source": [
    "alpha = 0.05"
   ]
  },
  {
   "cell_type": "code",
   "execution_count": 69,
   "id": "a52ea422",
   "metadata": {},
   "outputs": [
    {
     "name": "stdout",
     "output_type": "stream",
     "text": [
      "0.82443\n",
      "Не получилось отвергнуть нулевую гипотезу, нет оснований считать доли разными\n"
     ]
    }
   ],
   "source": [
    "# формируем группы\n",
    "users_from_yandex = df[df['source'] == 'yandex']\n",
    "users_from_yandex_target_action = users_from_yandex.groupby('target_action', as_index=False).agg({'user_id': 'nunique'}).rename(columns={'user_id': 'uniq_users_from_yandex'})\n",
    "\n",
    "users_from_google = df[df['source'] == 'google']\n",
    "users_from_google_target_action = users_from_google.groupby('target_action', as_index=False).agg({'user_id': 'nunique'}).rename(columns={'user_id': 'uniq_users_from_google'})\n",
    "# считаем успехи\n",
    "successes = pd.concat([users_from_yandex_target_action[users_from_yandex_target_action['target_action'] == True]['uniq_users_from_yandex'],\\\n",
    "                           users_from_google_target_action[users_from_google_target_action['target_action'] == True]['uniq_users_from_google']], axis=0)\n",
    "trials = [users_from_yandex['user_id'].unique().shape[0], users_from_google['user_id'].unique().shape[0]]\n",
    "\n",
    "\n",
    "stat, p_value = proportions_ztest(successes, trials)\n",
    "\n",
    "print('{0:0.5f}'.format(p_value))\n",
    "if (p_value < alpha):\n",
    "    print(\"Отвергаем нулевую гипотезу: между долями есть значимая разница\")\n",
    "else:\n",
    "    print(\"Не получилось отвергнуть нулевую гипотезу, нет оснований считать доли разными\") "
   ]
  },
  {
   "cell_type": "markdown",
   "id": "07ce8458",
   "metadata": {},
   "source": [
    "<h4>Вывод:</h4>\n",
    "\n",
    "Статистических различий конверсии в целевое действие (`show_contacts`) между пользователями, пришедшими из источников `google` и `yandex` нет."
   ]
  },
  {
   "cell_type": "markdown",
   "id": "32914cb2",
   "metadata": {},
   "source": [
    "<a id='step62'><a/> \n",
    "### Конверсия в просмотры контактов пользователей, которые совершают действия tips_show и tips_click, и тех, что совершают только действие tips_show\n",
    "[Назад к оглавлению](#back)"
   ]
  },
  {
   "cell_type": "markdown",
   "id": "b368e793",
   "metadata": {},
   "source": [
    "Проверим статистическую значимость различия в конверсии в просмотры контактов пользователей, которые совершают действия `tips_show` и `tips_click`, и тех, что совершают только действие `tips_show`.\n",
    "\n",
    "\n",
    "Сформулируем гипотезы:<br>\n",
    "H0: <i><u>Конверсия в просмотры контактов пользователей, которые совершают действия tips_show и tips_click, и тех, которые совершают только действие tips_show одинакова</i></u><br>\n",
    "H1: <i><u>Конверсия в просмотры контактов пользователей, которые совершают действия tips_show и tips_click, и тех, которые совершают только действие tips_show различается</i></u>\n",
    "\n",
    "\n",
    "<i>Определим критический уровень статистической значимости alpha в 5%.</i>"
   ]
  },
  {
   "cell_type": "code",
   "execution_count": 70,
   "id": "06ec8800",
   "metadata": {},
   "outputs": [
    {
     "name": "stdout",
     "output_type": "stream",
     "text": [
      "Конверсия группы A: 0.31 \n",
      "Конверсия группы B: 0.18\n"
     ]
    }
   ],
   "source": [
    "# формируем группы\n",
    "group_a_users = pd.Series(df.query('event_name == \"tips_click\"')['user_id'].unique())\n",
    "group_b_users = pd.Series(df.query('event_name == \"tips_show\"')['user_id'].unique())\n",
    "\n",
    "\n",
    "# считаем сконвертировавшихся пользователей в группах\n",
    "group_a_conv = target_action.query('user_id in @group_a_users')['target_action'].sum()\n",
    "group_b_conv = target_action.query('user_id in @group_b_users')['target_action'].sum()\n",
    "\n",
    "print(\n",
    "    'Конверсия группы A:',\n",
    "    round(group_a_conv / len(group_a_users), 2),\n",
    "    '\\nКонверсия группы B:',\n",
    "    round(group_b_conv / len(group_b_users), 2))"
   ]
  },
  {
   "cell_type": "code",
   "execution_count": 71,
   "id": "a17218a8",
   "metadata": {},
   "outputs": [
    {
     "name": "stdout",
     "output_type": "stream",
     "text": [
      "p-value 6.829050147594273e-08\n",
      "Отвергаем нулевую гипотезу: конверсия различается в зависимости от событий.\n",
      "\n"
     ]
    }
   ],
   "source": [
    "p1 = group_a_conv / len(group_a_users)\n",
    "p2 = group_b_conv / len(group_b_users)\n",
    "p_combined = (group_a_conv + group_b_conv) / (len(group_a_users) + len(group_b_users))\n",
    "# разница пропорций в датасетах\n",
    "difference = p1 - p2\n",
    "# считаем статистику\n",
    "z_value = difference / mth.sqrt(p_combined * (1 - p_combined) * (1 / len(group_a_users) + 1 / len(group_b_users)))\n",
    "# задаем стандартное нормальное распределение\n",
    "from scipy import stats as st\n",
    "distr = st.norm(0, 1)\n",
    "\n",
    "# получаем p_value\n",
    "p_value = (1 - distr.cdf(abs(z_value))) * 2\n",
    "\n",
    "print('p-value', p_value)\n",
    "if p_value < alpha:\n",
    "    print('Отвергаем нулевую гипотезу: конверсия различается в зависимости от событий.\\n')\n",
    "else:\n",
    "    print('Не удалось отвергнуть нулевую гипотезу, конверсия одинакова вне зависимости от событий.\\n')"
   ]
  },
  {
   "cell_type": "markdown",
   "id": "5860e98e",
   "metadata": {},
   "source": [
    "<h4>Вывод:</h4>\n",
    "\n",
    "Статистический тест показал значимое различие в конверсии между пользователями группы A и группы B.\n",
    "\n",
    "Таким образом, принимаем альтернативную гипотезу: конверсия в просмотры контактов пользователей, которые совершают действия `tips_show` и `tips_click`, и тех, которые совершают только действие `tips_show` различается.\n",
    "\n"
   ]
  },
  {
   "cell_type": "markdown",
   "id": "a8f01efa",
   "metadata": {},
   "source": [
    "<hr align=\"center\" width=\"80%\" size=\"3\" color=\"#0000dd\" />"
   ]
  },
  {
   "cell_type": "markdown",
   "id": "d73a2271",
   "metadata": {},
   "source": [
    "<a id='step7'><a/> \n",
    "## Общие выводы\n",
    "[Назад к оглавлению](#back)"
   ]
  },
  {
   "cell_type": "markdown",
   "id": "02da22ca",
   "metadata": {},
   "source": [
    "На этапе предобработки данных был исправлен стиль заголовков, были преобразованы типы данных, а также исходные данные были объединены в один датафрейм. \n",
    "\n",
    "Были обнаружены аномалии в данных — дубликаты, возникающие при округлении времени события до 1 секунды. Предположив, что это технические огрехи записи логов было принято решение такие дубликаты удалить, это составило 1,4% событий.\n",
    "\n",
    "На этапе исследовательского анализа данных были полученные следующие сведения:\n",
    "- для анализа предоставлены действия за 28 дней в период c 2019-10-07 00:00:00 по 2019-11-03 23:58:13;\n",
    "- график распределения событий по дате и времени позволил сделать вывод о том, что данные распределены равномерно;\n",
    "- в логах содержится 73 079 событий, соверешенные 4 293 пользователями;\n",
    "- в среднем на одного уникального пользователя приходится порядка 17 событий, медианное значение составляет 9 событий, на среднее значение сильно влияют выбросы (пользователи, с очень большим числом событий);\n",
    "- самое распространенное действие - просмотр рекомендованных объявлений (более 54% от всех событий), рекомендованные объявления просматривает 65% пользователей, остальные действия совершают менее половины всех пользователей: на II месте - поиск (38% пользователей), на III - открытие карты (33% пользователей);\n",
    "- выделили пользовательские сессии и выяснили, в среднем на одного пользователя приходится 2,7 сессий, при этом медианное значение — 2 сессии на пользователя, которое меньше среднего за счёт длинного хвоста редких, но очень высоких значений;\n",
    "- визуализация количества сессий в разрезе пользователей показала, большинство пользователей имели по 1 сессии и больше в приложение не возвращались;\n",
    "- среднее время проведенное в приложении составляет чуть более 8 с половиной минут;\n",
    "- конверсия в целевое действие(contacts_show) составляла 22.9%;\n",
    "- среднее число уникальных пользователей в день составляет 279 уникальных пользователей;\n",
    "- средний retention rate 2-го дня составляет 14,6%, 14-го дня — 4,1%.\n",
    "\n",
    "Анализ влияния событий на совершение целевого события показал, что вместе с целевым событием `contacts_show` совершаются \"события-компаньоны\": `photos_show`,`search`, `advert_open`, `map`.\n",
    "\n",
    "Вспомогательные события составляют 3 частые воронки событий (в скобках отмечено необязательное событие):\n",
    "<div align='center'>  photos_show → search → (advert_open) → contacts_show </div>\n",
    "<div align='center'>  search → photos_show → (advert_open) → contacts_show </div>\n",
    "<div align='center'>  map → advert_open → (photos_show) → contacts_show </div>\n",
    "\n",
    "В целях разделения пользователей на группы был определён следующий набор метрик:\n",
    "* количество совершенных целевых действий;\n",
    "* количество пользовательских сессий;\n",
    "* количество времени, проведенное в приложении;\n",
    "* среднее время сессии;\n",
    "* атрибут совершения действия \"поиск\", как признак вовлеченности;\n",
    "* признак установки приложения из неизвестного нам источника.\n",
    "\n",
    "Проведенная кластеризация выделила 5 групп пользователей:\n",
    "\n",
    "* 1(кластер \"0\") - в группу входит 389 человек, что составляет порядка 9% от общего количество изучаемых пользователей, главной отличительной чертой этой группы является наибольшее среднее время сессии - около 31 минуты, при этом пользователи данной в среднем совершают почти 3 целывых действия, а конверсия в это составляет 35%, что занимает вторую строчку общего рейтинга, также 2-е место принадлежит этой группе и по количеству сессий, чуть более 6, и общему времени в приложении - 95 минут;\n",
    "* 2(кластер \"1\") - самая мнгочисленная группа, в нёё входит 2 680 пользователей, что составляет 62%, её характеризует наименьшее количество проведенного времени в приложении, соотвественно, и общего времени и количество сессий, отличительной чертой является, что пользователи не используют поиск, а также на 100% привлеченые путем google/yandex, по прочим показателем она находиться на худших позициях;\n",
    "* 3(кластер \"2\") - группа крепких середнячков куда входит 10% пользователей (416 человек), отличительной чертой является то, что это пльзователи, которые целенаправленно пришли в приложения (100% используют поиск), остальное признаки группы находяться на третьем месте: можно сказать, что это люди, которые знают зачем пришли, однако не найдя это продолжают заходить в приложение, и вслучае успешного поиска совершают покупку, т.к. количество совершенных действий в ней стримиться к 1.\n",
    "* 4(кластер \"3\") - группа на 100% пришедшая из неизвестных источников, а также неипользующая поиск в принципе, составляет 19% пользователей(795 человек), по остальным признаком находиться ненамного ниже группы №3, из чего можно высказать предположение, что это пользователи, которые пришли по рекомендации знакомых, заинтересованы в приложении, однако, не освоили принципы работы, также, возможно, если в приложение есть возможность делиться ссылками на объявления, они перешли по ним от других пользователей;\n",
    "* 5(кластер \"4) - \"группа 100% успеха\", самая немногочисленная, состоящая из 13 человек, эти пользователи пользуються приложением чаще всего: порядка 45-и 11-х минутных сессий и 62 целевых действия на одного человека, казлось бы мечта, но нет - они почти не пользуются поиском, следовательно, скорее всего это люди, одержимые импульсивными покупками, которые шерстят приложение в поисках счастья - есть большая вероятность, что рекламные объявления на них действуют лучше всего.\n",
    "\n",
    "Поиск ответов на вопросы исследования привел нас к следующим результатам:\n",
    "1. Пользователи какой группы склонны часто возвращаться в мобильное приложение (Retention rate)?\n",
    "\n",
    "    Средний retention rate, для II и IV недели, в разрезе выделеных групп выглядит следующим образом:\n",
    "\n",
    "    1 - 42,9 | 23,5 % <br>\n",
    "    2 - 21,1 |  7,2 % <br>\n",
    "    3 - 24,3 |  8,3 % <br>\n",
    "    4 - 18,8 | 10,8 % <br>\n",
    "    5 - 81,9 | 88,9 % <br>\n",
    "\n",
    "    Хорошие показатели по обоим рассматриваемым неделял показывает группа №1, напомним, что они обладают лучшим показателем по средней длине сессий, при этом совершают в среднем почти 3 целевых действия. По всей видимости это и есть \"костяк\" пользователей мобильного приложения.\n",
    "\n",
    "    Вторая группа имеет наименьший retention rate IV недели - 7,2 %, напомним, что она самая мнгоночисленная и состоит на 100% пришла по источникам google/yandex, по всей видмисоти - это \"залетные птички\", которые поддались на рекламу, установили приложение, немного попользовались, сочли его неитересным и перестали использовать, целевое действие в этой группе совершило наименьшее количество человек.\n",
    "\n",
    "    Третья группа показывает средние показатели (особенность - 100% поиск) что подтверждает тезис о том, что это они пришли за чем-то конретным и используют приложение по назначению.\n",
    "\n",
    "    Четвертая группа (100% из неизвестного источника) имеет худший показатель второй недели, что возможно подтвержает тезис о том, что они пришли по наводке от друзей/знакомых, при этом показатели IV недели находяться на 3-м месте, что возможно сведетельствует о возможности работы с данным сегментом.\n",
    "\n",
    "    Ожидаемо, самый высокий показатель retention rate второй недели в группе №5, однако, следует обратить внимание, что в данную группу не вошли пользователи 43 и 44 недели использования приложения, RR 4-й недели ещё больше высок, но он сформирован пользователся только кагорты недели 41. Следует провести дополнительное расследование почему в эту группу не попал не один человек из кагорт 43/44. Возможно эта группа тестировщиков приложения.\n",
    "    \n",
    "2. Пользователи какой группы часто делают целевое событие (конверсия в целевое действие)?\n",
    "\n",
    "    Произведенные рассчёты показали почти каждая вторая сессия группы №1 знаканчивается целевым действием.А для группы пять приходиться более 1-го целевого действия на сессию. Надо дополнительно исследовать причины такой активности: шопоголизм это либо группа тестировщиков, а может в целом аномалии, связанные с техническими ошибками логирования.\n",
    "    \n",
    "3. Как различается время между распространенными событиями пользователей из разных групп?\n",
    "\n",
    "    Анализ среднего времени между двумя шага, предшествующим целевому действию, показал, что можно выделенные группы сегментировать на три группы:\n",
    "\n",
    "    I - до 10 минут(группы № 2, 4)<br>\n",
    "    II - около 10 минут (группа №3)<br>\n",
    "    III - более 10 минут (группы № 1, 5)<br>\n",
    "\n",
    "Проверка гипотез с помощью статистического теста показала:\n",
    "\n",
    "* Статистических различий конверсии в целевое действие (`show_contacts`) между пользователями, пришедшими из источников `google` и `yandex` нет.\n",
    "* Конверсия в просмотры контактов пользователей, которые совершают действия `tips_show` и `tips_click`, и тех, которые совершают только действие `tips_show` различается."
   ]
  },
  {
   "cell_type": "markdown",
   "id": "9b197468",
   "metadata": {},
   "source": [
    "<a id='step7'><a/> \n",
    "## Рекомендации\n",
    "[Назад к оглавлению](#back)"
   ]
  },
  {
   "cell_type": "markdown",
   "id": "af1af15a",
   "metadata": {},
   "source": [
    "Следует провести дополнительный анализ пользователей, попавших в пятую группу, в частности разобраться в чем причина повышенной активности.\n",
    "\n",
    "Что касается взаимодейсвия с группами, то следует обратить особое внимание и провести дополнительное исследование в целях повышения времени удержания для групп 3 и 4, так как они являются потенциальными пользователями данного приложения.\n",
    "\n",
    "Также следует обратить на пользователей самой многочисленной группы (№2), учитывая, что она полностью софрмированна из пользователей привлеченных из источников google/yandex возможно следует провести корректировку рекламных кампаний в целях уменьшения отскова привлекаемых пользователей. Следует рассмотрение внедрения опросника по интересам в процессе регистрации, в дальнейшем это позволит провести более широкий анализ и сегментировать этих пользователей на более низком уровне.\n",
    "\n",
    "В свою очередь, в отсутвтсвии статистических различий конверсии в целевое действие между пользователями, пришедшими из источников google и yandex нет, надо посмотреть затраты в рамках этих канолов и скорректировать затраты.\n",
    "\n",
    "Есть некоторая неразбериха в лога действий, часть из них имееют одинаковый смысл, следуют переработь систему логирования и настроить в соответвии с требованиями проводимых исследований, так следует унифицировать поисковые запросы, также следует внедрить систему позволяющую отлавливать пользователей из истоника other(переход по ссылки, установка с сайта, установка из маркета(вне рекламной интеграции) и прочее)."
   ]
  },
  {
   "cell_type": "markdown",
   "id": "54ecc868",
   "metadata": {},
   "source": [
    "<hr align=\"center\" width=\"80%\" size=\"3\" color=\"#0000dd\" />"
   ]
  }
 ],
 "metadata": {
  "ExecuteTimeLog": [
   {
    "duration": 56,
    "start_time": "2022-08-11T05:02:38.471Z"
   },
   {
    "duration": 1333,
    "start_time": "2022-08-11T05:02:38.529Z"
   },
   {
    "duration": 4,
    "start_time": "2022-08-11T05:02:39.864Z"
   },
   {
    "duration": 9,
    "start_time": "2022-08-11T05:02:39.870Z"
   },
   {
    "duration": 595,
    "start_time": "2022-08-11T05:02:39.880Z"
   },
   {
    "duration": 28,
    "start_time": "2022-08-11T05:02:40.477Z"
   },
   {
    "duration": 130,
    "start_time": "2022-08-11T05:02:40.506Z"
   },
   {
    "duration": 6,
    "start_time": "2022-08-11T05:02:40.638Z"
   },
   {
    "duration": 6,
    "start_time": "2022-08-11T05:02:40.645Z"
   },
   {
    "duration": 9,
    "start_time": "2022-08-11T05:02:40.653Z"
   },
   {
    "duration": 38,
    "start_time": "2022-08-11T05:02:40.664Z"
   },
   {
    "duration": 23,
    "start_time": "2022-08-11T05:02:40.704Z"
   },
   {
    "duration": 72,
    "start_time": "2022-08-11T05:02:40.729Z"
   },
   {
    "duration": 24,
    "start_time": "2022-08-11T05:02:40.803Z"
   },
   {
    "duration": 5,
    "start_time": "2022-08-11T05:02:40.829Z"
   },
   {
    "duration": 7,
    "start_time": "2022-08-11T05:02:40.835Z"
   },
   {
    "duration": 11,
    "start_time": "2022-08-11T05:02:40.843Z"
   },
   {
    "duration": 10,
    "start_time": "2022-08-11T05:02:40.855Z"
   },
   {
    "duration": 47,
    "start_time": "2022-08-11T05:02:40.889Z"
   },
   {
    "duration": 8,
    "start_time": "2022-08-11T05:02:40.938Z"
   },
   {
    "duration": 25,
    "start_time": "2022-08-11T05:02:40.948Z"
   },
   {
    "duration": 30,
    "start_time": "2022-08-11T05:02:40.975Z"
   },
   {
    "duration": 12,
    "start_time": "2022-08-11T05:02:41.006Z"
   },
   {
    "duration": 20,
    "start_time": "2022-08-11T05:02:41.019Z"
   },
   {
    "duration": 35,
    "start_time": "2022-08-11T05:02:41.040Z"
   },
   {
    "duration": 22,
    "start_time": "2022-08-11T05:02:41.077Z"
   },
   {
    "duration": 38,
    "start_time": "2022-08-11T05:02:41.101Z"
   },
   {
    "duration": 5,
    "start_time": "2022-08-11T05:02:41.144Z"
   },
   {
    "duration": 384,
    "start_time": "2022-08-11T05:02:41.151Z"
   },
   {
    "duration": 766,
    "start_time": "2022-08-11T05:02:41.537Z"
   },
   {
    "duration": 299,
    "start_time": "2022-08-11T05:02:42.305Z"
   },
   {
    "duration": 47,
    "start_time": "2022-08-11T05:02:42.606Z"
   },
   {
    "duration": 38,
    "start_time": "2022-08-11T05:02:42.655Z"
   },
   {
    "duration": 170,
    "start_time": "2022-08-11T05:02:42.694Z"
   },
   {
    "duration": 49,
    "start_time": "2022-08-11T05:02:42.866Z"
   },
   {
    "duration": 4,
    "start_time": "2022-08-11T05:02:42.917Z"
   },
   {
    "duration": 35,
    "start_time": "2022-08-11T05:02:42.923Z"
   },
   {
    "duration": 363,
    "start_time": "2022-08-11T05:02:42.959Z"
   },
   {
    "duration": 7,
    "start_time": "2022-08-11T05:02:43.324Z"
   },
   {
    "duration": 71,
    "start_time": "2022-08-11T05:02:43.333Z"
   },
   {
    "duration": 294,
    "start_time": "2022-08-11T05:02:43.406Z"
   },
   {
    "duration": 31,
    "start_time": "2022-08-11T05:02:43.702Z"
   },
   {
    "duration": 48,
    "start_time": "2022-08-11T05:02:43.735Z"
   },
   {
    "duration": 1624,
    "start_time": "2022-08-11T05:02:43.790Z"
   },
   {
    "duration": 4,
    "start_time": "2022-08-11T05:02:45.416Z"
   },
   {
    "duration": 34,
    "start_time": "2022-08-11T05:02:45.422Z"
   },
   {
    "duration": 13,
    "start_time": "2022-08-11T05:02:45.458Z"
   },
   {
    "duration": 1366,
    "start_time": "2022-08-11T05:02:45.473Z"
   },
   {
    "duration": 29,
    "start_time": "2022-08-11T05:02:46.841Z"
   },
   {
    "duration": 30,
    "start_time": "2022-08-11T05:02:46.871Z"
   },
   {
    "duration": 22,
    "start_time": "2022-08-11T05:02:46.903Z"
   },
   {
    "duration": 56,
    "start_time": "2022-08-11T05:02:46.927Z"
   },
   {
    "duration": 22,
    "start_time": "2022-08-11T05:02:46.985Z"
   },
   {
    "duration": 336,
    "start_time": "2022-08-11T05:02:47.009Z"
   },
   {
    "duration": 363,
    "start_time": "2022-08-11T05:02:47.346Z"
   },
   {
    "duration": 15,
    "start_time": "2022-08-11T05:02:47.710Z"
   },
   {
    "duration": 8,
    "start_time": "2022-08-11T05:02:47.727Z"
   },
   {
    "duration": 83,
    "start_time": "2022-08-11T05:02:47.737Z"
   },
   {
    "duration": 78,
    "start_time": "2022-08-11T05:02:47.821Z"
   },
   {
    "duration": 9,
    "start_time": "2022-08-11T05:02:47.902Z"
   },
   {
    "duration": 125,
    "start_time": "2022-08-12T09:16:12.906Z"
   },
   {
    "duration": 2805,
    "start_time": "2022-08-12T09:16:13.032Z"
   },
   {
    "duration": 4,
    "start_time": "2022-08-12T09:16:15.839Z"
   },
   {
    "duration": 11,
    "start_time": "2022-08-12T09:16:15.845Z"
   },
   {
    "duration": 300,
    "start_time": "2022-08-12T09:16:15.857Z"
   },
   {
    "duration": 33,
    "start_time": "2022-08-12T09:16:16.159Z"
   },
   {
    "duration": 185,
    "start_time": "2022-08-12T09:16:16.194Z"
   },
   {
    "duration": 6,
    "start_time": "2022-08-12T09:16:16.381Z"
   },
   {
    "duration": 9,
    "start_time": "2022-08-12T09:16:16.392Z"
   },
   {
    "duration": 17,
    "start_time": "2022-08-12T09:16:16.407Z"
   },
   {
    "duration": 27,
    "start_time": "2022-08-12T09:16:16.426Z"
   },
   {
    "duration": 49,
    "start_time": "2022-08-12T09:16:16.455Z"
   },
   {
    "duration": 62,
    "start_time": "2022-08-12T09:16:16.508Z"
   },
   {
    "duration": 52,
    "start_time": "2022-08-12T09:16:16.573Z"
   },
   {
    "duration": 5,
    "start_time": "2022-08-12T09:16:16.627Z"
   },
   {
    "duration": 10,
    "start_time": "2022-08-12T09:16:16.634Z"
   },
   {
    "duration": 16,
    "start_time": "2022-08-12T09:16:16.646Z"
   },
   {
    "duration": 36,
    "start_time": "2022-08-12T09:16:16.664Z"
   },
   {
    "duration": 40,
    "start_time": "2022-08-12T09:16:16.707Z"
   },
   {
    "duration": 10,
    "start_time": "2022-08-12T09:16:16.749Z"
   },
   {
    "duration": 17,
    "start_time": "2022-08-12T09:16:16.760Z"
   },
   {
    "duration": 36,
    "start_time": "2022-08-12T09:16:16.791Z"
   },
   {
    "duration": 3,
    "start_time": "2022-08-12T09:16:16.829Z"
   },
   {
    "duration": 24,
    "start_time": "2022-08-12T09:16:16.833Z"
   },
   {
    "duration": 71,
    "start_time": "2022-08-12T09:16:16.859Z"
   },
   {
    "duration": 18,
    "start_time": "2022-08-12T09:16:16.931Z"
   },
   {
    "duration": 57,
    "start_time": "2022-08-12T09:16:16.952Z"
   },
   {
    "duration": 6,
    "start_time": "2022-08-12T09:16:17.014Z"
   },
   {
    "duration": 482,
    "start_time": "2022-08-12T09:16:17.022Z"
   },
   {
    "duration": 912,
    "start_time": "2022-08-12T09:16:17.507Z"
   },
   {
    "duration": 419,
    "start_time": "2022-08-12T09:16:18.421Z"
   },
   {
    "duration": 76,
    "start_time": "2022-08-12T09:16:18.842Z"
   },
   {
    "duration": 29,
    "start_time": "2022-08-12T09:16:18.921Z"
   },
   {
    "duration": 202,
    "start_time": "2022-08-12T09:16:18.952Z"
   },
   {
    "duration": 55,
    "start_time": "2022-08-12T09:16:19.156Z"
   },
   {
    "duration": 5,
    "start_time": "2022-08-12T09:16:19.213Z"
   },
   {
    "duration": 25,
    "start_time": "2022-08-12T09:16:19.220Z"
   },
   {
    "duration": 432,
    "start_time": "2022-08-12T09:16:19.246Z"
   },
   {
    "duration": 12,
    "start_time": "2022-08-12T09:16:19.680Z"
   },
   {
    "duration": 83,
    "start_time": "2022-08-12T09:16:19.695Z"
   },
   {
    "duration": 342,
    "start_time": "2022-08-12T09:16:19.780Z"
   },
   {
    "duration": 24,
    "start_time": "2022-08-12T09:16:20.124Z"
   },
   {
    "duration": 66,
    "start_time": "2022-08-12T09:16:20.150Z"
   },
   {
    "duration": 1825,
    "start_time": "2022-08-12T09:16:20.218Z"
   },
   {
    "duration": 7,
    "start_time": "2022-08-12T09:16:22.045Z"
   },
   {
    "duration": 39,
    "start_time": "2022-08-12T09:16:22.054Z"
   },
   {
    "duration": 40,
    "start_time": "2022-08-12T09:16:22.096Z"
   },
   {
    "duration": 1497,
    "start_time": "2022-08-12T09:16:22.139Z"
   },
   {
    "duration": 588,
    "start_time": "2022-08-12T09:16:23.638Z"
   },
   {
    "duration": 693,
    "start_time": "2022-08-12T09:16:24.227Z"
   },
   {
    "duration": 137417,
    "start_time": "2022-08-12T09:16:24.921Z"
   },
   {
    "duration": 863,
    "start_time": "2022-08-12T09:18:42.339Z"
   },
   {
    "duration": 135,
    "start_time": "2022-08-12T09:18:43.203Z"
   },
   {
    "duration": 26,
    "start_time": "2022-08-12T09:18:43.340Z"
   },
   {
    "duration": 29,
    "start_time": "2022-08-12T09:18:43.368Z"
   },
   {
    "duration": 28,
    "start_time": "2022-08-12T09:18:43.399Z"
   },
   {
    "duration": 41,
    "start_time": "2022-08-12T09:18:43.430Z"
   },
   {
    "duration": 43,
    "start_time": "2022-08-12T09:18:43.473Z"
   },
   {
    "duration": 4,
    "start_time": "2022-08-12T09:18:43.518Z"
   },
   {
    "duration": 31,
    "start_time": "2022-08-12T09:18:43.523Z"
   },
   {
    "duration": 10,
    "start_time": "2022-08-12T09:18:43.555Z"
   },
   {
    "duration": 2277,
    "start_time": "2022-08-12T09:18:43.567Z"
   },
   {
    "duration": 11,
    "start_time": "2022-08-12T09:18:45.847Z"
   },
   {
    "duration": 9,
    "start_time": "2022-08-12T09:18:45.860Z"
   },
   {
    "duration": 55,
    "start_time": "2022-08-12T09:18:45.871Z"
   },
   {
    "duration": 14,
    "start_time": "2022-08-12T09:18:45.928Z"
   },
   {
    "duration": 17,
    "start_time": "2022-08-12T09:18:45.944Z"
   },
   {
    "duration": 5,
    "start_time": "2022-08-12T09:18:45.992Z"
   },
   {
    "duration": 41,
    "start_time": "2022-08-12T09:18:45.999Z"
   },
   {
    "duration": 29,
    "start_time": "2022-08-12T09:18:46.042Z"
   },
   {
    "duration": 7,
    "start_time": "2022-08-12T09:18:46.092Z"
   }
  ],
  "kernelspec": {
   "display_name": "Python 3 (ipykernel)",
   "language": "python",
   "name": "python3"
  },
  "language_info": {
   "codemirror_mode": {
    "name": "ipython",
    "version": 3
   },
   "file_extension": ".py",
   "mimetype": "text/x-python",
   "name": "python",
   "nbconvert_exporter": "python",
   "pygments_lexer": "ipython3",
   "version": "3.9.12"
  },
  "toc": {
   "base_numbering": 1,
   "nav_menu": {},
   "number_sections": true,
   "sideBar": true,
   "skip_h1_title": true,
   "title_cell": "Table of Contents",
   "title_sidebar": "Contents",
   "toc_cell": false,
   "toc_position": {},
   "toc_section_display": true,
   "toc_window_display": false
  }
 },
 "nbformat": 4,
 "nbformat_minor": 5
}
