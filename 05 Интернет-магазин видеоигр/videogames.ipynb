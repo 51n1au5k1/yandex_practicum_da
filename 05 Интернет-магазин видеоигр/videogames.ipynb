{
 "cells": [
  {
   "cell_type": "markdown",
   "id": "e236dda2",
   "metadata": {},
   "source": [
    "# Исследование закономерностей, определяющих успешность игры"
   ]
  },
  {
   "cell_type": "markdown",
   "id": "865b7a8b",
   "metadata": {},
   "source": [
    "**Описание проекта**\n",
    "\n",
    "Вы работаете в интернет-магазине по продаже видеоигр, который продаёт по всему миру компьютерные игры. Из открытых источников доступны исторические данные о продажах игр, оценки пользователей и экспертов, жанры и платформы (например, Xbox или PlayStation). Вам нужно выявить определяющие успешность игры закономерности. Это позволит сделать ставку на потенциально популярный продукт и спланировать рекламные кампании.\n",
    "\n",
    "Перед вами данные до 2016 года. Представим, что сейчас декабрь 2016 г., и вы планируете кампанию на 2017-й. Нужно отработать принцип работы с данными. Неважно, прогнозируете ли вы продажи на 2017 год по данным 2016-го или же 2027-й — по данным 2026 года.\n",
    "\n",
    "В наборе данных попадается аббревиатура ESRB (Entertainment Software Rating Board) — это ассоциация, определяющая возрастной рейтинг компьютерных игр. ESRB оценивает игровой контент и присваивает ему подходящую возрастную категорию, например, «Для взрослых», «Для детей младшего возраста» или «Для подростков».\n",
    "\n",
    "Данные за 2016 год могут быть неполными."
   ]
  },
  {
   "cell_type": "markdown",
   "id": "52fc8d7f",
   "metadata": {},
   "source": [
    "## Откроем файл с данными и изучим общую информацию ##"
   ]
  },
  {
   "cell_type": "markdown",
   "id": "a85ece9d",
   "metadata": {},
   "source": [
    "Импортируем необлодимые в дальнейшей работе библиотеки"
   ]
  },
  {
   "cell_type": "code",
   "execution_count": 1,
   "id": "a3f365ac",
   "metadata": {},
   "outputs": [],
   "source": [
    "import pandas as pd\n",
    "import matplotlib.pyplot as plt\n",
    "import seaborn as sns\n",
    "import numpy as np\n",
    "from scipy import stats as st\n",
    "\n",
    "import warnings\n",
    "warnings.filterwarnings('ignore')"
   ]
  },
  {
   "cell_type": "markdown",
   "id": "770a17bb",
   "metadata": {},
   "source": [
    "Поместим данные в переменную"
   ]
  },
  {
   "cell_type": "code",
   "execution_count": 2,
   "id": "3df6dc98",
   "metadata": {},
   "outputs": [],
   "source": [
    "data = pd.read_csv('/datasets/games.csv')"
   ]
  },
  {
   "cell_type": "markdown",
   "id": "6fcef4f5",
   "metadata": {},
   "source": [
    "Посмотрим, что у нас имеется в датафрейме"
   ]
  },
  {
   "cell_type": "code",
   "execution_count": 4,
   "id": "91a6a498",
   "metadata": {},
   "outputs": [
    {
     "data": {
      "text/html": [
       "<div>\n",
       "<style scoped>\n",
       "    .dataframe tbody tr th:only-of-type {\n",
       "        vertical-align: middle;\n",
       "    }\n",
       "\n",
       "    .dataframe tbody tr th {\n",
       "        vertical-align: top;\n",
       "    }\n",
       "\n",
       "    .dataframe thead th {\n",
       "        text-align: right;\n",
       "    }\n",
       "</style>\n",
       "<table border=\"1\" class=\"dataframe\">\n",
       "  <thead>\n",
       "    <tr style=\"text-align: right;\">\n",
       "      <th></th>\n",
       "      <th>Name</th>\n",
       "      <th>Platform</th>\n",
       "      <th>Year_of_Release</th>\n",
       "      <th>Genre</th>\n",
       "      <th>NA_sales</th>\n",
       "      <th>EU_sales</th>\n",
       "      <th>JP_sales</th>\n",
       "      <th>Other_sales</th>\n",
       "      <th>Critic_Score</th>\n",
       "      <th>User_Score</th>\n",
       "      <th>Rating</th>\n",
       "    </tr>\n",
       "  </thead>\n",
       "  <tbody>\n",
       "    <tr>\n",
       "      <td>0</td>\n",
       "      <td>Wii Sports</td>\n",
       "      <td>Wii</td>\n",
       "      <td>2006.0</td>\n",
       "      <td>Sports</td>\n",
       "      <td>41.36</td>\n",
       "      <td>28.96</td>\n",
       "      <td>3.77</td>\n",
       "      <td>8.45</td>\n",
       "      <td>76.0</td>\n",
       "      <td>8</td>\n",
       "      <td>E</td>\n",
       "    </tr>\n",
       "    <tr>\n",
       "      <td>1</td>\n",
       "      <td>Super Mario Bros.</td>\n",
       "      <td>NES</td>\n",
       "      <td>1985.0</td>\n",
       "      <td>Platform</td>\n",
       "      <td>29.08</td>\n",
       "      <td>3.58</td>\n",
       "      <td>6.81</td>\n",
       "      <td>0.77</td>\n",
       "      <td>NaN</td>\n",
       "      <td>NaN</td>\n",
       "      <td>NaN</td>\n",
       "    </tr>\n",
       "    <tr>\n",
       "      <td>2</td>\n",
       "      <td>Mario Kart Wii</td>\n",
       "      <td>Wii</td>\n",
       "      <td>2008.0</td>\n",
       "      <td>Racing</td>\n",
       "      <td>15.68</td>\n",
       "      <td>12.76</td>\n",
       "      <td>3.79</td>\n",
       "      <td>3.29</td>\n",
       "      <td>82.0</td>\n",
       "      <td>8.3</td>\n",
       "      <td>E</td>\n",
       "    </tr>\n",
       "    <tr>\n",
       "      <td>3</td>\n",
       "      <td>Wii Sports Resort</td>\n",
       "      <td>Wii</td>\n",
       "      <td>2009.0</td>\n",
       "      <td>Sports</td>\n",
       "      <td>15.61</td>\n",
       "      <td>10.93</td>\n",
       "      <td>3.28</td>\n",
       "      <td>2.95</td>\n",
       "      <td>80.0</td>\n",
       "      <td>8</td>\n",
       "      <td>E</td>\n",
       "    </tr>\n",
       "    <tr>\n",
       "      <td>4</td>\n",
       "      <td>Pokemon Red/Pokemon Blue</td>\n",
       "      <td>GB</td>\n",
       "      <td>1996.0</td>\n",
       "      <td>Role-Playing</td>\n",
       "      <td>11.27</td>\n",
       "      <td>8.89</td>\n",
       "      <td>10.22</td>\n",
       "      <td>1.00</td>\n",
       "      <td>NaN</td>\n",
       "      <td>NaN</td>\n",
       "      <td>NaN</td>\n",
       "    </tr>\n",
       "    <tr>\n",
       "      <td>...</td>\n",
       "      <td>...</td>\n",
       "      <td>...</td>\n",
       "      <td>...</td>\n",
       "      <td>...</td>\n",
       "      <td>...</td>\n",
       "      <td>...</td>\n",
       "      <td>...</td>\n",
       "      <td>...</td>\n",
       "      <td>...</td>\n",
       "      <td>...</td>\n",
       "      <td>...</td>\n",
       "    </tr>\n",
       "    <tr>\n",
       "      <td>16710</td>\n",
       "      <td>Samurai Warriors: Sanada Maru</td>\n",
       "      <td>PS3</td>\n",
       "      <td>2016.0</td>\n",
       "      <td>Action</td>\n",
       "      <td>0.00</td>\n",
       "      <td>0.00</td>\n",
       "      <td>0.01</td>\n",
       "      <td>0.00</td>\n",
       "      <td>NaN</td>\n",
       "      <td>NaN</td>\n",
       "      <td>NaN</td>\n",
       "    </tr>\n",
       "    <tr>\n",
       "      <td>16711</td>\n",
       "      <td>LMA Manager 2007</td>\n",
       "      <td>X360</td>\n",
       "      <td>2006.0</td>\n",
       "      <td>Sports</td>\n",
       "      <td>0.00</td>\n",
       "      <td>0.01</td>\n",
       "      <td>0.00</td>\n",
       "      <td>0.00</td>\n",
       "      <td>NaN</td>\n",
       "      <td>NaN</td>\n",
       "      <td>NaN</td>\n",
       "    </tr>\n",
       "    <tr>\n",
       "      <td>16712</td>\n",
       "      <td>Haitaka no Psychedelica</td>\n",
       "      <td>PSV</td>\n",
       "      <td>2016.0</td>\n",
       "      <td>Adventure</td>\n",
       "      <td>0.00</td>\n",
       "      <td>0.00</td>\n",
       "      <td>0.01</td>\n",
       "      <td>0.00</td>\n",
       "      <td>NaN</td>\n",
       "      <td>NaN</td>\n",
       "      <td>NaN</td>\n",
       "    </tr>\n",
       "    <tr>\n",
       "      <td>16713</td>\n",
       "      <td>Spirits &amp; Spells</td>\n",
       "      <td>GBA</td>\n",
       "      <td>2003.0</td>\n",
       "      <td>Platform</td>\n",
       "      <td>0.01</td>\n",
       "      <td>0.00</td>\n",
       "      <td>0.00</td>\n",
       "      <td>0.00</td>\n",
       "      <td>NaN</td>\n",
       "      <td>NaN</td>\n",
       "      <td>NaN</td>\n",
       "    </tr>\n",
       "    <tr>\n",
       "      <td>16714</td>\n",
       "      <td>Winning Post 8 2016</td>\n",
       "      <td>PSV</td>\n",
       "      <td>2016.0</td>\n",
       "      <td>Simulation</td>\n",
       "      <td>0.00</td>\n",
       "      <td>0.00</td>\n",
       "      <td>0.01</td>\n",
       "      <td>0.00</td>\n",
       "      <td>NaN</td>\n",
       "      <td>NaN</td>\n",
       "      <td>NaN</td>\n",
       "    </tr>\n",
       "  </tbody>\n",
       "</table>\n",
       "<p>16715 rows × 11 columns</p>\n",
       "</div>"
      ],
      "text/plain": [
       "                                Name Platform  Year_of_Release         Genre  \\\n",
       "0                         Wii Sports      Wii           2006.0        Sports   \n",
       "1                  Super Mario Bros.      NES           1985.0      Platform   \n",
       "2                     Mario Kart Wii      Wii           2008.0        Racing   \n",
       "3                  Wii Sports Resort      Wii           2009.0        Sports   \n",
       "4           Pokemon Red/Pokemon Blue       GB           1996.0  Role-Playing   \n",
       "...                              ...      ...              ...           ...   \n",
       "16710  Samurai Warriors: Sanada Maru      PS3           2016.0        Action   \n",
       "16711               LMA Manager 2007     X360           2006.0        Sports   \n",
       "16712        Haitaka no Psychedelica      PSV           2016.0     Adventure   \n",
       "16713               Spirits & Spells      GBA           2003.0      Platform   \n",
       "16714            Winning Post 8 2016      PSV           2016.0    Simulation   \n",
       "\n",
       "       NA_sales  EU_sales  JP_sales  Other_sales  Critic_Score User_Score  \\\n",
       "0         41.36     28.96      3.77         8.45          76.0          8   \n",
       "1         29.08      3.58      6.81         0.77           NaN        NaN   \n",
       "2         15.68     12.76      3.79         3.29          82.0        8.3   \n",
       "3         15.61     10.93      3.28         2.95          80.0          8   \n",
       "4         11.27      8.89     10.22         1.00           NaN        NaN   \n",
       "...         ...       ...       ...          ...           ...        ...   \n",
       "16710      0.00      0.00      0.01         0.00           NaN        NaN   \n",
       "16711      0.00      0.01      0.00         0.00           NaN        NaN   \n",
       "16712      0.00      0.00      0.01         0.00           NaN        NaN   \n",
       "16713      0.01      0.00      0.00         0.00           NaN        NaN   \n",
       "16714      0.00      0.00      0.01         0.00           NaN        NaN   \n",
       "\n",
       "      Rating  \n",
       "0          E  \n",
       "1        NaN  \n",
       "2          E  \n",
       "3          E  \n",
       "4        NaN  \n",
       "...      ...  \n",
       "16710    NaN  \n",
       "16711    NaN  \n",
       "16712    NaN  \n",
       "16713    NaN  \n",
       "16714    NaN  \n",
       "\n",
       "[16715 rows x 11 columns]"
      ]
     },
     "execution_count": 4,
     "metadata": {},
     "output_type": "execute_result"
    }
   ],
   "source": [
    "data"
   ]
  },
  {
   "cell_type": "markdown",
   "id": "556d2bfc",
   "metadata": {},
   "source": [
    "Описание данных\n",
    "- Name — название игры\n",
    "- Platform — платформа\n",
    "- Year_of_Release — год выпуска\n",
    "- Genre — жанр игры\n",
    "- NA_sales — продажи в Северной Америке (миллионы проданных копий)\n",
    "- EU_sales — продажи в Европе (миллионы проданных копий)\n",
    "- JP_sales — продажи в Японии (миллионы проданных копий)\n",
    "- Other_sales — продажи в других странах (миллионы проданных копий)\n",
    "- Critic_Score — оценка критиков (максимум 100)\n",
    "- User_Score — оценка пользователей (максимум 10)\n",
    "- Rating — рейтинг от организации ESRB (англ. Entertainment Software Rating Board). Эта ассоциация определяет рейтинг компьютерных игр и присваивает им подходящую возрастную категорию.\n"
   ]
  },
  {
   "cell_type": "markdown",
   "id": "2308d5d3",
   "metadata": {},
   "source": [
    "Получим общую информацию о данных путем применения функции *info*"
   ]
  },
  {
   "cell_type": "code",
   "execution_count": 5,
   "id": "5485ac29",
   "metadata": {},
   "outputs": [
    {
     "name": "stdout",
     "output_type": "stream",
     "text": [
      "<class 'pandas.core.frame.DataFrame'>\n",
      "RangeIndex: 16715 entries, 0 to 16714\n",
      "Data columns (total 11 columns):\n",
      "Name               16713 non-null object\n",
      "Platform           16715 non-null object\n",
      "Year_of_Release    16446 non-null float64\n",
      "Genre              16713 non-null object\n",
      "NA_sales           16715 non-null float64\n",
      "EU_sales           16715 non-null float64\n",
      "JP_sales           16715 non-null float64\n",
      "Other_sales        16715 non-null float64\n",
      "Critic_Score       8137 non-null float64\n",
      "User_Score         10014 non-null object\n",
      "Rating             9949 non-null object\n",
      "dtypes: float64(6), object(5)\n",
      "memory usage: 1.4+ MB\n"
     ]
    }
   ],
   "source": [
    "data.info()"
   ]
  },
  {
   "cell_type": "markdown",
   "id": "bf5d04d5",
   "metadata": {},
   "source": [
    "Первичный взгляд на имеющиеся данные выявил следующее:\n",
    "- имеется 16714 строк с данными,\n",
    "- названия столбцов имеют как заглавные, так и прописные символы,\n",
    "- в ряде столбцов имеются пропуски в данных (это касается столбцов с названием игры, датой релиза, жанром, оценкой критиков, оценкой пользователей, возрастным рейтингом),\n",
    "- столбец с оценкой пользователей несмотря на предположение, что оценки выражаются в числах, имеет тип данных object, надо будет рассмотреть его более пристально,\n",
    "- есть возможность заменить типы данных на более подходящие, так дата релиза храниться в типе данных с плавующей точкой, что является излишним."
   ]
  },
  {
   "cell_type": "markdown",
   "id": "418c3e1c",
   "metadata": {},
   "source": [
    "## Подготовка данных ##\n",
    "\n",
    "1. Замените названия столбцов (приведите к нижнему регистру);\n",
    "2. Преобразуйте данные в нужные типы. Опишите, в каких столбцах заменили тип данных и почему;\n",
    "3. Обработайте пропуски при необходимости:\n",
    "  1. Объясните, почему заполнили пропуски определённым образом или почему не стали это делать\n",
    "  2. Опишите причины, которые могли привести к пропускам\n",
    "  3. Обратите внимание на аббревиатуру 'tbd' в столбцах с рейтингом. Отдельно разберите это значение и опишите, как его обработать\n",
    "4. Посчитайте суммарные продажи во всех регионах и запишите их в отдельный столбец."
   ]
  },
  {
   "cell_type": "markdown",
   "id": "586d10af",
   "metadata": {},
   "source": [
    "### Унификация названий столбцов ### "
   ]
  },
  {
   "cell_type": "markdown",
   "id": "cd103f9a",
   "metadata": {},
   "source": [
    "Преобразуем название столбов в нижний регистр путем применения функции *str.lower*"
   ]
  },
  {
   "cell_type": "code",
   "execution_count": 6,
   "id": "863e95ff",
   "metadata": {},
   "outputs": [],
   "source": [
    "data.columns = data.columns.str.lower()"
   ]
  },
  {
   "cell_type": "markdown",
   "id": "7ccdf669",
   "metadata": {},
   "source": [
    "### Обработка пропусков ###"
   ]
  },
  {
   "cell_type": "markdown",
   "id": "d74c2190",
   "metadata": {},
   "source": [
    "Первичный анализ данных выявил пропуски.\n",
    "\n",
    "Методом *isna()* в купе с *sum* примененным к датафрейму посмотрим сколько и где находиться пропусков."
   ]
  },
  {
   "cell_type": "code",
   "execution_count": 7,
   "id": "022b6d1f",
   "metadata": {
    "scrolled": true
   },
   "outputs": [
    {
     "data": {
      "text/plain": [
       "name                  2\n",
       "platform              0\n",
       "year_of_release     269\n",
       "genre                 2\n",
       "na_sales              0\n",
       "eu_sales              0\n",
       "jp_sales              0\n",
       "other_sales           0\n",
       "critic_score       8578\n",
       "user_score         6701\n",
       "rating             6766\n",
       "dtype: int64"
      ]
     },
     "execution_count": 7,
     "metadata": {},
     "output_type": "execute_result"
    }
   ],
   "source": [
    "data.isna().sum()"
   ]
  },
  {
   "cell_type": "markdown",
   "id": "eb6981eb",
   "metadata": {},
   "source": [
    "Как видим наибольшее количество пропусков касается столбцов, содержащих сведения о рейтингах, однако, ввиду невозможности применения иного способа кроме как поиска информации в других источниках и заполнение отсуствующих данных, оставим эти пропуски как есть.\n",
    "\n",
    "Что касается природы наличия таких пропусков, то без наличия дополнительной информации откуда эти данные были выгружены, мы можем только некоторые предположения:\n",
    "- Для оценок критиков и пользователей:\n",
    "1. Если предположить, что \"Стримчик\" обладает собственными критиками, а также имеет возможность пользователям выставлять оценку,  то пропуски можно объяснить тем, что эти игры просто не были оценены.\n",
    "2. Более вероятным видиться, что для отображения рейтинга, эти данные агрегируются со значимых для сообщества изданий, либо уже беруться данные с авторитетных агрегаторов, например *metacritic.com*, где, кстати, рейтинг также делиться оценки на критиков и пользователей. В таком случае можно говорить либо о какой-то ошибки выгрузки данных, либо, что данный агрегатор не содержит сведения о какой-то игре ввиду каких-то своих особенностей.\n",
    "- Что касается рейтинга агенства ESRB.<br>\n",
    "Данный рейтинг предполагает оценку игр для северо-американского региона, а сама организация была основана в 1994 году.\n",
    "Таким образом рейтинг для игр, выпущенных для других регионов либо выпущенных ранее 94-го года, будет отсуствовать по объективным причинам.<br>\n",
    "\n",
    "Конечно никогда не стоит исключать и человечкий фактор.\n",
    "\n",
    "\n",
    "Что касается пропусков в *названии игры*, *года её выпуска* и *жанра*, целесообразным будет удалить эти строки. Тем более их вес в данной выборке менее 2% и, в конечном счёте, это не повлияет на дальнейший анализ.\n",
    "\n",
    "Удалим пропуски методом *dropna*, где укажем интересующие нас столбцы в параметре subset."
   ]
  },
  {
   "cell_type": "code",
   "execution_count": 8,
   "id": "0b5efd93",
   "metadata": {},
   "outputs": [],
   "source": [
    "data.dropna(subset=['name', 'year_of_release', 'genre'], inplace=True)"
   ]
  },
  {
   "cell_type": "markdown",
   "id": "b3987907",
   "metadata": {},
   "source": [
    "Проверим данные на явные дубликаты методом *duplicated* в связке с *sum*."
   ]
  },
  {
   "cell_type": "code",
   "execution_count": 9,
   "id": "3b054f25",
   "metadata": {},
   "outputs": [
    {
     "data": {
      "text/plain": [
       "0"
      ]
     },
     "execution_count": 9,
     "metadata": {},
     "output_type": "execute_result"
    }
   ],
   "source": [
    "data.duplicated().sum()"
   ]
  },
  {
   "cell_type": "markdown",
   "id": "8debfb26",
   "metadata": {},
   "source": [
    "Вызовем числовое описание столбца с годом релиза методом *describe* для анализа на выдающиеся значения."
   ]
  },
  {
   "cell_type": "code",
   "execution_count": 10,
   "id": "94dc40f8",
   "metadata": {},
   "outputs": [
    {
     "data": {
      "text/plain": [
       "count    16444.000000\n",
       "mean      2006.486256\n",
       "std          5.875525\n",
       "min       1980.000000\n",
       "25%       2003.000000\n",
       "50%       2007.000000\n",
       "75%       2010.000000\n",
       "max       2016.000000\n",
       "Name: year_of_release, dtype: float64"
      ]
     },
     "execution_count": 10,
     "metadata": {},
     "output_type": "execute_result"
    }
   ],
   "source": [
    "data['year_of_release'].describe()"
   ]
  },
  {
   "cell_type": "markdown",
   "id": "fbef9e73",
   "metadata": {},
   "source": [
    "История компьютерных игр начинается в 1940-х и 1950-х годах, следовательно, тот факт, что значения столбца *year_of_release* находятся в диапазоне от 1980 по 2016, свидетильствует о том, что анамалий нет."
   ]
  },
  {
   "cell_type": "markdown",
   "id": "076ec112",
   "metadata": {},
   "source": [
    "Теперь рассмотрим более пристально столбы с катеригориальными данными (*platform*, *genre*, *rating*) на предмет неявных дубликатов.\n",
    "Для этого изучим уникальные значения для каждого столбца методом *unique*, но прежде применим сортировку к датафрейму (*sort_values*), чтобы упорядочить список уникальных значений."
   ]
  },
  {
   "cell_type": "code",
   "execution_count": 11,
   "id": "8571a33e",
   "metadata": {},
   "outputs": [
    {
     "data": {
      "text/plain": [
       "array(['2600', '3DO', '3DS', 'DC', 'DS', 'GB', 'GBA', 'GC', 'GEN', 'GG',\n",
       "       'N64', 'NES', 'NG', 'PC', 'PCFX', 'PS', 'PS2', 'PS3', 'PS4', 'PSP',\n",
       "       'PSV', 'SAT', 'SCD', 'SNES', 'TG16', 'WS', 'Wii', 'WiiU', 'X360',\n",
       "       'XB', 'XOne'], dtype=object)"
      ]
     },
     "execution_count": 11,
     "metadata": {},
     "output_type": "execute_result"
    }
   ],
   "source": [
    "data.sort_values(by='platform')['platform'].unique()"
   ]
  },
  {
   "cell_type": "code",
   "execution_count": 12,
   "id": "d713078a",
   "metadata": {},
   "outputs": [
    {
     "data": {
      "text/plain": [
       "array(['Action', 'Adventure', 'Fighting', 'Misc', 'Platform', 'Puzzle',\n",
       "       'Racing', 'Role-Playing', 'Shooter', 'Simulation', 'Sports',\n",
       "       'Strategy'], dtype=object)"
      ]
     },
     "execution_count": 12,
     "metadata": {},
     "output_type": "execute_result"
    }
   ],
   "source": [
    "data.sort_values(by='genre')['genre'].unique()"
   ]
  },
  {
   "cell_type": "code",
   "execution_count": 13,
   "id": "d72afa8f",
   "metadata": {},
   "outputs": [
    {
     "data": {
      "text/plain": [
       "array(['AO', 'E', 'E10+', 'EC', 'K-A', 'M', 'RP', 'T', nan], dtype=object)"
      ]
     },
     "execution_count": 13,
     "metadata": {},
     "output_type": "execute_result"
    }
   ],
   "source": [
    "data.sort_values(by='rating')['rating'].unique()"
   ]
  },
  {
   "cell_type": "markdown",
   "id": "f709f8dd",
   "metadata": {},
   "source": [
    "Неявный дубликатов в списке платформ не имеется.\n",
    "\n",
    "А вот что касается жанров, то неявный дубликатов здесь также нет, однако, есть значение ***misc***, что скорее всего обозначает \"miscellaneous game\", т.е. игры не вошедшие в предыдущие жанры.\n",
    "\n",
    "В сведениях о рейтинге ESRB имеется значение ***K-A***, которое до 1999 года присваивалась играм категории \"Для всех\" и соответствует категории ***E*** в текущий редакции рейтинга. Для целей нашего анализа будет целесообразно актуализировать старые рейтинга на новый лад."
   ]
  },
  {
   "cell_type": "code",
   "execution_count": 14,
   "id": "dca2c0a7",
   "metadata": {},
   "outputs": [],
   "source": [
    "data.loc[data['rating'] =='K-A', 'rating'] = 'E'"
   ]
  },
  {
   "cell_type": "markdown",
   "id": "4d19b90d",
   "metadata": {},
   "source": [
    "Теперь посмотрим, нет ли аномальных значений в информации об оценках критиках, поскольку там храняться числовые значения применим метод *describe()*."
   ]
  },
  {
   "cell_type": "code",
   "execution_count": 15,
   "id": "df4afc03",
   "metadata": {},
   "outputs": [
    {
     "data": {
      "text/plain": [
       "count    7983.000000\n",
       "mean       68.994363\n",
       "std        13.920060\n",
       "min        13.000000\n",
       "25%        60.000000\n",
       "50%        71.000000\n",
       "75%        79.000000\n",
       "max        98.000000\n",
       "Name: critic_score, dtype: float64"
      ]
     },
     "execution_count": 15,
     "metadata": {},
     "output_type": "execute_result"
    }
   ],
   "source": [
    "data['critic_score'].describe()"
   ]
  },
  {
   "cell_type": "markdown",
   "id": "42382cf5",
   "metadata": {},
   "source": [
    "Несмотря на пропуски, в остальном, значения находяться в пределах шкалы от 0 до 100 баллов, с максимальным баллом  в 98."
   ]
  },
  {
   "cell_type": "markdown",
   "id": "c1c1338a",
   "metadata": {},
   "source": [
    "Принимая во внимание, что входе первичного анализа, было установленно, что столбец с оценками пользователей имеет тип object, для изучения данных взглянем на уникальные ххранящиеся уникальные значения."
   ]
  },
  {
   "cell_type": "code",
   "execution_count": 16,
   "id": "65244f52",
   "metadata": {},
   "outputs": [
    {
     "data": {
      "text/plain": [
       "array(['0', '0.2', '0.3', '0.5', '0.6', '0.7', '0.9', '1', '1.1', '1.2',\n",
       "       '1.3', '1.4', '1.5', '1.6', '1.7', '1.8', '1.9', '2', '2.1', '2.2',\n",
       "       '2.3', '2.4', '2.5', '2.6', '2.7', '2.8', '2.9', '3', '3.1', '3.2',\n",
       "       '3.3', '3.4', '3.5', '3.6', '3.7', '3.8', '3.9', '4', '4.1', '4.2',\n",
       "       '4.3', '4.4', '4.5', '4.6', '4.7', '4.8', '4.9', '5', '5.1', '5.2',\n",
       "       '5.3', '5.4', '5.5', '5.6', '5.7', '5.8', '5.9', '6', '6.1', '6.2',\n",
       "       '6.3', '6.4', '6.5', '6.6', '6.7', '6.8', '6.9', '7', '7.1', '7.2',\n",
       "       '7.3', '7.4', '7.5', '7.6', '7.7', '7.8', '7.9', '8', '8.1', '8.2',\n",
       "       '8.3', '8.4', '8.5', '8.6', '8.7', '8.8', '8.9', '9', '9.1', '9.2',\n",
       "       '9.3', '9.4', '9.5', '9.6', '9.7', 'tbd', nan], dtype=object)"
      ]
     },
     "execution_count": 16,
     "metadata": {},
     "output_type": "execute_result"
    }
   ],
   "source": [
    "data.sort_values(by='user_score')['user_score'].unique()"
   ]
  },
  {
   "cell_type": "markdown",
   "id": "ce5c179f",
   "metadata": {},
   "source": [
    "Обнаружилось, что рассматриваемый столбец содержит не только числовое выражение оценок в диапазоне от 0 до 10, но и  ***tbd***.<br> Предположим, что *tbd* - это аббревиатура от английского *To Be Determined (будет определено)*.\n",
    "\n",
    "Поскольку, в дальнейшем, это может отразиться на наших вычислениях, заменим значение *tbd* на *nan* типа *float*, так данный рейтинг представлен значениями, имеющию дробную часть."
   ]
  },
  {
   "cell_type": "code",
   "execution_count": 17,
   "id": "8948fae0",
   "metadata": {},
   "outputs": [],
   "source": [
    "data.loc[data['user_score'] == 'tbd', 'user_score'] = float('nan')"
   ]
  },
  {
   "cell_type": "markdown",
   "id": "98fae863",
   "metadata": {},
   "source": [
    "### Преобразование типа данных"
   ]
  },
  {
   "cell_type": "markdown",
   "id": "d6ae750b",
   "metadata": {},
   "source": [
    "Для изучения возможности преобразования типа данных получим информацию о датафреме."
   ]
  },
  {
   "cell_type": "code",
   "execution_count": 18,
   "id": "62368c91",
   "metadata": {},
   "outputs": [
    {
     "name": "stdout",
     "output_type": "stream",
     "text": [
      "<class 'pandas.core.frame.DataFrame'>\n",
      "Int64Index: 16444 entries, 0 to 16714\n",
      "Data columns (total 11 columns):\n",
      "name               16444 non-null object\n",
      "platform           16444 non-null object\n",
      "year_of_release    16444 non-null float64\n",
      "genre              16444 non-null object\n",
      "na_sales           16444 non-null float64\n",
      "eu_sales           16444 non-null float64\n",
      "jp_sales           16444 non-null float64\n",
      "other_sales        16444 non-null float64\n",
      "critic_score       7983 non-null float64\n",
      "user_score         7463 non-null object\n",
      "rating             9768 non-null object\n",
      "dtypes: float64(6), object(5)\n",
      "memory usage: 1.5+ MB\n"
     ]
    }
   ],
   "source": [
    "data.info()"
   ]
  },
  {
   "cell_type": "markdown",
   "id": "d38f49b5",
   "metadata": {},
   "source": [
    "Исходя из полученных сведений целеособразным представляется:\n",
    "1. Оставить тип данных для столбца *name* без изменений, а также *critic_score*, т.к., к сожалению, невозможно преобразовать в целочисленный тип столбец, содержащий нулевые значения,\n",
    "2. Изменить тип данных:\n",
    " 1. на целочисленный для столбцов *year_of_release*(т.к. дата релиза представлена годом, а не точной датой, и в дальнейшей это отличие не будет иметь значимости в исследование), *critic_score*,\n",
    " 2. на вещественный для столбца *user_score*."
   ]
  },
  {
   "cell_type": "markdown",
   "id": "cf8b6bcc",
   "metadata": {},
   "source": [
    "Изменим тип данных столбцов *year_of_release* на целочисленный."
   ]
  },
  {
   "cell_type": "code",
   "execution_count": 19,
   "id": "e35814bb",
   "metadata": {},
   "outputs": [],
   "source": [
    "data['year_of_release'] = data['year_of_release'].astype(int)"
   ]
  },
  {
   "cell_type": "markdown",
   "id": "8df8b262",
   "metadata": {},
   "source": [
    "Изменим тип данных столбца *user_score* на вещественный."
   ]
  },
  {
   "cell_type": "code",
   "execution_count": 20,
   "id": "aecc11ed",
   "metadata": {},
   "outputs": [],
   "source": [
    "data['user_score'] = pd.to_numeric(data['user_score'])"
   ]
  },
  {
   "cell_type": "markdown",
   "id": "1e828292",
   "metadata": {},
   "source": [
    "Проверим результат проведенных манипуляций"
   ]
  },
  {
   "cell_type": "code",
   "execution_count": 21,
   "id": "3c5a30ef",
   "metadata": {},
   "outputs": [
    {
     "name": "stdout",
     "output_type": "stream",
     "text": [
      "<class 'pandas.core.frame.DataFrame'>\n",
      "Int64Index: 16444 entries, 0 to 16714\n",
      "Data columns (total 11 columns):\n",
      "name               16444 non-null object\n",
      "platform           16444 non-null object\n",
      "year_of_release    16444 non-null int64\n",
      "genre              16444 non-null object\n",
      "na_sales           16444 non-null float64\n",
      "eu_sales           16444 non-null float64\n",
      "jp_sales           16444 non-null float64\n",
      "other_sales        16444 non-null float64\n",
      "critic_score       7983 non-null float64\n",
      "user_score         7463 non-null float64\n",
      "rating             9768 non-null object\n",
      "dtypes: float64(6), int64(1), object(4)\n",
      "memory usage: 1.5+ MB\n"
     ]
    }
   ],
   "source": [
    "data.info()"
   ]
  },
  {
   "cell_type": "markdown",
   "id": "be7eb45a",
   "metadata": {},
   "source": []
  },
  {
   "cell_type": "markdown",
   "id": "56f53813",
   "metadata": {},
   "source": [
    "### Наполнение таблицы дополнительными данными ###"
   ]
  },
  {
   "cell_type": "markdown",
   "id": "99d103c0",
   "metadata": {},
   "source": [
    "Добавим в таблицу данные о суммарных продажах и поместим их в столбец *total_sales*."
   ]
  },
  {
   "cell_type": "code",
   "execution_count": 22,
   "id": "e380b640",
   "metadata": {},
   "outputs": [],
   "source": [
    "data['total_sales'] = data['na_sales'] + data['eu_sales'] + data['jp_sales'] + data['other_sales']"
   ]
  },
  {
   "cell_type": "markdown",
   "id": "748bb5e6",
   "metadata": {},
   "source": [
    "Поставим столбец с информацией о суммарных продажах после столбцов с продажами по регионам."
   ]
  },
  {
   "cell_type": "code",
   "execution_count": 23,
   "id": "85e0b5dd",
   "metadata": {},
   "outputs": [],
   "source": [
    "data = data[['name', 'platform', 'year_of_release', 'genre', 'na_sales', 'eu_sales','jp_sales', 'other_sales', 'total_sales', 'critic_score', 'user_score', 'rating']]"
   ]
  },
  {
   "cell_type": "markdown",
   "id": "c7f79e93",
   "metadata": {},
   "source": [
    "## Проведем исследовательский анализ данных ##\n",
    "\n",
    "В рамках анализа:\n",
    "1. Посмотрим, сколько игр выпускалось в разные годы.\n",
    "2. Изучим, как менялись продажи по платформам, а также выберем платформы с наибольшими суммарными продажами и построим распределение по годам.\n",
    "3. Сделаем срез данных за актуальный период. *Актуальный период определите самостоятельно в результате исследования предыдущих вопросов. Основной фактор — эти данные помогут построить прогноз на 2017 год. Не учитывайте в работе данные за предыдущие годы.*\n",
    "4. Ответим на вопрос: какие платформы лидируют по продажам, растут или падают? Выберем несколько потенциально прибыльных платформ.\n",
    "5. Построим график «ящик с усами» по глобальным продажам игр в разбивке по платформам. *Опишите результат.*\n",
    "6. Узнаем, как влияют на продажи внутри одной популярной платформы отзывы пользователей и критиков. *Постройте диаграмму рассеяния и посчитайте корреляцию между отзывами и продажами. Сформулируйте выводы. Соотнесите выводы с продажами игр на других платформах.*\n",
    "7. Изучим общее распределение игр по жанрам. *Что можно сказать о самых прибыльных жанрах? Выделяются ли жанры с высокими и низкими продажами?*"
   ]
  },
  {
   "cell_type": "markdown",
   "id": "bdeb6761",
   "metadata": {},
   "source": [
    "### Проведем анализ выхода игр в разные годы ###"
   ]
  },
  {
   "cell_type": "markdown",
   "id": "928ab69d",
   "metadata": {},
   "source": [
    "Для этого построим график"
   ]
  },
  {
   "cell_type": "code",
   "execution_count": 24,
   "id": "b5b1613a",
   "metadata": {},
   "outputs": [
    {
     "data": {
      "image/png": "[encoded data removed]",
      "text/plain": [
       "<Figure size 1080x360 with 1 Axes>"
      ]
     },
     "metadata": {
      "needs_background": "light"
     },
     "output_type": "display_data"
    }
   ],
   "source": [
    "#Строим график\n",
    "data.pivot_table(index='year_of_release', values='name', aggfunc='count').plot(grid=True, figsize=(15,5), legend=False)\n",
    "#Украшаем\n",
    "plt.xlabel('Год выпуска')\n",
    "plt.ylabel('Количество игр')\n",
    "plt.title('Выпуск игр (1980-2016 гг)')\n",
    "plt.show()"
   ]
  },
  {
   "cell_type": "markdown",
   "id": "c33328ba",
   "metadata": {},
   "source": [
    "Как видим игровая индустрия развивалась постепенно, это обосновано скорее экономическими фкаторами. На первых порах развития рынка игровые видеосистемы и персональные компьютеры были слишком д*о*роги для подавляющего большинства граждан. Однако, в дальнейшем с развитием технического прогресса, усовершенствования производственных циклов, высокотехнологические устройства становились всё доступнее, что и дало старт к более стремительному развитию игровой индустрии.\n",
    "\n",
    "Для нас, в рамках задач нашего иследования, историческая подоплека не имеет особого значения, и для анализа стоит выбрать наиболее актуальный период времени, который будет соотвествовать основным тенденциям в текущем периоде.\n",
    "\n",
    "Этим мы и займемся в  дальнейшим."
   ]
  },
  {
   "cell_type": "markdown",
   "id": "6e7e4a64",
   "metadata": {},
   "source": [
    "### Изучим продажи в разрезе платформ  ### "
   ]
  },
  {
   "cell_type": "markdown",
   "id": "4c161d40",
   "metadata": {},
   "source": [
    "В целях изучения продаж игр в разрезе всех платформ построим график подсчёта.\n",
    "Для этого обратимся к библиотеке *seaborn* и возьмем оттуда метод *scatterplot* для построения диаграммы рассеиванияю"
   ]
  },
  {
   "cell_type": "code",
   "execution_count": 25,
   "id": "60933e53",
   "metadata": {
    "scrolled": true
   },
   "outputs": [
    {
     "data": {
      "image/png": "[encoded data removed]",
      "text/plain": [
       "<Figure size 1200x800 with 1 Axes>"
      ]
     },
     "metadata": {
      "needs_background": "light"
     },
     "output_type": "display_data"
    }
   ],
   "source": [
    "# Строим диаграмму рассеивания\n",
    "fig, ax = plt.subplots(figsize=(15,10), dpi= 80)    \n",
    "sns.scatterplot(data=data.groupby(by='platform').agg({'total_sales':'sum'}).sort_values('total_sales', ascending=True).reset_index(), \n",
    "                x=\"platform\", y=\"total_sales\", size='total_sales')\n",
    "# Украшаем\n",
    "plt.title('Продажи игр в разрезе платформ за период 1980-2016 гг')\n",
    "plt.xlabel('Платформа')\n",
    "plt.ylabel('Продажи, млн копий')\n",
    "plt.show()"
   ]
  },
  {
   "cell_type": "markdown",
   "id": "a329e0ca",
   "metadata": {},
   "source": [
    "Выберем 10 платформ с наибольшими суммарными продажами"
   ]
  },
  {
   "cell_type": "markdown",
   "id": "042c1f81",
   "metadata": {},
   "source": [
    "Для этого создадим переменную в которую поместим 10 позиций от результата группировки методом *groupby* по столбцу *platform* с суммированием значений в столбце *total_sales* и сортировки по убыванию."
   ]
  },
  {
   "cell_type": "code",
   "execution_count": 26,
   "id": "1f888be6",
   "metadata": {},
   "outputs": [
    {
     "data": {
      "text/html": [
       "<div>\n",
       "<style scoped>\n",
       "    .dataframe tbody tr th:only-of-type {\n",
       "        vertical-align: middle;\n",
       "    }\n",
       "\n",
       "    .dataframe tbody tr th {\n",
       "        vertical-align: top;\n",
       "    }\n",
       "\n",
       "    .dataframe thead th {\n",
       "        text-align: right;\n",
       "    }\n",
       "</style>\n",
       "<table border=\"1\" class=\"dataframe\">\n",
       "  <thead>\n",
       "    <tr style=\"text-align: right;\">\n",
       "      <th></th>\n",
       "      <th>0</th>\n",
       "      <th>1</th>\n",
       "      <th>2</th>\n",
       "      <th>3</th>\n",
       "      <th>4</th>\n",
       "      <th>5</th>\n",
       "      <th>6</th>\n",
       "      <th>7</th>\n",
       "      <th>8</th>\n",
       "      <th>9</th>\n",
       "    </tr>\n",
       "  </thead>\n",
       "  <tbody>\n",
       "    <tr>\n",
       "      <td>platform</td>\n",
       "      <td>PS2</td>\n",
       "      <td>X360</td>\n",
       "      <td>PS3</td>\n",
       "      <td>Wii</td>\n",
       "      <td>DS</td>\n",
       "      <td>PS</td>\n",
       "      <td>PS4</td>\n",
       "      <td>GBA</td>\n",
       "      <td>PSP</td>\n",
       "      <td>3DS</td>\n",
       "    </tr>\n",
       "    <tr>\n",
       "      <td>total_sales</td>\n",
       "      <td>1233.56</td>\n",
       "      <td>961.24</td>\n",
       "      <td>931.34</td>\n",
       "      <td>891.18</td>\n",
       "      <td>802.78</td>\n",
       "      <td>727.58</td>\n",
       "      <td>314.14</td>\n",
       "      <td>312.88</td>\n",
       "      <td>289.53</td>\n",
       "      <td>257.81</td>\n",
       "    </tr>\n",
       "  </tbody>\n",
       "</table>\n",
       "</div>"
      ],
      "text/plain": [
       "                   0       1       2       3       4       5       6       7  \\\n",
       "platform         PS2    X360     PS3     Wii      DS      PS     PS4     GBA   \n",
       "total_sales  1233.56  961.24  931.34  891.18  802.78  727.58  314.14  312.88   \n",
       "\n",
       "                  8       9  \n",
       "platform        PSP     3DS  \n",
       "total_sales  289.53  257.81  "
      ]
     },
     "execution_count": 26,
     "metadata": {},
     "output_type": "execute_result"
    }
   ],
   "source": [
    "top_10_platform_by_sales = data.groupby(by='platform').agg({'total_sales':'sum'}).sort_values('total_sales', ascending=False).head(10).reset_index()\n",
    "top_10_platform_by_sales.T"
   ]
  },
  {
   "cell_type": "markdown",
   "id": "20abd1bf",
   "metadata": {},
   "source": [
    "Изучим распредление продаж по годам по полученному списку лидеров.\n",
    "\n"
   ]
  },
  {
   "cell_type": "markdown",
   "id": "c74a8637",
   "metadata": {},
   "source": [
    "С помощью метода *tolist()* примененного к столбцу *platform* полученной выше переменной создадим библиотеку лидеров рынка."
   ]
  },
  {
   "cell_type": "code",
   "execution_count": 27,
   "id": "3cc09b68",
   "metadata": {},
   "outputs": [],
   "source": [
    "list_of_top_10_platform_by_sales = top_10_platform_by_sales['platform'].tolist()"
   ]
  },
  {
   "cell_type": "markdown",
   "id": "2a9b5736",
   "metadata": {},
   "source": [
    "Метод *query* делаем срез данных по внешней библиотеке лидиров из которого формируем сводную таблицу, по которой в конечно счёте и строим график."
   ]
  },
  {
   "cell_type": "code",
   "execution_count": 28,
   "id": "6a68aceb",
   "metadata": {},
   "outputs": [
    {
     "data": {
      "image/png": "[encoded data removed]",
      "text/plain": [
       "<Figure size 1080x432 with 1 Axes>"
      ]
     },
     "metadata": {
      "needs_background": "light"
     },
     "output_type": "display_data"
    }
   ],
   "source": [
    "data.query('platform in @list_of_top_10_platform_by_sales').pivot_table(index='year_of_release', columns='platform', values='total_sales', aggfunc='sum').plot(figsize=(15,6))\n",
    "#Украшаем\n",
    "plt.title('Распределение по годам игр для ТОП-10 платформ по продажам')\n",
    "plt.xlabel('Платформа')\n",
    "plt.ylabel('Годы активных продаж')\n",
    "plt.show()"
   ]
  },
  {
   "cell_type": "markdown",
   "id": "f7e843cc",
   "metadata": {},
   "source": [
    "Как видим и лидиры рынка имеют свои взлёты и падения, но в целом графики похожи на нормальное распределения.\n",
    "\n",
    "Также следуют обратить внимание, что, если брать мир в целом, то персональные компьютеры (PC) не находяться в лидерох продаж, что нам, как гражданам пост-советского лагеря удивительно, но отражает реальную картину. Да, и будем, откровенны, количество пиратских копий не могло попасть изучаемые данные."
   ]
  },
  {
   "cell_type": "markdown",
   "id": "35e45090",
   "metadata": {},
   "source": [
    "Теперь изучим жизненный цикл консоли, точнее его активную фазу, и только в общемировом срезе, т.к. в мире игровых видеосистем всегда найдуться исключения, так NES/Famicom (у нас больше известен как \"DENDY\", к слову неофициальный аппаратный клон) был популярен в нашем регионе в период, когда во всем мире уже правили бал другие консоли, а позже воцарил своё триумфальное шествие по странам латинской америки, но это обсуловленно скорее экономической ситуацией в странах в этот период нежели преданостью фанатов. И таких примеров можно привести ещё несколько. Но, пожалуй, не здесь место этим историям...\n",
    "\n",
    "Для расчёта активной фазы жизненного цикла(АФЖЦ) поступим следующим образом: создадим функцию для одной строки, которая будет возращать расчётный срок АФЖЦ в годах для платформы как разницу конца и начала активной фазы продаж, учитывая следующие параметры (за исключением PC - для компьютеров будет возращать NaN, т.к. ПК - это отдельная история):\n",
    "1. Начало активной фазы - это год появления первых продаж копий игр для платформы\n",
    "2. Конец активной фазы - год, когда продажи составили менее 3 квартиля (75%), при этом во избежания попадания фазы роста мы отсекаем года по медиане для всех лет продаж для конкретной платформы."
   ]
  },
  {
   "cell_type": "markdown",
   "id": "2014e157",
   "metadata": {},
   "source": [
    "Создади перемененную с итоговыми продажи по всем регионам в разрезе платформ и лет в которую поместим результат соотвествующей группировки. Для избавления от мультииндекса применим метод *reset_index()*."
   ]
  },
  {
   "cell_type": "code",
   "execution_count": 29,
   "id": "3042e3d3",
   "metadata": {},
   "outputs": [],
   "source": [
    "total_by_platform_and_year = data.groupby(by=['platform','year_of_release']).agg({'total_sales':'sum'}).reset_index()"
   ]
  },
  {
   "cell_type": "markdown",
   "id": "b74d32fb",
   "metadata": {},
   "source": [
    "Определим функцию для одной строки и пропишем в ней ранее оговариваемые условия."
   ]
  },
  {
   "cell_type": "code",
   "execution_count": 30,
   "id": "1178b4d8",
   "metadata": {},
   "outputs": [],
   "source": [
    "def platform_active_live(row):\n",
    "    platform = row['platform']\n",
    "    start = total_by_platform_and_year.loc[total_by_platform_and_year['platform'] == platform, 'year_of_release'].min()\n",
    "    q75 = total_by_platform_and_year.loc[total_by_platform_and_year['platform'] == platform, 'total_sales'].quantile(0.75)\n",
    "    median_year = total_by_platform_and_year.loc[total_by_platform_and_year['platform'] == platform, 'year_of_release'].median()\n",
    "    finish = total_by_platform_and_year.loc[(total_by_platform_and_year['platform'] == platform) & (total_by_platform_and_year['total_sales'] <= q75) & (total_by_platform_and_year['year_of_release'] > median_year), 'year_of_release'].min()\n",
    "    if platform != 'PC':\n",
    "        return (finish-start)\n",
    "    return 'NaN'"
   ]
  },
  {
   "cell_type": "markdown",
   "id": "c6f239cc",
   "metadata": {},
   "source": [
    "Применим фунцкию методом *apply* к ранее созданному датафрейму."
   ]
  },
  {
   "cell_type": "code",
   "execution_count": 31,
   "id": "a5f92144",
   "metadata": {},
   "outputs": [],
   "source": [
    "total_by_platform_and_year['platform_active_live'] = total_by_platform_and_year.apply(platform_active_live, axis=1)"
   ]
  },
  {
   "cell_type": "markdown",
   "id": "f0ad9de3",
   "metadata": {},
   "source": [
    "Узнаем медиану для игровых консолей в целом."
   ]
  },
  {
   "cell_type": "code",
   "execution_count": 32,
   "id": "c44f29e0",
   "metadata": {},
   "outputs": [
    {
     "data": {
      "text/plain": [
       "6.0"
      ]
     },
     "execution_count": 32,
     "metadata": {},
     "output_type": "execute_result"
    }
   ],
   "source": [
    "total_by_platform_and_year['platform_active_live'].median()"
   ]
  },
  {
   "cell_type": "markdown",
   "id": "aab74cf6",
   "metadata": {},
   "source": [
    "Как видим активная фаза жизненного цикла для видеосистем составляет 6 лет, что в целом соответствуют мнению большинства игрового сообщества.\n",
    "\n",
    "Конечно, консоли продолжают существовать и имееют своих фанатов и по истечению этого срока по ряду причин, обослувленных в своей массе экономическими соображениями (т.к. при появлению нового поколения консолей, устройства да и игры к ним становятся дешевле, а в первые годы ещё и обладают б*о*льшим разнообразием), но в целом вендоры находят аргументы для игровых студий, чтобы последние выпускали игры на актуальные платформы."
   ]
  },
  {
   "cell_type": "markdown",
   "id": "7a8be74c",
   "metadata": {},
   "source": [
    "### Сделаем срез данных за актуальный период.  ###"
   ]
  },
  {
   "cell_type": "markdown",
   "id": "f0ca3a51",
   "metadata": {},
   "source": [
    "Для дальнейшего анализа надо выбрать наиболее актуальный период времени, который будет соотвествовать основным тенденциям в текущем периоде.\n",
    "\n",
    "Чтобы решить эту задачу следует ответить на несколько вопросов:\n",
    "- Какие платформы актуальны сейчас?\n",
    "- В какой фазе жизненного цикла они находяться?"
   ]
  },
  {
   "cell_type": "markdown",
   "id": "5d19713a",
   "metadata": {},
   "source": [
    "Учитывая, что активная фаза жиненного цикла для игровых видеосистем составляет 6 лет, то актуальными платформами будут те, которые находяться в пределах  данного диапазона."
   ]
  },
  {
   "cell_type": "markdown",
   "id": "b977c525",
   "metadata": {},
   "source": [
    "Для определения перечня актуальных платформ создадим функцию, которая вернет нам дату релиза первой игры для платформы, это и примем за старт продаж."
   ]
  },
  {
   "cell_type": "code",
   "execution_count": 33,
   "id": "c8d113fd",
   "metadata": {},
   "outputs": [],
   "source": [
    "def first_release(row):\n",
    "    platform = row['platform']\n",
    "    start = total_by_platform_and_year.loc[total_by_platform_and_year['platform'] == platform, 'year_of_release'].min()\n",
    "    return start"
   ]
  },
  {
   "cell_type": "markdown",
   "id": "337e8d81",
   "metadata": {},
   "source": [
    "Применим функцию к датафрейму *total_by_platform_and_year*"
   ]
  },
  {
   "cell_type": "code",
   "execution_count": 34,
   "id": "a6c568c5",
   "metadata": {},
   "outputs": [],
   "source": [
    "total_by_platform_and_year['release_year'] = total_by_platform_and_year.apply(first_release, axis=1)"
   ]
  },
  {
   "cell_type": "markdown",
   "id": "936c9760",
   "metadata": {},
   "source": [
    "Создадим перечень актуальных платформ и поместим его в отдельную переменную."
   ]
  },
  {
   "cell_type": "code",
   "execution_count": 35,
   "id": "cafb1feb",
   "metadata": {},
   "outputs": [],
   "source": [
    "actual_platform = total_by_platform_and_year.query('release_year >= 2010')['platform'].unique().tolist()"
   ]
  },
  {
   "cell_type": "markdown",
   "id": "621f9bd7",
   "metadata": {},
   "source": [
    "<div class=\"alert alert-info\">\n",
    "<b>Комментарий студента:</b> \n",
    "Реальность такова, что 6-7 лет - как раз для игровый консолей, что не есть как жизненный цикл, если брать актуальные на рынке консоли, то получается:<br>\n",
    "- 9-е поколение - PlayStaion 5 / Xbox Series X/S - 2020 год,<br>\n",
    "- 8-е поколение - PlayStation 4 / Xbox One - 2013 год,<br>\n",
    "- 7-е поколение - PlayStation 3 / Xbox 360 - 2006/2005 годы,<br>\n",
    "- 6-е поколение - PlayStation 2 / Xbox - 2000/2001 годы.<br><br>\n",
    "Тут намеряно опущены обновления консолей (такие как PS4 Pro например) в рамках одного поколения, так как на выпуск игр для платформы это не влияет.\n",
    "    \n",
    "При этом выпуск игр ещё некоторое время осуществляется на предыдущие поколения.\n",
    "    \n",
    "    \n",
    "Что касается трендов рынка, то согласен, логичнее смотреть на развитие актуального поколения, но только не в первый и второй год продаж, т.к. пользователи меняют консоли не так быстро по разным причинам.\n",
    "\n",
    "Однако было где-то пояснение в slack, что надо смотреть актуальность по жизненному циклу, меня это смутило, но делал так. Сейчас поправлю.\n",
    "<br>\n",
    "</div>"
   ]
  },
  {
   "cell_type": "markdown",
   "id": "24ea4620",
   "metadata": {},
   "source": [
    "Визиализиуем срез данных по продажам для актуальных платформ."
   ]
  },
  {
   "cell_type": "code",
   "execution_count": 36,
   "id": "a77ee9dd",
   "metadata": {},
   "outputs": [
    {
     "data": {
      "image/png": "[encoded data removed]",
      "text/plain": [
       "<Figure size 720x360 with 1 Axes>"
      ]
     },
     "metadata": {
      "needs_background": "light"
     },
     "output_type": "display_data"
    }
   ],
   "source": [
    "data.query('platform  in @actual_platform').pivot_table(index='year_of_release', columns='platform', values='total_sales', aggfunc='sum').plot(figsize=(10,5))\n",
    "#Украшаем\n",
    "plt.title('Ситуация на рынке игровых систем для актуальных платформ')\n",
    "plt.xlabel('Год')\n",
    "plt.ylabel('Продажи, млн. копий игр')\n",
    "plt.show()"
   ]
  },
  {
   "cell_type": "markdown",
   "id": "0ee25a4b",
   "metadata": {},
   "source": [
    "### Какие платформы лидируют по продажам, растут или падают? ###"
   ]
  },
  {
   "cell_type": "markdown",
   "id": "8b883c26",
   "metadata": {},
   "source": [
    "Как мы можем видеть на графике, характеризующим ситуацию на рынке игровых консолей, на данный момент 3 платформы заврешают свой жизненый цикл, это Nintendo 3DS, Ninteno Wii U, Sony PlayStation Vita - их продажи стремяться к нулю. А консоли Sony Playstation 4 и Microsoft Xbox One только преодолели свой пик и наметили тренд на снижение продаж.\n",
    "\n",
    "В рассматриваемом периоде времени потенциально прибыльными выглядят игровые приставки 8-го поколения (PS4 и XOne)."
   ]
  },
  {
   "cell_type": "markdown",
   "id": "b49fad9f",
   "metadata": {},
   "source": [
    "### Глобальные продажи игр в разбивке по платформам. ###"
   ]
  },
  {
   "cell_type": "markdown",
   "id": "d49133c3",
   "metadata": {},
   "source": [
    " В целях изучения лидеров глобального рынка продаж в разрезе платформ построим график «ящик с усами» методом *boxplot*."
   ]
  },
  {
   "cell_type": "markdown",
   "id": "70115081",
   "metadata": {},
   "source": [
    "Чтобы наш \"ящик\" приобрел более читаемый вид, и выбросы не растягивали его непомерно по вертикали, создадим список третьих квартилей лидеров рынка и поместим их переменную циклом."
   ]
  },
  {
   "cell_type": "code",
   "execution_count": 37,
   "id": "af6abd71",
   "metadata": {},
   "outputs": [],
   "source": [
    "q75_of_top_10_sales = []\n",
    "for platform in list_of_top_10_platform_by_sales:\n",
    "    q75_of_top_10_sales.append(data.loc[data['platform'] == platform,'total_sales'].quantile(0.75))"
   ]
  },
  {
   "cell_type": "code",
   "execution_count": 38,
   "id": "07139516",
   "metadata": {},
   "outputs": [
    {
     "data": {
      "image/png": "[encoded data removed]",
      "text/plain": [
       "<Figure size 1080x720 with 1 Axes>"
      ]
     },
     "metadata": {
      "needs_background": "light"
     },
     "output_type": "display_data"
    }
   ],
   "source": [
    "#Строим \"ящик с усами\"\n",
    "data.query('platform in @list_of_top_10_platform_by_sales').boxplot(column='total_sales', by='platform', figsize=(15,10))\n",
    "#Украшаем\n",
    "# определим лимит по оси Y в диапазоне от 0 до округленного вверх до целого максимум 3 квартиля для списка лидеров\n",
    "# это избавит нас от визуализации выбросов, так как нас они не интересуют\n",
    "plt.ylim(0,np.ceil(max(q75_of_top_10_sales)))\n",
    "plt.title('Медианы глобальных продаж лидеров рынка в разрезе консолей')\n",
    "plt.xlabel('Игровая платформа')\n",
    "plt.ylabel('Продажи, млн. копий игр')\n",
    "plt.show()"
   ]
  },
  {
   "cell_type": "markdown",
   "id": "a61e7235",
   "metadata": {},
   "source": [
    "Исходя из полученных данных, можно сделать однозначный вывод, что наилучшие медианные продажи составляют у стационарных консолей Sony: все поколения приставок Playstation преоделели отметку 0.2 млн.копий.\n",
    "\n",
    "Также стоит обратить внимание, что в 7-м поколении Microsoft со своей Xbox 360 сравнялась со своим главным конкурентом в лице Playstation 3 от Sony. При этом Nintendo, представленная в этом поколении Wii, занимает 3 место не дотягивая до медианы в 200 тыс. копий игр.\n",
    "\n",
    "Что касается портативных консолей, то тут несомненное лидерство за приставками от Nintendo: в списке лидеров находиться 3 приставки разного поколения (Game Boy Advance (GBA), Nintendo DS(DS), Nintendo 3DS(3DS)), против одной от Sony - PlayStation Portable(PSP). Если сравнивать портативные приставки, то из представленного списка сравнивать можно Nintendo DS и PlayStation Portable, так они были выпущены в аналогичный период, хоть показатели Sony и ниже, но в целом находяться на одном уровне."
   ]
  },
  {
   "cell_type": "markdown",
   "id": "8de82ecd",
   "metadata": {},
   "source": [
    "### Влиянение на продажи внутри одной популярной платформы отзывов пользователей и критиков. ###"
   ]
  },
  {
   "cell_type": "markdown",
   "id": "f4e24493",
   "metadata": {},
   "source": [
    "Для оценки влияния изучим лидера рынка для актуальных платформ по итогам продаж начиная с 2013 года. \n",
    "\n",
    "Определим лидера путем среза данных из основного массива с последующей группировкой и сортировкой по убывающей.<br>\n",
    "К полученному срезу применим метод *head* с аргументом 1."
   ]
  },
  {
   "cell_type": "code",
   "execution_count": 39,
   "id": "45dab953",
   "metadata": {},
   "outputs": [
    {
     "data": {
      "text/html": [
       "<div>\n",
       "<style scoped>\n",
       "    .dataframe tbody tr th:only-of-type {\n",
       "        vertical-align: middle;\n",
       "    }\n",
       "\n",
       "    .dataframe tbody tr th {\n",
       "        vertical-align: top;\n",
       "    }\n",
       "\n",
       "    .dataframe thead th {\n",
       "        text-align: right;\n",
       "    }\n",
       "</style>\n",
       "<table border=\"1\" class=\"dataframe\">\n",
       "  <thead>\n",
       "    <tr style=\"text-align: right;\">\n",
       "      <th></th>\n",
       "      <th>total_sales</th>\n",
       "    </tr>\n",
       "    <tr>\n",
       "      <th>platform</th>\n",
       "      <th></th>\n",
       "    </tr>\n",
       "  </thead>\n",
       "  <tbody>\n",
       "    <tr>\n",
       "      <td>PS4</td>\n",
       "      <td>314.14</td>\n",
       "    </tr>\n",
       "  </tbody>\n",
       "</table>\n",
       "</div>"
      ],
      "text/plain": [
       "          total_sales\n",
       "platform             \n",
       "PS4            314.14"
      ]
     },
     "execution_count": 39,
     "metadata": {},
     "output_type": "execute_result"
    }
   ],
   "source": [
    "data.query('year_of_release >= 2013').pivot_table(index='platform', values=\"total_sales\", aggfunc=\"sum\").sort_values('total_sales', ascending=False).head(1)"
   ]
  },
  {
   "cell_type": "markdown",
   "id": "0fd99ee4",
   "metadata": {},
   "source": [
    "Теперь узнаем коэффициент корреляции Пирсона методом *corr*, примененным к соответсвующей выборке."
   ]
  },
  {
   "cell_type": "code",
   "execution_count": 40,
   "id": "f43e2bf6",
   "metadata": {},
   "outputs": [
    {
     "data": {
      "text/html": [
       "<div>\n",
       "<style scoped>\n",
       "    .dataframe tbody tr th:only-of-type {\n",
       "        vertical-align: middle;\n",
       "    }\n",
       "\n",
       "    .dataframe tbody tr th {\n",
       "        vertical-align: top;\n",
       "    }\n",
       "\n",
       "    .dataframe thead th {\n",
       "        text-align: right;\n",
       "    }\n",
       "</style>\n",
       "<table border=\"1\" class=\"dataframe\">\n",
       "  <thead>\n",
       "    <tr style=\"text-align: right;\">\n",
       "      <th></th>\n",
       "      <th>total_sales</th>\n",
       "      <th>critic_score</th>\n",
       "      <th>user_score</th>\n",
       "    </tr>\n",
       "  </thead>\n",
       "  <tbody>\n",
       "    <tr>\n",
       "      <td>total_sales</td>\n",
       "      <td>1.000000</td>\n",
       "      <td>0.406568</td>\n",
       "      <td>-0.031957</td>\n",
       "    </tr>\n",
       "    <tr>\n",
       "      <td>critic_score</td>\n",
       "      <td>0.406568</td>\n",
       "      <td>1.000000</td>\n",
       "      <td>0.557654</td>\n",
       "    </tr>\n",
       "    <tr>\n",
       "      <td>user_score</td>\n",
       "      <td>-0.031957</td>\n",
       "      <td>0.557654</td>\n",
       "      <td>1.000000</td>\n",
       "    </tr>\n",
       "  </tbody>\n",
       "</table>\n",
       "</div>"
      ],
      "text/plain": [
       "              total_sales  critic_score  user_score\n",
       "total_sales      1.000000      0.406568   -0.031957\n",
       "critic_score     0.406568      1.000000    0.557654\n",
       "user_score      -0.031957      0.557654    1.000000"
      ]
     },
     "execution_count": 40,
     "metadata": {},
     "output_type": "execute_result"
    }
   ],
   "source": [
    "data.loc[data['platform'] == 'PS4', ['total_sales', 'critic_score', 'user_score']].corr()"
   ]
  },
  {
   "cell_type": "markdown",
   "id": "e0df921c",
   "metadata": {},
   "source": [
    "Построим диграмму рассеивания."
   ]
  },
  {
   "cell_type": "code",
   "execution_count": 41,
   "id": "b9efdca2",
   "metadata": {},
   "outputs": [
    {
     "data": {
      "image/png": "[encoded data removed]",
      "text/plain": [
       "<Figure size 432x288 with 9 Axes>"
      ]
     },
     "metadata": {
      "needs_background": "light"
     },
     "output_type": "display_data"
    }
   ],
   "source": [
    "pd.plotting.scatter_matrix(data.loc[data['platform'] == \"PS4\", ['total_sales', 'critic_score', 'user_score']])\n",
    "plt.show()"
   ]
  },
  {
   "cell_type": "markdown",
   "id": "76c0f598",
   "metadata": {},
   "source": [
    "Исходя из полученных данных можно сделать вывод, что оценки критиков влияют на продажи по изучаемой платформе, т.к коэффициент Пирсона положителем и составляет 0,41, т.е. чем оценка больше, тем продажи лучше, но их влияние достаточно слабое что касаетя оценок пользователей, то они имееют обратную направленность и не оказывают влияние на продажи (коэффициент составляет (-0.03))."
   ]
  },
  {
   "cell_type": "markdown",
   "id": "55e8434b",
   "metadata": {},
   "source": [
    "Сравним полученный результат оценки влияния с аналогичными показателями для Sony Playstation 2 и Microsoft Xbox 360, которые занимают верхние строчки по суммарным продажам за весь период."
   ]
  },
  {
   "cell_type": "code",
   "execution_count": 42,
   "id": "1c1c8d74",
   "metadata": {},
   "outputs": [
    {
     "data": {
      "text/html": [
       "<div>\n",
       "<style scoped>\n",
       "    .dataframe tbody tr th:only-of-type {\n",
       "        vertical-align: middle;\n",
       "    }\n",
       "\n",
       "    .dataframe tbody tr th {\n",
       "        vertical-align: top;\n",
       "    }\n",
       "\n",
       "    .dataframe thead th {\n",
       "        text-align: right;\n",
       "    }\n",
       "</style>\n",
       "<table border=\"1\" class=\"dataframe\">\n",
       "  <thead>\n",
       "    <tr style=\"text-align: right;\">\n",
       "      <th></th>\n",
       "      <th>total_sales</th>\n",
       "      <th>critic_score</th>\n",
       "      <th>user_score</th>\n",
       "    </tr>\n",
       "  </thead>\n",
       "  <tbody>\n",
       "    <tr>\n",
       "      <td>total_sales</td>\n",
       "      <td>1.000000</td>\n",
       "      <td>0.392536</td>\n",
       "      <td>0.175055</td>\n",
       "    </tr>\n",
       "    <tr>\n",
       "      <td>critic_score</td>\n",
       "      <td>0.392536</td>\n",
       "      <td>1.000000</td>\n",
       "      <td>0.565841</td>\n",
       "    </tr>\n",
       "    <tr>\n",
       "      <td>user_score</td>\n",
       "      <td>0.175055</td>\n",
       "      <td>0.565841</td>\n",
       "      <td>1.000000</td>\n",
       "    </tr>\n",
       "  </tbody>\n",
       "</table>\n",
       "</div>"
      ],
      "text/plain": [
       "              total_sales  critic_score  user_score\n",
       "total_sales      1.000000      0.392536    0.175055\n",
       "critic_score     0.392536      1.000000    0.565841\n",
       "user_score       0.175055      0.565841    1.000000"
      ]
     },
     "execution_count": 42,
     "metadata": {},
     "output_type": "execute_result"
    }
   ],
   "source": [
    "data.loc[data['platform'] == 'PS2', ['total_sales', 'critic_score', 'user_score']].corr()"
   ]
  },
  {
   "cell_type": "code",
   "execution_count": 43,
   "id": "c08c9c17",
   "metadata": {},
   "outputs": [
    {
     "data": {
      "text/html": [
       "<div>\n",
       "<style scoped>\n",
       "    .dataframe tbody tr th:only-of-type {\n",
       "        vertical-align: middle;\n",
       "    }\n",
       "\n",
       "    .dataframe tbody tr th {\n",
       "        vertical-align: top;\n",
       "    }\n",
       "\n",
       "    .dataframe thead th {\n",
       "        text-align: right;\n",
       "    }\n",
       "</style>\n",
       "<table border=\"1\" class=\"dataframe\">\n",
       "  <thead>\n",
       "    <tr style=\"text-align: right;\">\n",
       "      <th></th>\n",
       "      <th>total_sales</th>\n",
       "      <th>critic_score</th>\n",
       "      <th>user_score</th>\n",
       "    </tr>\n",
       "  </thead>\n",
       "  <tbody>\n",
       "    <tr>\n",
       "      <td>total_sales</td>\n",
       "      <td>1.000000</td>\n",
       "      <td>0.392866</td>\n",
       "      <td>0.114187</td>\n",
       "    </tr>\n",
       "    <tr>\n",
       "      <td>critic_score</td>\n",
       "      <td>0.392866</td>\n",
       "      <td>1.000000</td>\n",
       "      <td>0.625020</td>\n",
       "    </tr>\n",
       "    <tr>\n",
       "      <td>user_score</td>\n",
       "      <td>0.114187</td>\n",
       "      <td>0.625020</td>\n",
       "      <td>1.000000</td>\n",
       "    </tr>\n",
       "  </tbody>\n",
       "</table>\n",
       "</div>"
      ],
      "text/plain": [
       "              total_sales  critic_score  user_score\n",
       "total_sales      1.000000      0.392866    0.114187\n",
       "critic_score     0.392866      1.000000    0.625020\n",
       "user_score       0.114187      0.625020    1.000000"
      ]
     },
     "execution_count": 43,
     "metadata": {},
     "output_type": "execute_result"
    }
   ],
   "source": [
    "data.loc[data['platform'] == 'X360', ['total_sales', 'critic_score', 'user_score']].corr()"
   ]
  },
  {
   "cell_type": "markdown",
   "id": "4b25e5fb",
   "metadata": {},
   "source": [
    "Как видим, и по игровым приставкам предыдущего поколения наблюдалась взаимосвязь между оценками критиков и продажами игр, при этом можно говорить, что наблюдалось практически одинковое влияние, т.к. коэффициент Пирсона для обеих платформ составлял порядка 0,39, при этом следует обратить внимание, что в отличии от текущей ситации имело место положительное влияние и пользовательский рейтинг.\n",
    "\n",
    "По моему мнению данную ситуацию следует рассматривать с точки зрения проникновения интернета в общество и его влияние на мнения, т.к. в то время веб-социализация была не столь существенной и при покупки игр большинство ориентировалось на профильные издания и мнения своего окружения, но это выходит за рамки нашего исседования, поэтому не будем уделять этому факту особое значение."
   ]
  },
  {
   "cell_type": "markdown",
   "id": "19e0af92",
   "metadata": {},
   "source": [
    "### Изучим общее распределение игр по жанрам. ###"
   ]
  },
  {
   "cell_type": "markdown",
   "id": "59a17f28",
   "metadata": {},
   "source": [
    "Создадим переменную в которую поместим срез от основного датафрейма с данными за период, начиная с 2013 года, по всем платформам."
   ]
  },
  {
   "cell_type": "code",
   "execution_count": 44,
   "id": "b57be767",
   "metadata": {},
   "outputs": [],
   "source": [
    "actual_total_sales = data.query('year_of_release >= 2013').groupby(by='genre').agg({'total_sales':'sum'}).reset_index().sort_values('total_sales', ascending=False)"
   ]
  },
  {
   "cell_type": "markdown",
   "id": "fac2ebeb",
   "metadata": {},
   "source": [
    "Для визуализации построим круговую диаграмму."
   ]
  },
  {
   "cell_type": "code",
   "execution_count": 45,
   "id": "240fdb0e",
   "metadata": {},
   "outputs": [
    {
     "data": {
      "image/png": "[encoded data removed]",
      "text/plain": [
       "<Figure size 720x720 with 1 Axes>"
      ]
     },
     "metadata": {},
     "output_type": "display_data"
    }
   ],
   "source": [
    "plt.pie(data=actual_total_sales, x='total_sales', labels=actual_total_sales['genre'],autopct='%1.1f%%')\n",
    "fig = plt.gcf()\n",
    "fig.set_size_inches(10, 10)\n",
    "plt.title('Распределение продаж млн. копий игр в разрезе жанров за период 2013-2016 гг.', fontsize=16)\n",
    "plt.show()"
   ]
  },
  {
   "cell_type": "markdown",
   "id": "a7ef13b1",
   "metadata": {},
   "source": [
    "Как видим, основную массу продаж составляют игры жанра Active (29,5 %), далее следует с отрывом в 8,1% жанра Shooter, за ним жанр Sports и Role-Playing с 13,8% и 13,4% соответственно.\n",
    "\n",
    "Рейтинг замыкают жанры Puzzle, Strategy и Adventure."
   ]
  },
  {
   "cell_type": "code",
   "execution_count": 66,
   "id": "0fd6106e",
   "metadata": {},
   "outputs": [
    {
     "data": {
      "image/png": "[encoded data removed]",
      "text/plain": [
       "<Figure size 720x720 with 1 Axes>"
      ]
     },
     "metadata": {},
     "output_type": "display_data"
    }
   ],
   "source": [
    "actual_total_sales_mean = data.query('year_of_release >= 2013').groupby(by='genre').agg({'total_sales':'mean'}).reset_index().sort_values('total_sales', ascending=False)\n",
    "plt.pie(data=actual_total_sales_mean, x='total_sales', labels=actual_total_sales_mean['genre'],autopct='%1.1f%%')\n",
    "fig = plt.gcf()\n",
    "fig.set_size_inches(10, 10)\n",
    "plt.title('Распределение продаж в разрезе жанров за период 2013-2016 гг. по средним продажам в млн.копий', fontsize=16)\n",
    "plt.show()"
   ]
  },
  {
   "cell_type": "markdown",
   "id": "e2f88821",
   "metadata": {},
   "source": [
    "Теперь изучим данные для наиболее актальных платформ на текущий момент - Sony Playstation 4, Microsoft Xbox One, а также добавим данные о продажах на персональных компьютерах за тот же период.\n",
    "\n",
    "Продажи игр для PC хоть и не входят в сформированные лидеры, но исключать его не стоит, т.к. для данного типа устройств действуюет немного другая парадигма, тут актуальность платформы поддерживает сам пользователь модернизируя техническую часть своего устройства."
   ]
  },
  {
   "cell_type": "markdown",
   "id": "2dd0336e",
   "metadata": {},
   "source": [
    "Создадим переменную куда поместим соотвествующие сгруппированные срезы с присоединением друг к другу методом *merge*."
   ]
  },
  {
   "cell_type": "code",
   "execution_count": 46,
   "id": "1a5ee61a",
   "metadata": {},
   "outputs": [],
   "source": [
    "sales_by_genre = (\n",
    "    data.query('platform == \"PS4\"').groupby(by='genre').agg({'total_sales':'sum'}).reset_index().sort_values('total_sales', ascending=False).rename(columns={\"total_sales\": \"PS4_total_sales\"})\n",
    "    .merge(data.query('platform == \"XOne\"').groupby(by='genre').agg({'total_sales':'sum'}).reset_index().sort_values('total_sales', ascending=False).rename(columns={\"total_sales\": \"XOne_total_sales\"}), on='genre')\n",
    "    .merge(data.query('platform == \"PC\" & year_of_release >= 2013').groupby(by='genre').agg({'total_sales':'sum'}).reset_index().sort_values('total_sales', ascending=False).rename(columns={\"total_sales\": \"PC_total_sales\"}), on='genre')\n",
    ")"
   ]
  },
  {
   "cell_type": "markdown",
   "id": "2e72e18d",
   "metadata": {},
   "source": [
    "Построим групповую столбчатую диаграмму на которой отобразим продажи по трем платформам одновременно."
   ]
  },
  {
   "cell_type": "code",
   "execution_count": 47,
   "id": "0ef3c83b",
   "metadata": {},
   "outputs": [
    {
     "data": {
      "image/png": "[encoded data removed]",
      "text/plain": [
       "<Figure size 1152x576 with 1 Axes>"
      ]
     },
     "metadata": {
      "needs_background": "light"
     },
     "output_type": "display_data"
    }
   ],
   "source": [
    "genres_name_in_sbg = sales_by_genre['genre'].tolist()\n",
    "\n",
    "g1 = genres_name_in_sbg = sales_by_genre['PS4_total_sales'].tolist()\n",
    "g2 = genres_name_in_sbg = sales_by_genre['XOne_total_sales'].tolist()\n",
    "g3 = genres_name_in_sbg = sales_by_genre['PC_total_sales'].tolist()\n",
    "width = 0.3\n",
    "x = np.arange(len(genres_name_in_sbg))\n",
    "fig, ax = plt.subplots()\n",
    "fig.set_figwidth(16)    \n",
    "fig.set_figheight(8)\n",
    "rects1 = ax.bar(x - width, g1, width, label='Sony Playstation 4')\n",
    "rects2 = ax.bar(x, g2, width, label='Microsoft Xbox One')\n",
    "rects3 = ax.bar(x + width, g3, width, label='Personal Computer')\n",
    "ax.set_title('Продажи игр на глобальном рынке для актуальных платформ, за период 2013-2016 гг., млн. копий', fontsize=16)\n",
    "ax.set_xticks(x)\n",
    "ax.set_xticklabels(sales_by_genre['genre'].tolist())\n",
    "ax.legend()\n",
    "plt.show()"
   ]
  },
  {
   "cell_type": "markdown",
   "id": "b0049c36",
   "metadata": {},
   "source": [
    "Как видим в целом тренд по популярности жанров одинаков для консолей: жанры Action и Shooter занимают первые места, что касается приставки от Microsoft, то здесь лидерство занимает жанр Shooter, что весьма предсказуемо, так как их эксклюзив Halo долгое время было топсейл и логично, что большинство игроков, предпочитающих этот жанр покупают в дальнейшем игр данного жанр больше.\n",
    "\n",
    "Также стоит обратить внимание, что на PC жанры Simulation и Strategy имееют больший вес, чем на других платформах, это обсуловленно в первую очередь тем, что играть в них проще на клавиатуре и мыши."
   ]
  },
  {
   "cell_type": "markdown",
   "id": "91a3d58e",
   "metadata": {},
   "source": [
    "## Портрет типичного игрока ##\n",
    "\n",
    "В целях составления портрета типичного игрока раздлим пользователей на три категории в зависимости от региона и определим для них: \n",
    "- Самые популярные платформы (топ-5).\n",
    "- Самые популярные жанры (топ-5).\n",
    "<br>\n",
    "\n",
    "Также изучим влияние рейтинга ESRB на продажи в отдельном регионе?"
   ]
  },
  {
   "cell_type": "markdown",
   "id": "38240c18",
   "metadata": {},
   "source": [
    "### Топ-5 платформ по регионам ###"
   ]
  },
  {
   "cell_type": "markdown",
   "id": "d9e6ca19",
   "metadata": {},
   "source": [
    "Для анализа лидеров продаж копий игр по платформам в разрере регионов сгруппируем исходный данные с учётом необходимых требований, начиная с 2010 года."
   ]
  },
  {
   "cell_type": "code",
   "execution_count": 48,
   "id": "cb74e4fc",
   "metadata": {},
   "outputs": [
    {
     "data": {
      "text/html": [
       "<div>\n",
       "<style scoped>\n",
       "    .dataframe tbody tr th:only-of-type {\n",
       "        vertical-align: middle;\n",
       "    }\n",
       "\n",
       "    .dataframe tbody tr th {\n",
       "        vertical-align: top;\n",
       "    }\n",
       "\n",
       "    .dataframe thead th {\n",
       "        text-align: right;\n",
       "    }\n",
       "</style>\n",
       "<table border=\"1\" class=\"dataframe\">\n",
       "  <thead>\n",
       "    <tr style=\"text-align: right;\">\n",
       "      <th></th>\n",
       "      <th>na_sales</th>\n",
       "    </tr>\n",
       "    <tr>\n",
       "      <th>platform</th>\n",
       "      <th></th>\n",
       "    </tr>\n",
       "  </thead>\n",
       "  <tbody>\n",
       "    <tr>\n",
       "      <td>X360</td>\n",
       "      <td>334.18</td>\n",
       "    </tr>\n",
       "    <tr>\n",
       "      <td>PS3</td>\n",
       "      <td>229.25</td>\n",
       "    </tr>\n",
       "    <tr>\n",
       "      <td>Wii</td>\n",
       "      <td>121.20</td>\n",
       "    </tr>\n",
       "    <tr>\n",
       "      <td>PS4</td>\n",
       "      <td>108.74</td>\n",
       "    </tr>\n",
       "    <tr>\n",
       "      <td>XOne</td>\n",
       "      <td>93.12</td>\n",
       "    </tr>\n",
       "  </tbody>\n",
       "</table>\n",
       "</div>"
      ],
      "text/plain": [
       "          na_sales\n",
       "platform          \n",
       "X360        334.18\n",
       "PS3         229.25\n",
       "Wii         121.20\n",
       "PS4         108.74\n",
       "XOne         93.12"
      ]
     },
     "execution_count": 48,
     "metadata": {},
     "output_type": "execute_result"
    }
   ],
   "source": [
    "data.query('year_of_release >= 2010').groupby(by='platform').agg({'na_sales':'sum'}).sort_values('na_sales', ascending=False).head(5)"
   ]
  },
  {
   "cell_type": "code",
   "execution_count": 49,
   "id": "11b1e402",
   "metadata": {},
   "outputs": [
    {
     "data": {
      "text/html": [
       "<div>\n",
       "<style scoped>\n",
       "    .dataframe tbody tr th:only-of-type {\n",
       "        vertical-align: middle;\n",
       "    }\n",
       "\n",
       "    .dataframe tbody tr th {\n",
       "        vertical-align: top;\n",
       "    }\n",
       "\n",
       "    .dataframe thead th {\n",
       "        text-align: right;\n",
       "    }\n",
       "</style>\n",
       "<table border=\"1\" class=\"dataframe\">\n",
       "  <thead>\n",
       "    <tr style=\"text-align: right;\">\n",
       "      <th></th>\n",
       "      <th>eu_sales</th>\n",
       "    </tr>\n",
       "    <tr>\n",
       "      <th>platform</th>\n",
       "      <th></th>\n",
       "    </tr>\n",
       "  </thead>\n",
       "  <tbody>\n",
       "    <tr>\n",
       "      <td>PS3</td>\n",
       "      <td>213.60</td>\n",
       "    </tr>\n",
       "    <tr>\n",
       "      <td>X360</td>\n",
       "      <td>163.41</td>\n",
       "    </tr>\n",
       "    <tr>\n",
       "      <td>PS4</td>\n",
       "      <td>141.09</td>\n",
       "    </tr>\n",
       "    <tr>\n",
       "      <td>PC</td>\n",
       "      <td>68.82</td>\n",
       "    </tr>\n",
       "    <tr>\n",
       "      <td>Wii</td>\n",
       "      <td>65.91</td>\n",
       "    </tr>\n",
       "  </tbody>\n",
       "</table>\n",
       "</div>"
      ],
      "text/plain": [
       "          eu_sales\n",
       "platform          \n",
       "PS3         213.60\n",
       "X360        163.41\n",
       "PS4         141.09\n",
       "PC           68.82\n",
       "Wii          65.91"
      ]
     },
     "execution_count": 49,
     "metadata": {},
     "output_type": "execute_result"
    }
   ],
   "source": [
    "data.query('year_of_release >= 2010').groupby(by='platform').agg({'eu_sales':'sum'}).sort_values('eu_sales', ascending=False).head(5)"
   ]
  },
  {
   "cell_type": "code",
   "execution_count": 50,
   "id": "5ac9feb5",
   "metadata": {},
   "outputs": [
    {
     "data": {
      "text/html": [
       "<div>\n",
       "<style scoped>\n",
       "    .dataframe tbody tr th:only-of-type {\n",
       "        vertical-align: middle;\n",
       "    }\n",
       "\n",
       "    .dataframe tbody tr th {\n",
       "        vertical-align: top;\n",
       "    }\n",
       "\n",
       "    .dataframe thead th {\n",
       "        text-align: right;\n",
       "    }\n",
       "</style>\n",
       "<table border=\"1\" class=\"dataframe\">\n",
       "  <thead>\n",
       "    <tr style=\"text-align: right;\">\n",
       "      <th></th>\n",
       "      <th>jp_sales</th>\n",
       "    </tr>\n",
       "    <tr>\n",
       "      <th>platform</th>\n",
       "      <th></th>\n",
       "    </tr>\n",
       "  </thead>\n",
       "  <tbody>\n",
       "    <tr>\n",
       "      <td>3DS</td>\n",
       "      <td>100.62</td>\n",
       "    </tr>\n",
       "    <tr>\n",
       "      <td>PS3</td>\n",
       "      <td>59.26</td>\n",
       "    </tr>\n",
       "    <tr>\n",
       "      <td>PSP</td>\n",
       "      <td>42.20</td>\n",
       "    </tr>\n",
       "    <tr>\n",
       "      <td>DS</td>\n",
       "      <td>27.90</td>\n",
       "    </tr>\n",
       "    <tr>\n",
       "      <td>PSV</td>\n",
       "      <td>21.84</td>\n",
       "    </tr>\n",
       "  </tbody>\n",
       "</table>\n",
       "</div>"
      ],
      "text/plain": [
       "          jp_sales\n",
       "platform          \n",
       "3DS         100.62\n",
       "PS3          59.26\n",
       "PSP          42.20\n",
       "DS           27.90\n",
       "PSV          21.84"
      ]
     },
     "execution_count": 50,
     "metadata": {},
     "output_type": "execute_result"
    }
   ],
   "source": [
    "data.query('year_of_release >= 2010').groupby(by='platform').agg({'jp_sales':'sum'}).sort_values('jp_sales', ascending=False).head(5)"
   ]
  },
  {
   "cell_type": "markdown",
   "id": "94715242",
   "metadata": {},
   "source": [
    "Как видим для рынков Северной Америки и Европы ситуация в целом схожа: лидируют игровые приставки от Microsoft и Sony, с той разницей что Xbox 360 преобладает в родном для себя регионе. \n",
    "\n",
    "Интересным образом распределились последующие места, так в европейском регионе тройку лидеров замыкает вышедшая в 2013 году консоль от Sony, аналогичное место в Новым Свете занимает игровая система от Nindento. Дальше в этом же регионе идут консоли актуального поколения, при этом PS4 вырывается вперед на 15.6 млн. копий продаж игр. \n",
    "\n",
    "Уникальным для рассматриваемых рынков является факт наличия в лидерах европейского региона - продажи игр для персональных компьютеров, которые заняли 4 место. Замыкает 5-у система от Nindendo.\n",
    "\n",
    "Особая ситуация складывается в Японии. Здесь традиционно лидируют локальные производители, это и видно в ТОП-5: представлены консоли двух японский производителей Nintendo и Sony. Второй особенностью является широкое распостранение портативных игровых приставок, в топ-5 они занимают 4 места из 5 (по две от Nintendo 3DS И DS, и Sony PlayStation Portable и PlayStation Vita). Стационарная игровая видеосистема представлена только Sony PlayStation 3, которая расположилась на втором месте. "
   ]
  },
  {
   "cell_type": "markdown",
   "id": "ffe6e057",
   "metadata": {},
   "source": [
    "### Топ-5 жанров по регионам"
   ]
  },
  {
   "cell_type": "code",
   "execution_count": 51,
   "id": "bd92c424",
   "metadata": {},
   "outputs": [
    {
     "data": {
      "text/html": [
       "<div>\n",
       "<style scoped>\n",
       "    .dataframe tbody tr th:only-of-type {\n",
       "        vertical-align: middle;\n",
       "    }\n",
       "\n",
       "    .dataframe tbody tr th {\n",
       "        vertical-align: top;\n",
       "    }\n",
       "\n",
       "    .dataframe thead th {\n",
       "        text-align: right;\n",
       "    }\n",
       "</style>\n",
       "<table border=\"1\" class=\"dataframe\">\n",
       "  <thead>\n",
       "    <tr style=\"text-align: right;\">\n",
       "      <th></th>\n",
       "      <th>na_sales</th>\n",
       "    </tr>\n",
       "    <tr>\n",
       "      <th>genre</th>\n",
       "      <th></th>\n",
       "    </tr>\n",
       "  </thead>\n",
       "  <tbody>\n",
       "    <tr>\n",
       "      <td>Action</td>\n",
       "      <td>290.64</td>\n",
       "    </tr>\n",
       "    <tr>\n",
       "      <td>Shooter</td>\n",
       "      <td>237.47</td>\n",
       "    </tr>\n",
       "    <tr>\n",
       "      <td>Sports</td>\n",
       "      <td>156.81</td>\n",
       "    </tr>\n",
       "    <tr>\n",
       "      <td>Misc</td>\n",
       "      <td>123.80</td>\n",
       "    </tr>\n",
       "    <tr>\n",
       "      <td>Role-Playing</td>\n",
       "      <td>112.05</td>\n",
       "    </tr>\n",
       "  </tbody>\n",
       "</table>\n",
       "</div>"
      ],
      "text/plain": [
       "              na_sales\n",
       "genre                 \n",
       "Action          290.64\n",
       "Shooter         237.47\n",
       "Sports          156.81\n",
       "Misc            123.80\n",
       "Role-Playing    112.05"
      ]
     },
     "execution_count": 51,
     "metadata": {},
     "output_type": "execute_result"
    }
   ],
   "source": [
    "data.query('year_of_release >= 2010').groupby(by='genre').agg({'na_sales':'sum'}).sort_values('na_sales', ascending=False).head(5)"
   ]
  },
  {
   "cell_type": "code",
   "execution_count": 52,
   "id": "d71efd5b",
   "metadata": {},
   "outputs": [
    {
     "data": {
      "text/html": [
       "<div>\n",
       "<style scoped>\n",
       "    .dataframe tbody tr th:only-of-type {\n",
       "        vertical-align: middle;\n",
       "    }\n",
       "\n",
       "    .dataframe tbody tr th {\n",
       "        vertical-align: top;\n",
       "    }\n",
       "\n",
       "    .dataframe thead th {\n",
       "        text-align: right;\n",
       "    }\n",
       "</style>\n",
       "<table border=\"1\" class=\"dataframe\">\n",
       "  <thead>\n",
       "    <tr style=\"text-align: right;\">\n",
       "      <th></th>\n",
       "      <th>eu_sales</th>\n",
       "    </tr>\n",
       "    <tr>\n",
       "      <th>genre</th>\n",
       "      <th></th>\n",
       "    </tr>\n",
       "  </thead>\n",
       "  <tbody>\n",
       "    <tr>\n",
       "      <td>Action</td>\n",
       "      <td>233.63</td>\n",
       "    </tr>\n",
       "    <tr>\n",
       "      <td>Shooter</td>\n",
       "      <td>171.45</td>\n",
       "    </tr>\n",
       "    <tr>\n",
       "      <td>Sports</td>\n",
       "      <td>116.84</td>\n",
       "    </tr>\n",
       "    <tr>\n",
       "      <td>Role-Playing</td>\n",
       "      <td>75.48</td>\n",
       "    </tr>\n",
       "    <tr>\n",
       "      <td>Misc</td>\n",
       "      <td>66.09</td>\n",
       "    </tr>\n",
       "  </tbody>\n",
       "</table>\n",
       "</div>"
      ],
      "text/plain": [
       "              eu_sales\n",
       "genre                 \n",
       "Action          233.63\n",
       "Shooter         171.45\n",
       "Sports          116.84\n",
       "Role-Playing     75.48\n",
       "Misc             66.09"
      ]
     },
     "execution_count": 52,
     "metadata": {},
     "output_type": "execute_result"
    }
   ],
   "source": [
    "data.query('year_of_release >= 2010').groupby(by='genre').agg({'eu_sales':'sum'}).sort_values('eu_sales', ascending=False).head(5)"
   ]
  },
  {
   "cell_type": "code",
   "execution_count": 53,
   "id": "85a401a3",
   "metadata": {},
   "outputs": [
    {
     "data": {
      "text/html": [
       "<div>\n",
       "<style scoped>\n",
       "    .dataframe tbody tr th:only-of-type {\n",
       "        vertical-align: middle;\n",
       "    }\n",
       "\n",
       "    .dataframe tbody tr th {\n",
       "        vertical-align: top;\n",
       "    }\n",
       "\n",
       "    .dataframe thead th {\n",
       "        text-align: right;\n",
       "    }\n",
       "</style>\n",
       "<table border=\"1\" class=\"dataframe\">\n",
       "  <thead>\n",
       "    <tr style=\"text-align: right;\">\n",
       "      <th></th>\n",
       "      <th>genre</th>\n",
       "      <th>jp_sales</th>\n",
       "    </tr>\n",
       "  </thead>\n",
       "  <tbody>\n",
       "    <tr>\n",
       "      <td>0</td>\n",
       "      <td>Role-Playing</td>\n",
       "      <td>103.54</td>\n",
       "    </tr>\n",
       "    <tr>\n",
       "      <td>1</td>\n",
       "      <td>Action</td>\n",
       "      <td>72.20</td>\n",
       "    </tr>\n",
       "    <tr>\n",
       "      <td>2</td>\n",
       "      <td>Misc</td>\n",
       "      <td>24.29</td>\n",
       "    </tr>\n",
       "    <tr>\n",
       "      <td>3</td>\n",
       "      <td>Platform</td>\n",
       "      <td>15.81</td>\n",
       "    </tr>\n",
       "    <tr>\n",
       "      <td>4</td>\n",
       "      <td>Adventure</td>\n",
       "      <td>15.67</td>\n",
       "    </tr>\n",
       "  </tbody>\n",
       "</table>\n",
       "</div>"
      ],
      "text/plain": [
       "          genre  jp_sales\n",
       "0  Role-Playing    103.54\n",
       "1        Action     72.20\n",
       "2          Misc     24.29\n",
       "3      Platform     15.81\n",
       "4     Adventure     15.67"
      ]
     },
     "execution_count": 53,
     "metadata": {},
     "output_type": "execute_result"
    }
   ],
   "source": [
    "data.query('year_of_release >= 2010').groupby(by='genre').agg({'jp_sales':'sum'}).sort_values('jp_sales', ascending=False).reset_index().head(5)"
   ]
  },
  {
   "cell_type": "markdown",
   "id": "ef4ee0c5",
   "metadata": {},
   "source": [
    "Опять же исходя из полученных данных можно однозначно сказать, что японский рынок уникален по своей сути и продажи игр по жанрам здесь совершенно иные, но начнём с изучения рынков Нового и Старого Света.\n",
    "\n",
    "Что касается рынка Северной Америки и Европы, то мы видим, что перечень жанров для них одинаков, даже более того 3 первые строчки в нём занимают следующие жанры в порядке снижения продаж: Action, Shooter, Sports, оставшиеся два места занимают прочие игры и Role-Playing для америки, а для Европы - Role-Playing и прочие игры.\n",
    "\n",
    "Исходя из топа 3 можно в целом высказать предположение, что видеоиграми в болшей степени интересуются представители мужского пола.\n",
    "\n",
    "Что касается Японии, то тут лидером является жанр Role-Playing, далее следует Action. Третью строчку занимаеют прочие игры. А 4 и 5 место отданы Platform и Adventure, которые не встречаются в других регионах. Присутствие платформеров не удивительно, так как они наиболее распостранены на портативных консолях. В целом топ-5 нам говорит о большем увлечении населения видеоиграми в том числе и гендерном соотношении. Конечно, можно говорить о менталитите, а также о том, что исторически игровые консоли и аркадные системы получили большее распостранение в Японии. "
   ]
  },
  {
   "cell_type": "markdown",
   "id": "45093f4b",
   "metadata": {},
   "source": [
    "### Влияние рейтинга ESRB на продажи ### \n",
    "\n",
    "Взаимосвязь будем рассматривать в регионе к которому он относится - Северной Америке.\n"
   ]
  },
  {
   "cell_type": "markdown",
   "id": "40b02490",
   "metadata": {},
   "source": [
    "Учитывая влияние пропусков в значении рейтинга ESRB на дальнейший анализ вернемся к работе с пропусками в данном столбце за анализируемый период (2013+ год).\n",
    "\n",
    "Вычислим долю пропусков."
   ]
  },
  {
   "cell_type": "code",
   "execution_count": 54,
   "id": "ba28e628",
   "metadata": {},
   "outputs": [
    {
     "data": {
      "text/plain": [
       "22.77"
      ]
     },
     "execution_count": 54,
     "metadata": {},
     "output_type": "execute_result"
    }
   ],
   "source": [
    "round((data.loc[(data['rating'].isna())&(data['year_of_release'] >= 2013)&(data['na_sales'] > 0), 'platform'].count()/data.loc[(data['year_of_release'] >= 2013)&(data['na_sales'] > 0), 'platform'].count())*100,2)"
   ]
  },
  {
   "cell_type": "markdown",
   "id": "bfe94106",
   "metadata": {},
   "source": [
    "22,77% пропусков окажет влияние на наш анализ, с целью не потерять данные, примем решение заменить пропуски в выборке на значение *unknown*."
   ]
  },
  {
   "cell_type": "code",
   "execution_count": 55,
   "id": "a711154d",
   "metadata": {},
   "outputs": [],
   "source": [
    "data.loc[(data['rating'].isna())&(data['year_of_release'] >= 2013)&(data['na_sales'] > 0), 'rating'] = 'unknown'"
   ]
  },
  {
   "cell_type": "markdown",
   "id": "e1e7e98e",
   "metadata": {},
   "source": [
    "Для начала посмотрим как распределены игры по рейтингу исходя из их количества. Воспользуемся круговой диаграммой."
   ]
  },
  {
   "cell_type": "code",
   "execution_count": 56,
   "id": "87898c9f",
   "metadata": {},
   "outputs": [
    {
     "data": {
      "image/png": "[encoded data removed]",
      "text/plain": [
       "<Figure size 432x288 with 1 Axes>"
      ]
     },
     "metadata": {},
     "output_type": "display_data"
    }
   ],
   "source": [
    "plt.pie(data=data.query('year_of_release >= 2013').groupby(by='rating').agg({'na_sales':'count'}), x='na_sales', labels=data.query('year_of_release >= 2013').groupby(by='rating').agg({'na_sales':'count'}).reset_index()['rating'],autopct='%1.1f%%')\n",
    "plt.title('Распределение игр в разрезе полученного рейтинга ESRB за период 2013-2016 гг.', fontsize=16)\n",
    "plt.show()"
   ]
  },
  {
   "cell_type": "markdown",
   "id": "8cf0cbe7",
   "metadata": {},
   "source": [
    "На полученную информацию будем опираться в дальнейшем."
   ]
  },
  {
   "cell_type": "markdown",
   "id": "584e6c15",
   "metadata": {},
   "source": [
    "В целях изучения влияния рейтинга на продажи в регионе построим диаграмму размаха.\n",
    "\n",
    "Чтобы наш \"ящик\" приобрел более читаемый вид, и выбросы не растягивали его непомерно по вертикали, ограничем значения по оси *y* верхней границей края статистически значимой выборки (без выбросов), который находится по формуле ***q75 - 1.5(q75 - q25)***, округленной до целого вверх, для этого создадим список первых и третьих квартилей продаж в Северной Америке в разрезе ретинга и поместим их переменную циклом."
   ]
  },
  {
   "cell_type": "code",
   "execution_count": 57,
   "id": "ec650edd",
   "metadata": {},
   "outputs": [],
   "source": [
    "q75_of_na_sales_by_ESRB = []\n",
    "q25_of_na_sales_by_ESRB = []\n",
    "for rating in data['rating'].unique().tolist():\n",
    "    q75_of_na_sales_by_ESRB.append(data.loc[(data['rating'] == rating)&(data['year_of_release'] >= 2013),'na_sales'].quantile(0.75))\n",
    "    q25_of_na_sales_by_ESRB.append(data.loc[(data['rating'] == rating)&(data['year_of_release'] >= 2013),'na_sales'].quantile(0.25))"
   ]
  },
  {
   "cell_type": "code",
   "execution_count": 58,
   "id": "a857dbe6",
   "metadata": {},
   "outputs": [
    {
     "data": {
      "image/png": "[encoded data removed]",
      "text/plain": [
       "<Figure size 1080x1080 with 1 Axes>"
      ]
     },
     "metadata": {
      "needs_background": "light"
     },
     "output_type": "display_data"
    }
   ],
   "source": [
    "#Строим \"ящик с усами\"\n",
    "data.query('year_of_release >= 2013').boxplot(column='na_sales', by='rating', figsize=(15,15))\n",
    "#Украшаем\n",
    "# определим лимит по оси Y в диапазоне от 0 до округленного вверх до целого максимум 3 квартиля\n",
    "# это избавит нас от визуализации выбросов, так как нас они не интересуют\n",
    "plt.ylim(0,np.ceil(max(q75_of_na_sales_by_ESRB)+1.5*(max(q75_of_na_sales_by_ESRB) - max(q25_of_na_sales_by_ESRB))))\n",
    "plt.title('Медианы продаж млн.копий игр в разрезе рейтинга ESRB в Северной Америке')\n",
    "plt.xlabel('Рейтинг ESRB')\n",
    "plt.ylabel('Продажи, млн. копий игр')\n",
    "plt.show()"
   ]
  },
  {
   "cell_type": "markdown",
   "id": "7323c580",
   "metadata": {},
   "source": [
    "Для оценки влияния рейтинга ESRB на количество продаж надо разобраться, что он значит.\n",
    "\n",
    "Рейтинг состоит из двух частей: знака рейтинга и краткого описания содержимого. Знак рейтинга определяет наиболее подходящую возрастную категорию для игры. В наших данных как раз и представлен этот рейтинг, без краткого описания содержания.\n",
    "\n",
    "Таким образом:\n",
    "- «RP» («Rating Pending») — «Рейтинг ожидается» (игра была отправлена в ESRB и ожидает присвоения рейтинга. Он используется только на рекламных презентациях и в демо-версиях игр до официальной даты выпуска в продажу), в связи с чем данные о продажах будут отсуствоватью,\n",
    "- «AO» («Adults Only 18+») — «Только для взрослых»: Содержание игры только для взрослых старше 18 лет,\n",
    "- «E» («Everyone») — «Для всех»: Содержание вполне подходит для возрастной категории от 6 лет (Первоначально \"K-A\" (\"Kids to Adults\"),\n",
    "- «E10+» («Everyone 10 and older») — «Для всех от 10 лет и старше»,\n",
    "- «EC» («Early childhood») — «Для детей младшего возраста»: Игра подходит для детей от 3 лет и не содержит материалов, которые родители могли бы счесть неподходящими,\n",
    "- «M» («Mature») — «Для взрослых»: Материалы игры не подходят для подростков младше 17 лет,\n",
    "- «T» («Teen») — «Подросткам»: Игра подходит для лиц от 13 лет. \n",
    "\n",
    "Исходя из построенных диаграмм размаха можно сделать следующие выводы:\n",
    "1. Как и предполагалось для игр с рейтингом \"RP\" продажи отсуствуют.\n",
    "2. Наивышая медиана соответсвует играм для взрослых (\"M\") (их доля в выборке также наибольшая - 23,7%), при этом стоит отметить что для них характер наибольший межквартальный размах, а также наибольший верхний край выборки, что говорит нам скорее всего о более высокой стоимости копии игры и большей конкуренции, т.к. игры этого жанра обслуживают интересы наиболее платежеспособной части населений и свободной к выбору.\n",
    "3. Второе место занимают игры категории \"E10\", но их доля занимает предпоследнее место и составляет 16,2 %.\n",
    "4. Третье место за играми, данные о категории которых отсуствуют, учитывая значимую их долю (19,2%), при реальной анализе целесообразно заполнить недостающие сведения из других источников.\n",
    "5. Игры категории \"Е\" и \"Т\" идут практически вровень, это касается и доли охвата (19,4% против 21,4%), это может сведетельствовать о том, что игровые компании нацелены, в б*о*льшей степени, на эти категории, как охватывающих наиболее полную аудиторию, что гарантирует определенный уровень дохода."
   ]
  },
  {
   "cell_type": "code",
   "execution_count": 68,
   "id": "1d9782e9",
   "metadata": {},
   "outputs": [
    {
     "data": {
      "image/png": "[encoded data removed]",
      "text/plain": [
       "<Figure size 1080x1080 with 1 Axes>"
      ]
     },
     "metadata": {
      "needs_background": "light"
     },
     "output_type": "display_data"
    }
   ],
   "source": [
    "#Строим \"ящик с усами\"\n",
    "data.query('year_of_release >= 2013').boxplot(column='total_sales', by='rating', figsize=(15,15))\n",
    "#Украшаем\n",
    "# определим лимит по оси Y в диапазоне от 0 до округленного вверх до целого максимум 3 квартиля\n",
    "# это избавит нас от визуализации выбросов, так как нас они не интересуют\n",
    "plt.ylim(0,np.ceil(max(q75_of_na_sales_by_ESRB)+1.5*(max(q75_of_na_sales_by_ESRB) - max(q25_of_na_sales_by_ESRB))))\n",
    "plt.title('Медианы продаж млн.копий игр в разрезе рейтинга ESRB суммарных продаж по регионам')\n",
    "plt.xlabel('Рейтинг ESRB')\n",
    "plt.ylabel('Продажи, млн. копий игр')\n",
    "plt.show()"
   ]
  },
  {
   "cell_type": "markdown",
   "id": "a3b891d2",
   "metadata": {},
   "source": [
    "## Гипотезы ##\n",
    "В рамках данного пункта нашего анализа, мы постраемся выяснить являются ли:\n",
    "- Средние пользовательские рейтинги платформ Xbox One и PC одинаковыми;\n",
    "- Средние пользовательские рейтинги жанров Action (англ. «действие», экшен-игры) и Sports (англ. «спортивные соревнования») различны.\n",
    "\n",
    "Для проверки гипотиз уровень статистической значимости установим в 5%"
   ]
  },
  {
   "cell_type": "code",
   "execution_count": 59,
   "id": "265763ed",
   "metadata": {},
   "outputs": [],
   "source": [
    "alpha = .05"
   ]
  },
  {
   "cell_type": "markdown",
   "id": "e983ad93",
   "metadata": {},
   "source": [
    "### Оценки пользователей для платформ Microsoft XBox One и PC ###\n",
    "\n",
    "Рассмотрим оценки пользователей.\n",
    "Для этого построим наши гипотизы следующим образом:\n",
    "\n",
    "- Н0: Средние пользовательские рейтинги платформ Xbox One и PC равны\n",
    "- Н1: Средние пользовательские рейтинги платформ Xbox One и PC отличаются"
   ]
  },
  {
   "cell_type": "markdown",
   "id": "bf328807",
   "metadata": {},
   "source": [
    "Для проверки гипотизы применим метод st.ttest_ind, так как сравниваем две выборки."
   ]
  },
  {
   "cell_type": "code",
   "execution_count": 60,
   "id": "27add116",
   "metadata": {},
   "outputs": [
    {
     "name": "stdout",
     "output_type": "stream",
     "text": [
      "p-значение: 0.980998110649032\n",
      "Не получилось отвергнуть нулевую гипотезу: Средние пользовательские рейтинги платформ Xbox One и PC равны\n"
     ]
    }
   ],
   "source": [
    "revenue_results = st.ttest_ind(data.loc[data['platform'] == 'XOne','user_score'].dropna(), data.loc[(data['platform'] == 'PC')&(data['year_of_release'] >= 2010),'user_score'].dropna())\n",
    "\n",
    "print('p-значение:', revenue_results.pvalue)\n",
    "\n",
    "if revenue_results.pvalue < alpha:\n",
    "    print(\"Отвергаем нулевую гипотезу: Средние пользовательские рейтинги платформ Xbox One и PC отличаются\")\n",
    "else:\n",
    "    print(\"Не получилось отвергнуть нулевую гипотезу: Средние пользовательские рейтинги платформ Xbox One и PC равны\")"
   ]
  },
  {
   "cell_type": "markdown",
   "id": "a065d631",
   "metadata": {},
   "source": [
    "### Оценки пользователей жанров Action и Sports ###\n",
    "\n",
    "Рассмотрим оценки пользователей.\n",
    "Для этого построим наши гипотизы следующим образом:\n",
    "\n",
    "- Н0: Средние пользовательские рейтинги жанров Action и Sports равны\n",
    "- Н1: Средние пользовательские рейтинги жанров Action и Sports отличаются"
   ]
  },
  {
   "cell_type": "markdown",
   "id": "81597378",
   "metadata": {},
   "source": [
    "Для проверки гипотизы применим метод st.ttest_ind, так как сравниваем две выборки."
   ]
  },
  {
   "cell_type": "code",
   "execution_count": 61,
   "id": "72eb73ca",
   "metadata": {},
   "outputs": [
    {
     "name": "stdout",
     "output_type": "stream",
     "text": [
      "p-значение: 7.839124224330309e-19\n",
      "Отвергаем нулевую гипотезу: Средние пользовательские рейтинги жанров Action и Sports отличаются\n",
      "Средние пользовательские рейтинги жанра Action составляют 6.78\n",
      "Средние пользовательские рейтинги жанра Sports составляют 5.9\n"
     ]
    }
   ],
   "source": [
    "revenue_results = st.ttest_ind(data.loc[(data['genre'] == 'Action')&(data['year_of_release'] >= 2010),'user_score'].dropna(), data.loc[(data['genre'] == 'Sports')&(data['year_of_release'] >= 2010),'user_score'].dropna())\n",
    "\n",
    "print('p-значение:', revenue_results.pvalue)\n",
    "\n",
    "if revenue_results.pvalue < alpha:\n",
    "    print(\"Отвергаем нулевую гипотезу: Средние пользовательские рейтинги жанров Action и Sports отличаются\")\n",
    "else:\n",
    "    print(\"Не получилось отвергнуть нулевую гипотезу: Средние пользовательские рейтинги жанров Action и Sports равны\")\n",
    "    \n",
    "print('Средние пользовательские рейтинги жанра Action составляют', round(data.loc[(data['genre'] == 'Action')&(data['year_of_release'] >= 2010),'user_score'].dropna().mean(),2))\n",
    "print('Средние пользовательские рейтинги жанра Sports составляют', round(data.loc[(data['genre'] == 'Sports')&(data['year_of_release'] >= 2010),'user_score'].dropna().mean(),2))"
   ]
  },
  {
   "cell_type": "markdown",
   "id": "eb9ca48d",
   "metadata": {},
   "source": [
    "## Общий вывод ##"
   ]
  },
  {
   "cell_type": "markdown",
   "id": "97b5cda6",
   "metadata": {},
   "source": [
    "Основной задачей анализа представленных данных было выявление закономерности, определяющие успешность игры. Данные закономерности в дальнейшем позволят сделать ставку на потенциально популярные продукты и спланировать рекламные компании.\n",
    "\n",
    "Учитывая вышесказанное, а также принимая во внимание полученные в ходе исследования данные, можно сделать следующие выводы:\n",
    "1. Активная фаза жизненного цикла для игровых видеосистем составляет 6 лет, данные знания позволят при дальнейшем прогнозе выявлять актуальные платформы и подстраивать рекламные бюджеты с оглядкой на то на каком промежутке находяться консоли. При этом следуют понимать, что данные сведения не относятся к играм для персональных компьютеров (PC).\n",
    "\n",
    "   В текущем периоде (2017 год) потенциально прибыльными выглядят игровые приставки 8-го поколения (PS4 и XOne).\n",
    "\n",
    "2. Существуют устойчивые тенденции, сложившиеся на региональны рынках, так для Северной Америки и Европы характерно более широкое распостранение стационарных игровых систем, при этом для Нового Света преобладают консоли от Microsoft. В Японии превалируют игровое приставки местных производителей со значительной долей портативных консолей.\n",
    "\n",
    "3. Тенденция обособления рынка Японии сохраняеся и в разрезе жанров. Анализ рынков Северной Америки и Европы показал, что перечень жанров для них одинаков, даже более того 3 первые строчки в нём занимают следующие жанры в порядке снижения продаж: Action, Shooter, Sports, оставшиеся два места занимают прочие игры и Role-Playing для америки, а для Европы - Role-Playing и прочие игры. Что касается Японии, то тут лидером является жанр Role-Playing, далее следует Action. Третью строчку занимаеют прочие игры. А 4 и 5 место отданы Platform и Adventure, которые не встречаются в других регионах. Присутствие платформеров не удивительно, так как они наиболее распостранены на портативных консолях.\n",
    "\n",
    "4. Одним из факторов, влияющих на продажи, высутпают оценки критиков, проведенный анализ показал наличие положительной зависимости оценок и продаж (коэфф. Пирсона составляет порядка 0,4). Оценки игроков для актуальных платформ имеют незначительное отрицательное влияние (коэфф. порядка (-0,03)), хотя в ретроперспективе имеел незначительное положительное влияния (порядка 0,1).\n",
    "\n",
    "5. При проведении прогнозов следует принимать во внимание такой фактор как рейтинги специализирующихся агенств, проведя анализ связи рейтинга ESRB для северо-американского рынка, мы видим зависимость медианных продах от присваемого рейтинга. При этом стоит учитыать, что игровые студии ориентированы на выпуск в большей степени игр для широкого круга потребителей: игры категории \"Е\" и \"Т\" идут практически вровень, это касается и доли охвата (19,4% против 21,4%), и их медианы находяться практически на одном уровне, при этом игры для взрослых (\"M\"), имеют наибольший межквартальный размах, а также наибольший верхний край выборки, что говорит о более высокой стоимости копии игры и большей конкуренции, т.к. игры этого жанра обслуживают интересы наиболее платежеспособной части населений и необременных ограничениями в выборе.\n",
    "\n",
    "\n",
    "Интересным фактом является соотвествие средних пользовательские рейтинги платформ Xbox One и PC. Это связь может свидетельствовать о слабой доле эксклюзивов для платформы от Microsoft и фактически одной игровой базы. Зная будущее мы можем сказать, что это была целенаправленная политика софтверного гиганта."
   ]
  }
 ],
 "metadata": {
  "ExecuteTimeLog": [
   {
    "duration": 1115,
    "start_time": "2022-02-03T14:19:30.448Z"
   },
   {
    "duration": 2288,
    "start_time": "2022-02-03T14:19:31.565Z"
   },
   {
    "duration": -91880,
    "start_time": "2022-02-03T14:21:05.736Z"
   },
   {
    "duration": -91883,
    "start_time": "2022-02-03T14:21:05.740Z"
   },
   {
    "duration": -91885,
    "start_time": "2022-02-03T14:21:05.743Z"
   },
   {
    "duration": -91887,
    "start_time": "2022-02-03T14:21:05.746Z"
   },
   {
    "duration": -91890,
    "start_time": "2022-02-03T14:21:05.750Z"
   },
   {
    "duration": -91893,
    "start_time": "2022-02-03T14:21:05.754Z"
   },
   {
    "duration": -91895,
    "start_time": "2022-02-03T14:21:05.757Z"
   },
   {
    "duration": -91898,
    "start_time": "2022-02-03T14:21:05.761Z"
   },
   {
    "duration": -91900,
    "start_time": "2022-02-03T14:21:05.764Z"
   },
   {
    "duration": -91903,
    "start_time": "2022-02-03T14:21:05.768Z"
   },
   {
    "duration": -91906,
    "start_time": "2022-02-03T14:21:05.772Z"
   },
   {
    "duration": -91909,
    "start_time": "2022-02-03T14:21:05.776Z"
   },
   {
    "duration": -91912,
    "start_time": "2022-02-03T14:21:05.780Z"
   },
   {
    "duration": -91917,
    "start_time": "2022-02-03T14:21:05.786Z"
   },
   {
    "duration": -91921,
    "start_time": "2022-02-03T14:21:05.791Z"
   },
   {
    "duration": -91925,
    "start_time": "2022-02-03T14:21:05.796Z"
   },
   {
    "duration": -91928,
    "start_time": "2022-02-03T14:21:05.800Z"
   },
   {
    "duration": -91930,
    "start_time": "2022-02-03T14:21:05.803Z"
   },
   {
    "duration": -91932,
    "start_time": "2022-02-03T14:21:05.806Z"
   },
   {
    "duration": -91934,
    "start_time": "2022-02-03T14:21:05.809Z"
   },
   {
    "duration": -91936,
    "start_time": "2022-02-03T14:21:05.812Z"
   },
   {
    "duration": -91939,
    "start_time": "2022-02-03T14:21:05.816Z"
   },
   {
    "duration": -91941,
    "start_time": "2022-02-03T14:21:05.819Z"
   },
   {
    "duration": -91944,
    "start_time": "2022-02-03T14:21:05.823Z"
   },
   {
    "duration": -91946,
    "start_time": "2022-02-03T14:21:05.826Z"
   },
   {
    "duration": -91954,
    "start_time": "2022-02-03T14:21:05.835Z"
   },
   {
    "duration": -91956,
    "start_time": "2022-02-03T14:21:05.838Z"
   },
   {
    "duration": -91959,
    "start_time": "2022-02-03T14:21:05.842Z"
   },
   {
    "duration": -91961,
    "start_time": "2022-02-03T14:21:05.845Z"
   },
   {
    "duration": -91964,
    "start_time": "2022-02-03T14:21:05.849Z"
   },
   {
    "duration": -91967,
    "start_time": "2022-02-03T14:21:05.853Z"
   },
   {
    "duration": -91969,
    "start_time": "2022-02-03T14:21:05.856Z"
   },
   {
    "duration": -91971,
    "start_time": "2022-02-03T14:21:05.859Z"
   },
   {
    "duration": -91974,
    "start_time": "2022-02-03T14:21:05.863Z"
   },
   {
    "duration": -91976,
    "start_time": "2022-02-03T14:21:05.866Z"
   },
   {
    "duration": -91980,
    "start_time": "2022-02-03T14:21:05.870Z"
   },
   {
    "duration": -91981,
    "start_time": "2022-02-03T14:21:05.872Z"
   },
   {
    "duration": -91984,
    "start_time": "2022-02-03T14:21:05.876Z"
   },
   {
    "duration": -91986,
    "start_time": "2022-02-03T14:21:05.880Z"
   },
   {
    "duration": -91973,
    "start_time": "2022-02-03T14:21:05.884Z"
   },
   {
    "duration": -91973,
    "start_time": "2022-02-03T14:21:05.886Z"
   },
   {
    "duration": -91976,
    "start_time": "2022-02-03T14:21:05.889Z"
   },
   {
    "duration": -91978,
    "start_time": "2022-02-03T14:21:05.892Z"
   },
   {
    "duration": -91980,
    "start_time": "2022-02-03T14:21:05.895Z"
   },
   {
    "duration": -91983,
    "start_time": "2022-02-03T14:21:05.899Z"
   },
   {
    "duration": -91985,
    "start_time": "2022-02-03T14:21:05.902Z"
   },
   {
    "duration": -91986,
    "start_time": "2022-02-03T14:21:05.904Z"
   },
   {
    "duration": -91989,
    "start_time": "2022-02-03T14:21:05.908Z"
   },
   {
    "duration": -91990,
    "start_time": "2022-02-03T14:21:05.910Z"
   },
   {
    "duration": -91992,
    "start_time": "2022-02-03T14:21:05.913Z"
   },
   {
    "duration": -91995,
    "start_time": "2022-02-03T14:21:05.917Z"
   },
   {
    "duration": -91997,
    "start_time": "2022-02-03T14:21:05.920Z"
   },
   {
    "duration": -91999,
    "start_time": "2022-02-03T14:21:05.923Z"
   },
   {
    "duration": -92000,
    "start_time": "2022-02-03T14:21:05.925Z"
   },
   {
    "duration": -92003,
    "start_time": "2022-02-03T14:21:05.929Z"
   },
   {
    "duration": -92005,
    "start_time": "2022-02-03T14:21:05.932Z"
   },
   {
    "duration": 39,
    "start_time": "2022-02-03T14:21:35.227Z"
   },
   {
    "duration": 25,
    "start_time": "2022-02-03T14:21:35.269Z"
   },
   {
    "duration": 21,
    "start_time": "2022-02-03T14:21:35.297Z"
   },
   {
    "duration": 6,
    "start_time": "2022-02-03T14:21:35.321Z"
   },
   {
    "duration": 15,
    "start_time": "2022-02-03T14:21:35.329Z"
   },
   {
    "duration": 10,
    "start_time": "2022-02-03T14:21:35.346Z"
   },
   {
    "duration": 56,
    "start_time": "2022-02-03T14:21:35.358Z"
   },
   {
    "duration": 9,
    "start_time": "2022-02-03T14:21:35.417Z"
   },
   {
    "duration": 28,
    "start_time": "2022-02-03T14:21:35.428Z"
   },
   {
    "duration": 16,
    "start_time": "2022-02-03T14:21:35.458Z"
   },
   {
    "duration": 38,
    "start_time": "2022-02-03T14:21:35.475Z"
   },
   {
    "duration": 8,
    "start_time": "2022-02-03T14:21:35.515Z"
   },
   {
    "duration": 15,
    "start_time": "2022-02-03T14:21:35.524Z"
   },
   {
    "duration": 14,
    "start_time": "2022-02-03T14:21:35.541Z"
   },
   {
    "duration": 7,
    "start_time": "2022-02-03T14:21:35.557Z"
   },
   {
    "duration": 10,
    "start_time": "2022-02-03T14:21:35.566Z"
   },
   {
    "duration": 34,
    "start_time": "2022-02-03T14:21:35.578Z"
   },
   {
    "duration": 7,
    "start_time": "2022-02-03T14:21:35.615Z"
   },
   {
    "duration": 12,
    "start_time": "2022-02-03T14:21:35.624Z"
   },
   {
    "duration": 6,
    "start_time": "2022-02-03T14:21:35.638Z"
   },
   {
    "duration": 9,
    "start_time": "2022-02-03T14:21:35.646Z"
   },
   {
    "duration": 298,
    "start_time": "2022-02-03T14:21:35.657Z"
   },
   {
    "duration": 595,
    "start_time": "2022-02-03T14:21:35.960Z"
   },
   {
    "duration": -91869,
    "start_time": "2022-02-03T14:23:08.427Z"
   },
   {
    "duration": -91877,
    "start_time": "2022-02-03T14:23:08.436Z"
   },
   {
    "duration": -91877,
    "start_time": "2022-02-03T14:23:08.438Z"
   },
   {
    "duration": -91881,
    "start_time": "2022-02-03T14:23:08.443Z"
   },
   {
    "duration": -91889,
    "start_time": "2022-02-03T14:23:08.453Z"
   },
   {
    "duration": -91891,
    "start_time": "2022-02-03T14:23:08.456Z"
   },
   {
    "duration": -91895,
    "start_time": "2022-02-03T14:23:08.462Z"
   },
   {
    "duration": -91903,
    "start_time": "2022-02-03T14:23:08.471Z"
   },
   {
    "duration": -91907,
    "start_time": "2022-02-03T14:23:08.476Z"
   },
   {
    "duration": -91915,
    "start_time": "2022-02-03T14:23:08.486Z"
   },
   {
    "duration": -91917,
    "start_time": "2022-02-03T14:23:08.489Z"
   },
   {
    "duration": -91921,
    "start_time": "2022-02-03T14:23:08.495Z"
   },
   {
    "duration": -91929,
    "start_time": "2022-02-03T14:23:08.504Z"
   },
   {
    "duration": -91930,
    "start_time": "2022-02-03T14:23:08.507Z"
   },
   {
    "duration": -91940,
    "start_time": "2022-02-03T14:23:08.518Z"
   },
   {
    "duration": -91942,
    "start_time": "2022-02-03T14:23:08.521Z"
   },
   {
    "duration": -91911,
    "start_time": "2022-02-03T14:23:08.524Z"
   },
   {
    "duration": -91920,
    "start_time": "2022-02-03T14:23:08.535Z"
   },
   {
    "duration": -91922,
    "start_time": "2022-02-03T14:23:08.538Z"
   },
   {
    "duration": -91926,
    "start_time": "2022-02-03T14:23:08.543Z"
   },
   {
    "duration": -91935,
    "start_time": "2022-02-03T14:23:08.553Z"
   },
   {
    "duration": -91936,
    "start_time": "2022-02-03T14:23:08.556Z"
   },
   {
    "duration": -91941,
    "start_time": "2022-02-03T14:23:08.562Z"
   },
   {
    "duration": -91950,
    "start_time": "2022-02-03T14:23:08.571Z"
   },
   {
    "duration": -91951,
    "start_time": "2022-02-03T14:23:08.574Z"
   },
   {
    "duration": -91961,
    "start_time": "2022-02-03T14:23:08.585Z"
   },
   {
    "duration": -91963,
    "start_time": "2022-02-03T14:23:08.588Z"
   },
   {
    "duration": -91965,
    "start_time": "2022-02-03T14:23:08.592Z"
   },
   {
    "duration": -91975,
    "start_time": "2022-02-03T14:23:08.603Z"
   },
   {
    "duration": -91977,
    "start_time": "2022-02-03T14:23:08.606Z"
   },
   {
    "duration": -91981,
    "start_time": "2022-02-03T14:23:08.611Z"
   },
   {
    "duration": -91989,
    "start_time": "2022-02-03T14:23:08.620Z"
   },
   {
    "duration": -91991,
    "start_time": "2022-02-03T14:23:08.623Z"
   },
   {
    "duration": -92003,
    "start_time": "2022-02-03T14:23:08.636Z"
   },
   {
    "duration": 14,
    "start_time": "2022-02-03T14:33:25.112Z"
   },
   {
    "duration": 3,
    "start_time": "2022-02-03T14:33:25.128Z"
   },
   {
    "duration": 384,
    "start_time": "2022-02-03T14:33:25.133Z"
   },
   {
    "duration": 8,
    "start_time": "2022-02-03T14:33:25.518Z"
   },
   {
    "duration": 6,
    "start_time": "2022-02-03T14:33:25.528Z"
   },
   {
    "duration": 925,
    "start_time": "2022-02-03T14:33:25.535Z"
   },
   {
    "duration": 5,
    "start_time": "2022-02-03T14:33:26.512Z"
   },
   {
    "duration": 17,
    "start_time": "2022-02-03T14:33:26.520Z"
   },
   {
    "duration": 209,
    "start_time": "2022-02-03T14:33:26.539Z"
   },
   {
    "duration": 11,
    "start_time": "2022-02-03T14:33:26.749Z"
   },
   {
    "duration": 275,
    "start_time": "2022-02-03T14:33:26.762Z"
   },
   {
    "duration": 24,
    "start_time": "2022-02-03T14:33:27.040Z"
   },
   {
    "duration": 481,
    "start_time": "2022-02-03T14:33:27.066Z"
   },
   {
    "duration": 17,
    "start_time": "2022-02-03T14:33:27.549Z"
   },
   {
    "duration": 12,
    "start_time": "2022-02-03T14:33:27.568Z"
   },
   {
    "duration": 887,
    "start_time": "2022-02-03T14:33:27.582Z"
   },
   {
    "duration": 13,
    "start_time": "2022-02-03T14:33:28.471Z"
   },
   {
    "duration": 27,
    "start_time": "2022-02-03T14:33:28.486Z"
   },
   {
    "duration": 11,
    "start_time": "2022-02-03T14:33:28.515Z"
   },
   {
    "duration": 253,
    "start_time": "2022-02-03T14:33:28.527Z"
   },
   {
    "duration": 34,
    "start_time": "2022-02-03T14:33:28.782Z"
   },
   {
    "duration": 377,
    "start_time": "2022-02-03T14:33:28.817Z"
   },
   {
    "duration": 19,
    "start_time": "2022-02-03T14:33:29.197Z"
   },
   {
    "duration": 11,
    "start_time": "2022-02-03T14:33:29.218Z"
   },
   {
    "duration": 10,
    "start_time": "2022-02-03T14:33:29.231Z"
   },
   {
    "duration": 10,
    "start_time": "2022-02-03T14:33:29.243Z"
   },
   {
    "duration": 10,
    "start_time": "2022-02-03T14:33:29.255Z"
   },
   {
    "duration": 45,
    "start_time": "2022-02-03T14:33:29.267Z"
   },
   {
    "duration": 116,
    "start_time": "2022-02-03T14:33:29.314Z"
   },
   {
    "duration": 38,
    "start_time": "2022-02-03T14:33:29.432Z"
   },
   {
    "duration": 491,
    "start_time": "2022-02-03T14:33:29.471Z"
   },
   {
    "duration": 2,
    "start_time": "2022-02-03T14:33:29.964Z"
   },
   {
    "duration": 11,
    "start_time": "2022-02-03T14:33:29.968Z"
   },
   {
    "duration": 11,
    "start_time": "2022-02-03T14:33:29.980Z"
   },
   {
    "duration": 14,
    "start_time": "2022-02-03T14:35:33.766Z"
   },
   {
    "duration": 440,
    "start_time": "2022-02-03T16:15:33.898Z"
   },
   {
    "duration": 1157,
    "start_time": "2022-02-03T16:17:28.133Z"
   },
   {
    "duration": 40,
    "start_time": "2022-02-03T16:17:29.292Z"
   },
   {
    "duration": 21,
    "start_time": "2022-02-03T16:17:29.335Z"
   },
   {
    "duration": 14,
    "start_time": "2022-02-03T16:17:29.358Z"
   },
   {
    "duration": 3,
    "start_time": "2022-02-03T16:17:29.374Z"
   },
   {
    "duration": 12,
    "start_time": "2022-02-03T16:17:29.379Z"
   },
   {
    "duration": 25,
    "start_time": "2022-02-03T16:17:29.393Z"
   },
   {
    "duration": 16,
    "start_time": "2022-02-03T16:17:29.421Z"
   },
   {
    "duration": 7,
    "start_time": "2022-02-03T16:17:29.440Z"
   },
   {
    "duration": 45,
    "start_time": "2022-02-03T16:17:29.449Z"
   },
   {
    "duration": 34,
    "start_time": "2022-02-03T16:17:29.495Z"
   },
   {
    "duration": 12,
    "start_time": "2022-02-03T16:17:29.531Z"
   },
   {
    "duration": 6,
    "start_time": "2022-02-03T16:17:29.545Z"
   },
   {
    "duration": 30,
    "start_time": "2022-02-03T16:17:29.553Z"
   },
   {
    "duration": 28,
    "start_time": "2022-02-03T16:17:29.584Z"
   },
   {
    "duration": 8,
    "start_time": "2022-02-03T16:17:29.614Z"
   },
   {
    "duration": 19,
    "start_time": "2022-02-03T16:17:29.624Z"
   },
   {
    "duration": 9,
    "start_time": "2022-02-03T16:17:29.644Z"
   },
   {
    "duration": 8,
    "start_time": "2022-02-03T16:17:29.654Z"
   },
   {
    "duration": 15,
    "start_time": "2022-02-03T16:17:29.664Z"
   },
   {
    "duration": 10,
    "start_time": "2022-02-03T16:17:29.681Z"
   },
   {
    "duration": 6,
    "start_time": "2022-02-03T16:17:29.692Z"
   },
   {
    "duration": 270,
    "start_time": "2022-02-03T16:17:29.702Z"
   },
   {
    "duration": 778,
    "start_time": "2022-02-03T16:17:29.975Z"
   },
   {
    "duration": 579,
    "start_time": "2022-02-03T16:17:30.176Z"
   },
   {
    "duration": 577,
    "start_time": "2022-02-03T16:17:30.180Z"
   },
   {
    "duration": 573,
    "start_time": "2022-02-03T16:17:30.185Z"
   },
   {
    "duration": 570,
    "start_time": "2022-02-03T16:17:30.189Z"
   },
   {
    "duration": 567,
    "start_time": "2022-02-03T16:17:30.193Z"
   },
   {
    "duration": 564,
    "start_time": "2022-02-03T16:17:30.197Z"
   },
   {
    "duration": 560,
    "start_time": "2022-02-03T16:17:30.202Z"
   },
   {
    "duration": 556,
    "start_time": "2022-02-03T16:17:30.207Z"
   },
   {
    "duration": 553,
    "start_time": "2022-02-03T16:17:30.211Z"
   },
   {
    "duration": 550,
    "start_time": "2022-02-03T16:17:30.215Z"
   },
   {
    "duration": 547,
    "start_time": "2022-02-03T16:17:30.219Z"
   },
   {
    "duration": 544,
    "start_time": "2022-02-03T16:17:30.223Z"
   },
   {
    "duration": 541,
    "start_time": "2022-02-03T16:17:30.227Z"
   },
   {
    "duration": 539,
    "start_time": "2022-02-03T16:17:30.231Z"
   },
   {
    "duration": 536,
    "start_time": "2022-02-03T16:17:30.235Z"
   },
   {
    "duration": 531,
    "start_time": "2022-02-03T16:17:30.241Z"
   },
   {
    "duration": 527,
    "start_time": "2022-02-03T16:17:30.246Z"
   },
   {
    "duration": 524,
    "start_time": "2022-02-03T16:17:30.250Z"
   },
   {
    "duration": 521,
    "start_time": "2022-02-03T16:17:30.254Z"
   },
   {
    "duration": 518,
    "start_time": "2022-02-03T16:17:30.258Z"
   },
   {
    "duration": 515,
    "start_time": "2022-02-03T16:17:30.262Z"
   },
   {
    "duration": 511,
    "start_time": "2022-02-03T16:17:30.267Z"
   },
   {
    "duration": 488,
    "start_time": "2022-02-03T16:17:30.290Z"
   },
   {
    "duration": 517,
    "start_time": "2022-02-03T16:17:30.301Z"
   },
   {
    "duration": 514,
    "start_time": "2022-02-03T16:17:30.305Z"
   },
   {
    "duration": 506,
    "start_time": "2022-02-03T16:17:30.314Z"
   },
   {
    "duration": 502,
    "start_time": "2022-02-03T16:17:30.319Z"
   },
   {
    "duration": 499,
    "start_time": "2022-02-03T16:17:30.323Z"
   },
   {
    "duration": 495,
    "start_time": "2022-02-03T16:17:30.328Z"
   },
   {
    "duration": 491,
    "start_time": "2022-02-03T16:17:30.333Z"
   },
   {
    "duration": 488,
    "start_time": "2022-02-03T16:17:30.337Z"
   },
   {
    "duration": 484,
    "start_time": "2022-02-03T16:17:30.342Z"
   },
   {
    "duration": 481,
    "start_time": "2022-02-03T16:17:30.346Z"
   },
   {
    "duration": 478,
    "start_time": "2022-02-03T16:17:30.350Z"
   },
   {
    "duration": 12,
    "start_time": "2022-02-03T16:18:46.440Z"
   },
   {
    "duration": 18,
    "start_time": "2022-02-03T16:19:40.072Z"
   },
   {
    "duration": 557,
    "start_time": "2022-02-03T16:19:53.064Z"
   },
   {
    "duration": 1129,
    "start_time": "2022-02-03T16:25:15.557Z"
   },
   {
    "duration": 41,
    "start_time": "2022-02-03T16:25:16.687Z"
   },
   {
    "duration": 21,
    "start_time": "2022-02-03T16:25:16.730Z"
   },
   {
    "duration": 15,
    "start_time": "2022-02-03T16:25:16.753Z"
   },
   {
    "duration": 3,
    "start_time": "2022-02-03T16:25:16.770Z"
   },
   {
    "duration": 17,
    "start_time": "2022-02-03T16:25:16.775Z"
   },
   {
    "duration": 14,
    "start_time": "2022-02-03T16:25:16.794Z"
   },
   {
    "duration": 16,
    "start_time": "2022-02-03T16:25:16.818Z"
   },
   {
    "duration": 9,
    "start_time": "2022-02-03T16:25:16.836Z"
   },
   {
    "duration": 15,
    "start_time": "2022-02-03T16:25:16.847Z"
   },
   {
    "duration": 14,
    "start_time": "2022-02-03T16:25:16.864Z"
   },
   {
    "duration": 40,
    "start_time": "2022-02-03T16:25:16.880Z"
   },
   {
    "duration": 6,
    "start_time": "2022-02-03T16:25:16.922Z"
   },
   {
    "duration": 11,
    "start_time": "2022-02-03T16:25:16.930Z"
   },
   {
    "duration": 12,
    "start_time": "2022-02-03T16:25:16.943Z"
   },
   {
    "duration": 7,
    "start_time": "2022-02-03T16:25:16.956Z"
   },
   {
    "duration": 17,
    "start_time": "2022-02-03T16:25:16.965Z"
   },
   {
    "duration": 4,
    "start_time": "2022-02-03T16:25:16.983Z"
   },
   {
    "duration": 34,
    "start_time": "2022-02-03T16:25:16.989Z"
   },
   {
    "duration": 14,
    "start_time": "2022-02-03T16:25:17.025Z"
   },
   {
    "duration": 9,
    "start_time": "2022-02-03T16:25:17.041Z"
   },
   {
    "duration": 7,
    "start_time": "2022-02-03T16:25:17.052Z"
   },
   {
    "duration": 268,
    "start_time": "2022-02-03T16:25:17.064Z"
   },
   {
    "duration": 568,
    "start_time": "2022-02-03T16:25:17.335Z"
   },
   {
    "duration": 25,
    "start_time": "2022-02-03T16:25:17.905Z"
   },
   {
    "duration": 2,
    "start_time": "2022-02-03T16:25:17.932Z"
   },
   {
    "duration": 346,
    "start_time": "2022-02-03T16:25:17.936Z"
   },
   {
    "duration": 7,
    "start_time": "2022-02-03T16:25:18.284Z"
   },
   {
    "duration": 4,
    "start_time": "2022-02-03T16:25:18.293Z"
   },
   {
    "duration": 804,
    "start_time": "2022-02-03T16:25:18.299Z"
   },
   {
    "duration": 4,
    "start_time": "2022-02-03T16:25:19.104Z"
   },
   {
    "duration": 16,
    "start_time": "2022-02-03T16:25:19.110Z"
   },
   {
    "duration": 147,
    "start_time": "2022-02-03T16:25:19.127Z"
   },
   {
    "duration": 22,
    "start_time": "2022-02-03T16:25:19.275Z"
   },
   {
    "duration": 263,
    "start_time": "2022-02-03T16:25:19.299Z"
   },
   {
    "duration": 26,
    "start_time": "2022-02-03T16:25:19.564Z"
   },
   {
    "duration": 447,
    "start_time": "2022-02-03T16:25:19.591Z"
   },
   {
    "duration": 18,
    "start_time": "2022-02-03T16:25:20.039Z"
   },
   {
    "duration": 12,
    "start_time": "2022-02-03T16:25:20.059Z"
   },
   {
    "duration": 855,
    "start_time": "2022-02-03T16:25:20.073Z"
   },
   {
    "duration": 12,
    "start_time": "2022-02-03T16:25:20.930Z"
   },
   {
    "duration": 13,
    "start_time": "2022-02-03T16:25:20.944Z"
   },
   {
    "duration": 9,
    "start_time": "2022-02-03T16:25:20.958Z"
   },
   {
    "duration": 244,
    "start_time": "2022-02-03T16:25:20.968Z"
   },
   {
    "duration": 28,
    "start_time": "2022-02-03T16:25:21.213Z"
   },
   {
    "duration": 357,
    "start_time": "2022-02-03T16:25:21.243Z"
   },
   {
    "duration": 24,
    "start_time": "2022-02-03T16:25:21.601Z"
   },
   {
    "duration": 12,
    "start_time": "2022-02-03T16:25:21.626Z"
   },
   {
    "duration": 11,
    "start_time": "2022-02-03T16:25:21.640Z"
   },
   {
    "duration": 11,
    "start_time": "2022-02-03T16:25:21.653Z"
   },
   {
    "duration": 11,
    "start_time": "2022-02-03T16:25:21.665Z"
   },
   {
    "duration": 45,
    "start_time": "2022-02-03T16:25:21.678Z"
   },
   {
    "duration": 127,
    "start_time": "2022-02-03T16:25:21.725Z"
   },
   {
    "duration": 39,
    "start_time": "2022-02-03T16:25:21.854Z"
   },
   {
    "duration": 478,
    "start_time": "2022-02-03T16:25:21.895Z"
   },
   {
    "duration": 3,
    "start_time": "2022-02-03T16:25:22.375Z"
   },
   {
    "duration": 16,
    "start_time": "2022-02-03T16:25:22.379Z"
   },
   {
    "duration": 21,
    "start_time": "2022-02-03T16:25:22.397Z"
   },
   {
    "duration": 1095,
    "start_time": "2022-02-04T05:26:57.162Z"
   },
   {
    "duration": 36,
    "start_time": "2022-02-04T05:26:58.259Z"
   },
   {
    "duration": 19,
    "start_time": "2022-02-04T05:26:58.297Z"
   },
   {
    "duration": 12,
    "start_time": "2022-02-04T05:26:58.318Z"
   },
   {
    "duration": 2,
    "start_time": "2022-02-04T05:26:58.332Z"
   },
   {
    "duration": 9,
    "start_time": "2022-02-04T05:26:58.336Z"
   },
   {
    "duration": 9,
    "start_time": "2022-02-04T05:26:58.346Z"
   },
   {
    "duration": 14,
    "start_time": "2022-02-04T05:26:58.358Z"
   },
   {
    "duration": 8,
    "start_time": "2022-02-04T05:26:58.374Z"
   },
   {
    "duration": 51,
    "start_time": "2022-02-04T05:26:58.384Z"
   },
   {
    "duration": 14,
    "start_time": "2022-02-04T05:26:58.437Z"
   },
   {
    "duration": 11,
    "start_time": "2022-02-04T05:26:58.453Z"
   },
   {
    "duration": 6,
    "start_time": "2022-02-04T05:26:58.466Z"
   },
   {
    "duration": 8,
    "start_time": "2022-02-04T05:26:58.474Z"
   },
   {
    "duration": 44,
    "start_time": "2022-02-04T05:26:58.484Z"
   },
   {
    "duration": 8,
    "start_time": "2022-02-04T05:26:58.530Z"
   },
   {
    "duration": 10,
    "start_time": "2022-02-04T05:26:58.539Z"
   },
   {
    "duration": 4,
    "start_time": "2022-02-04T05:26:58.551Z"
   },
   {
    "duration": 7,
    "start_time": "2022-02-04T05:26:58.557Z"
   },
   {
    "duration": 13,
    "start_time": "2022-02-04T05:26:58.566Z"
   },
   {
    "duration": 8,
    "start_time": "2022-02-04T05:26:58.581Z"
   },
   {
    "duration": 39,
    "start_time": "2022-02-04T05:26:58.590Z"
   },
   {
    "duration": 225,
    "start_time": "2022-02-04T05:26:58.633Z"
   },
   {
    "duration": 490,
    "start_time": "2022-02-04T05:26:58.860Z"
   },
   {
    "duration": 14,
    "start_time": "2022-02-04T05:26:59.352Z"
   },
   {
    "duration": 3,
    "start_time": "2022-02-04T05:26:59.367Z"
   },
   {
    "duration": 315,
    "start_time": "2022-02-04T05:26:59.371Z"
   },
   {
    "duration": 8,
    "start_time": "2022-02-04T05:26:59.687Z"
   },
   {
    "duration": 4,
    "start_time": "2022-02-04T05:26:59.696Z"
   },
   {
    "duration": 728,
    "start_time": "2022-02-04T05:26:59.702Z"
   },
   {
    "duration": 5,
    "start_time": "2022-02-04T05:27:00.431Z"
   },
   {
    "duration": 6,
    "start_time": "2022-02-04T05:27:00.437Z"
   },
   {
    "duration": 125,
    "start_time": "2022-02-04T05:27:00.444Z"
   },
   {
    "duration": 5,
    "start_time": "2022-02-04T05:27:00.571Z"
   },
   {
    "duration": 234,
    "start_time": "2022-02-04T05:27:00.578Z"
   },
   {
    "duration": 29,
    "start_time": "2022-02-04T05:27:00.813Z"
   },
   {
    "duration": 392,
    "start_time": "2022-02-04T05:27:00.843Z"
   },
   {
    "duration": 14,
    "start_time": "2022-02-04T05:27:01.237Z"
   },
   {
    "duration": 16,
    "start_time": "2022-02-04T05:27:01.252Z"
   },
   {
    "duration": 841,
    "start_time": "2022-02-04T05:27:01.270Z"
   },
   {
    "duration": 18,
    "start_time": "2022-02-04T05:27:02.113Z"
   },
   {
    "duration": 10,
    "start_time": "2022-02-04T05:27:02.133Z"
   },
   {
    "duration": 9,
    "start_time": "2022-02-04T05:27:02.145Z"
   },
   {
    "duration": 215,
    "start_time": "2022-02-04T05:27:02.155Z"
   },
   {
    "duration": 25,
    "start_time": "2022-02-04T05:27:02.371Z"
   },
   {
    "duration": 323,
    "start_time": "2022-02-04T05:27:02.398Z"
   },
   {
    "duration": 14,
    "start_time": "2022-02-04T05:27:02.723Z"
   },
   {
    "duration": 10,
    "start_time": "2022-02-04T05:27:02.738Z"
   },
   {
    "duration": 10,
    "start_time": "2022-02-04T05:27:02.749Z"
   },
   {
    "duration": 9,
    "start_time": "2022-02-04T05:27:02.760Z"
   },
   {
    "duration": 12,
    "start_time": "2022-02-04T05:27:02.770Z"
   },
   {
    "duration": 47,
    "start_time": "2022-02-04T05:27:02.784Z"
   },
   {
    "duration": 97,
    "start_time": "2022-02-04T05:27:02.832Z"
   },
   {
    "duration": 34,
    "start_time": "2022-02-04T05:27:02.931Z"
   },
   {
    "duration": 412,
    "start_time": "2022-02-04T05:27:02.966Z"
   },
   {
    "duration": 3,
    "start_time": "2022-02-04T05:27:03.379Z"
   },
   {
    "duration": 12,
    "start_time": "2022-02-04T05:27:03.383Z"
   },
   {
    "duration": 22,
    "start_time": "2022-02-04T05:27:03.396Z"
   },
   {
    "duration": 87,
    "start_time": "2022-02-04T05:49:54.813Z"
   },
   {
    "duration": 10,
    "start_time": "2022-02-04T05:50:05.294Z"
   },
   {
    "duration": 11,
    "start_time": "2022-02-04T05:50:36.229Z"
   },
   {
    "duration": 10,
    "start_time": "2022-02-04T05:50:40.029Z"
   },
   {
    "duration": 90,
    "start_time": "2022-02-04T05:52:12.554Z"
   },
   {
    "duration": 13,
    "start_time": "2022-02-04T05:52:21.829Z"
   },
   {
    "duration": 16,
    "start_time": "2022-02-04T05:52:54.880Z"
   },
   {
    "duration": 17,
    "start_time": "2022-02-04T05:54:07.304Z"
   },
   {
    "duration": 17,
    "start_time": "2022-02-04T05:54:12.381Z"
   },
   {
    "duration": 17,
    "start_time": "2022-02-04T05:54:28.069Z"
   },
   {
    "duration": 16,
    "start_time": "2022-02-04T05:54:39.667Z"
   },
   {
    "duration": 17,
    "start_time": "2022-02-04T06:05:19.954Z"
   },
   {
    "duration": 86,
    "start_time": "2022-02-04T06:05:42.954Z"
   },
   {
    "duration": 19,
    "start_time": "2022-02-04T06:06:16.916Z"
   },
   {
    "duration": 8,
    "start_time": "2022-02-04T06:40:11.506Z"
   },
   {
    "duration": 197,
    "start_time": "2022-02-04T06:40:14.643Z"
   },
   {
    "duration": 541,
    "start_time": "2022-02-04T06:45:52.518Z"
   },
   {
    "duration": 90,
    "start_time": "2022-02-04T06:46:04.106Z"
   },
   {
    "duration": 33,
    "start_time": "2022-02-04T06:46:34.230Z"
   },
   {
    "duration": 375,
    "start_time": "2022-02-04T06:46:36.686Z"
   },
   {
    "duration": 20,
    "start_time": "2022-02-04T06:47:10.818Z"
   },
   {
    "duration": 8,
    "start_time": "2022-02-04T06:48:31.993Z"
   },
   {
    "duration": 6,
    "start_time": "2022-02-04T06:49:07.137Z"
   },
   {
    "duration": 90,
    "start_time": "2022-02-04T06:50:32.981Z"
   },
   {
    "duration": 21,
    "start_time": "2022-02-04T06:50:47.595Z"
   },
   {
    "duration": 10,
    "start_time": "2022-02-04T06:51:04.694Z"
   },
   {
    "duration": 10,
    "start_time": "2022-02-04T06:56:03.693Z"
   },
   {
    "duration": 20,
    "start_time": "2022-02-04T06:57:06.182Z"
   },
   {
    "duration": 94,
    "start_time": "2022-02-04T06:57:18.322Z"
   },
   {
    "duration": 8,
    "start_time": "2022-02-04T06:57:32.895Z"
   },
   {
    "duration": 7,
    "start_time": "2022-02-04T06:57:39.505Z"
   },
   {
    "duration": 9,
    "start_time": "2022-02-04T07:01:18.819Z"
   },
   {
    "duration": 9,
    "start_time": "2022-02-04T07:01:47.906Z"
   },
   {
    "duration": 8,
    "start_time": "2022-02-04T07:06:31.657Z"
   },
   {
    "duration": 8,
    "start_time": "2022-02-04T07:06:50.571Z"
   },
   {
    "duration": 1120,
    "start_time": "2022-02-04T07:07:05.239Z"
   },
   {
    "duration": 38,
    "start_time": "2022-02-04T07:07:06.360Z"
   },
   {
    "duration": 19,
    "start_time": "2022-02-04T07:07:06.401Z"
   },
   {
    "duration": 13,
    "start_time": "2022-02-04T07:07:06.421Z"
   },
   {
    "duration": 5,
    "start_time": "2022-02-04T07:07:06.435Z"
   },
   {
    "duration": 10,
    "start_time": "2022-02-04T07:07:06.441Z"
   },
   {
    "duration": 7,
    "start_time": "2022-02-04T07:07:06.453Z"
   },
   {
    "duration": 13,
    "start_time": "2022-02-04T07:07:06.462Z"
   },
   {
    "duration": 7,
    "start_time": "2022-02-04T07:07:06.476Z"
   },
   {
    "duration": 43,
    "start_time": "2022-02-04T07:07:06.484Z"
   },
   {
    "duration": 12,
    "start_time": "2022-02-04T07:07:06.529Z"
   },
   {
    "duration": 10,
    "start_time": "2022-02-04T07:07:06.542Z"
   },
   {
    "duration": 5,
    "start_time": "2022-02-04T07:07:06.553Z"
   },
   {
    "duration": 18,
    "start_time": "2022-02-04T07:07:06.560Z"
   },
   {
    "duration": 11,
    "start_time": "2022-02-04T07:07:06.580Z"
   },
   {
    "duration": 7,
    "start_time": "2022-02-04T07:07:06.592Z"
   },
   {
    "duration": 31,
    "start_time": "2022-02-04T07:07:06.600Z"
   },
   {
    "duration": 3,
    "start_time": "2022-02-04T07:07:06.632Z"
   },
   {
    "duration": 10,
    "start_time": "2022-02-04T07:07:06.636Z"
   },
   {
    "duration": 10,
    "start_time": "2022-02-04T07:07:06.648Z"
   },
   {
    "duration": 7,
    "start_time": "2022-02-04T07:07:06.660Z"
   },
   {
    "duration": 6,
    "start_time": "2022-02-04T07:07:06.670Z"
   },
   {
    "duration": 256,
    "start_time": "2022-02-04T07:07:06.677Z"
   },
   {
    "duration": 539,
    "start_time": "2022-02-04T07:07:06.935Z"
   },
   {
    "duration": 14,
    "start_time": "2022-02-04T07:07:07.475Z"
   },
   {
    "duration": 2,
    "start_time": "2022-02-04T07:07:07.490Z"
   },
   {
    "duration": 309,
    "start_time": "2022-02-04T07:07:07.494Z"
   },
   {
    "duration": 7,
    "start_time": "2022-02-04T07:07:07.805Z"
   },
   {
    "duration": 13,
    "start_time": "2022-02-04T07:07:07.814Z"
   },
   {
    "duration": 816,
    "start_time": "2022-02-04T07:07:07.829Z"
   },
   {
    "duration": 4,
    "start_time": "2022-02-04T07:07:08.647Z"
   },
   {
    "duration": 11,
    "start_time": "2022-02-04T07:07:08.652Z"
   },
   {
    "duration": 117,
    "start_time": "2022-02-04T07:07:08.664Z"
   },
   {
    "duration": 8,
    "start_time": "2022-02-04T07:07:08.782Z"
   },
   {
    "duration": 226,
    "start_time": "2022-02-04T07:07:08.791Z"
   },
   {
    "duration": 25,
    "start_time": "2022-02-04T07:07:09.019Z"
   },
   {
    "duration": 391,
    "start_time": "2022-02-04T07:07:09.046Z"
   },
   {
    "duration": 15,
    "start_time": "2022-02-04T07:07:09.438Z"
   },
   {
    "duration": 8,
    "start_time": "2022-02-04T07:07:09.455Z"
   },
   {
    "duration": 837,
    "start_time": "2022-02-04T07:07:09.465Z"
   },
   {
    "duration": 10,
    "start_time": "2022-02-04T07:07:10.303Z"
   },
   {
    "duration": 20,
    "start_time": "2022-02-04T07:07:10.315Z"
   },
   {
    "duration": 7,
    "start_time": "2022-02-04T07:07:10.337Z"
   },
   {
    "duration": 201,
    "start_time": "2022-02-04T07:07:10.346Z"
   },
   {
    "duration": 27,
    "start_time": "2022-02-04T07:07:10.548Z"
   },
   {
    "duration": 354,
    "start_time": "2022-02-04T07:07:10.576Z"
   },
   {
    "duration": 11,
    "start_time": "2022-02-04T07:07:10.931Z"
   },
   {
    "duration": 10,
    "start_time": "2022-02-04T07:07:10.944Z"
   },
   {
    "duration": 10,
    "start_time": "2022-02-04T07:07:10.955Z"
   },
   {
    "duration": 10,
    "start_time": "2022-02-04T07:07:10.966Z"
   },
   {
    "duration": 12,
    "start_time": "2022-02-04T07:07:10.977Z"
   },
   {
    "duration": 39,
    "start_time": "2022-02-04T07:07:10.990Z"
   },
   {
    "duration": 102,
    "start_time": "2022-02-04T07:07:11.031Z"
   },
   {
    "duration": 10,
    "start_time": "2022-02-04T07:07:11.134Z"
   },
   {
    "duration": 8,
    "start_time": "2022-02-04T07:07:11.145Z"
   },
   {
    "duration": 70,
    "start_time": "2022-02-04T07:07:11.155Z"
   },
   {
    "duration": 404,
    "start_time": "2022-02-04T07:07:11.226Z"
   },
   {
    "duration": 3,
    "start_time": "2022-02-04T07:07:11.631Z"
   },
   {
    "duration": 13,
    "start_time": "2022-02-04T07:07:11.635Z"
   },
   {
    "duration": 17,
    "start_time": "2022-02-04T07:07:11.649Z"
   },
   {
    "duration": 1055,
    "start_time": "2022-02-04T07:09:27.609Z"
   },
   {
    "duration": 36,
    "start_time": "2022-02-04T07:09:28.665Z"
   },
   {
    "duration": 18,
    "start_time": "2022-02-04T07:09:28.703Z"
   },
   {
    "duration": 11,
    "start_time": "2022-02-04T07:09:28.722Z"
   },
   {
    "duration": 3,
    "start_time": "2022-02-04T07:09:28.735Z"
   },
   {
    "duration": 9,
    "start_time": "2022-02-04T07:09:28.739Z"
   },
   {
    "duration": 7,
    "start_time": "2022-02-04T07:09:28.750Z"
   },
   {
    "duration": 15,
    "start_time": "2022-02-04T07:09:28.759Z"
   },
   {
    "duration": 8,
    "start_time": "2022-02-04T07:09:28.776Z"
   },
   {
    "duration": 13,
    "start_time": "2022-02-04T07:09:28.785Z"
   },
   {
    "duration": 12,
    "start_time": "2022-02-04T07:09:28.828Z"
   },
   {
    "duration": 9,
    "start_time": "2022-02-04T07:09:28.842Z"
   },
   {
    "duration": 5,
    "start_time": "2022-02-04T07:09:28.853Z"
   },
   {
    "duration": 10,
    "start_time": "2022-02-04T07:09:28.859Z"
   },
   {
    "duration": 10,
    "start_time": "2022-02-04T07:09:28.871Z"
   },
   {
    "duration": 6,
    "start_time": "2022-02-04T07:09:28.882Z"
   },
   {
    "duration": 37,
    "start_time": "2022-02-04T07:09:28.890Z"
   },
   {
    "duration": 3,
    "start_time": "2022-02-04T07:09:28.928Z"
   },
   {
    "duration": 10,
    "start_time": "2022-02-04T07:09:28.933Z"
   },
   {
    "duration": 10,
    "start_time": "2022-02-04T07:09:28.945Z"
   },
   {
    "duration": 7,
    "start_time": "2022-02-04T07:09:28.956Z"
   },
   {
    "duration": 5,
    "start_time": "2022-02-04T07:09:28.964Z"
   },
   {
    "duration": 234,
    "start_time": "2022-02-04T07:09:28.973Z"
   },
   {
    "duration": 549,
    "start_time": "2022-02-04T07:09:29.209Z"
   },
   {
    "duration": 14,
    "start_time": "2022-02-04T07:09:29.760Z"
   },
   {
    "duration": 3,
    "start_time": "2022-02-04T07:09:29.775Z"
   },
   {
    "duration": 315,
    "start_time": "2022-02-04T07:09:29.779Z"
   },
   {
    "duration": 7,
    "start_time": "2022-02-04T07:09:30.096Z"
   },
   {
    "duration": 7,
    "start_time": "2022-02-04T07:09:30.104Z"
   },
   {
    "duration": 733,
    "start_time": "2022-02-04T07:09:30.112Z"
   },
   {
    "duration": 3,
    "start_time": "2022-02-04T07:09:30.847Z"
   },
   {
    "duration": 7,
    "start_time": "2022-02-04T07:09:30.852Z"
   },
   {
    "duration": 126,
    "start_time": "2022-02-04T07:09:30.860Z"
   },
   {
    "duration": 17,
    "start_time": "2022-02-04T07:09:30.988Z"
   },
   {
    "duration": 223,
    "start_time": "2022-02-04T07:09:31.007Z"
   },
   {
    "duration": 22,
    "start_time": "2022-02-04T07:09:31.232Z"
   },
   {
    "duration": 397,
    "start_time": "2022-02-04T07:09:31.256Z"
   },
   {
    "duration": 15,
    "start_time": "2022-02-04T07:09:31.655Z"
   },
   {
    "duration": 9,
    "start_time": "2022-02-04T07:09:31.672Z"
   },
   {
    "duration": 781,
    "start_time": "2022-02-04T07:09:31.683Z"
   },
   {
    "duration": 10,
    "start_time": "2022-02-04T07:09:32.465Z"
   },
   {
    "duration": 8,
    "start_time": "2022-02-04T07:09:32.477Z"
   },
   {
    "duration": 7,
    "start_time": "2022-02-04T07:09:32.487Z"
   },
   {
    "duration": 215,
    "start_time": "2022-02-04T07:09:32.495Z"
   },
   {
    "duration": 30,
    "start_time": "2022-02-04T07:09:32.712Z"
   },
   {
    "duration": 311,
    "start_time": "2022-02-04T07:09:32.744Z"
   },
   {
    "duration": 11,
    "start_time": "2022-02-04T07:09:33.057Z"
   },
   {
    "duration": 10,
    "start_time": "2022-02-04T07:09:33.069Z"
   },
   {
    "duration": 10,
    "start_time": "2022-02-04T07:09:33.080Z"
   },
   {
    "duration": 10,
    "start_time": "2022-02-04T07:09:33.091Z"
   },
   {
    "duration": 34,
    "start_time": "2022-02-04T07:09:33.102Z"
   },
   {
    "duration": 10,
    "start_time": "2022-02-04T07:09:33.137Z"
   },
   {
    "duration": 8,
    "start_time": "2022-02-04T07:09:33.149Z"
   },
   {
    "duration": 6,
    "start_time": "2022-02-04T07:09:33.159Z"
   },
   {
    "duration": 116,
    "start_time": "2022-02-04T07:09:33.167Z"
   },
   {
    "duration": 46,
    "start_time": "2022-02-04T07:09:33.284Z"
   },
   {
    "duration": 396,
    "start_time": "2022-02-04T07:09:33.331Z"
   },
   {
    "duration": 2,
    "start_time": "2022-02-04T07:09:33.728Z"
   },
   {
    "duration": 10,
    "start_time": "2022-02-04T07:09:33.732Z"
   },
   {
    "duration": 16,
    "start_time": "2022-02-04T07:09:33.743Z"
   },
   {
    "duration": 5,
    "start_time": "2022-02-04T07:12:23.454Z"
   },
   {
    "duration": 421,
    "start_time": "2022-02-04T07:13:40.112Z"
   },
   {
    "duration": 388,
    "start_time": "2022-02-04T07:13:48.515Z"
   },
   {
    "duration": 403,
    "start_time": "2022-02-04T08:33:34.528Z"
   },
   {
    "duration": 1209,
    "start_time": "2022-02-04T08:33:46.173Z"
   },
   {
    "duration": 42,
    "start_time": "2022-02-04T08:34:27.829Z"
   },
   {
    "duration": 220,
    "start_time": "2022-02-04T08:34:45.757Z"
   },
   {
    "duration": 1143,
    "start_time": "2022-02-04T08:34:57.639Z"
   },
   {
    "duration": 40,
    "start_time": "2022-02-04T08:34:58.785Z"
   },
   {
    "duration": 149,
    "start_time": "2022-02-04T08:34:58.827Z"
   },
   {
    "duration": 23,
    "start_time": "2022-02-04T08:34:58.978Z"
   },
   {
    "duration": 10,
    "start_time": "2022-02-04T08:34:59.003Z"
   },
   {
    "duration": 3,
    "start_time": "2022-02-04T08:34:59.015Z"
   },
   {
    "duration": 12,
    "start_time": "2022-02-04T08:34:59.020Z"
   },
   {
    "duration": 9,
    "start_time": "2022-02-04T08:34:59.035Z"
   },
   {
    "duration": 18,
    "start_time": "2022-02-04T08:34:59.046Z"
   },
   {
    "duration": 39,
    "start_time": "2022-02-04T08:34:59.066Z"
   },
   {
    "duration": 19,
    "start_time": "2022-02-04T08:34:59.107Z"
   },
   {
    "duration": 15,
    "start_time": "2022-02-04T08:34:59.128Z"
   },
   {
    "duration": 13,
    "start_time": "2022-02-04T08:34:59.145Z"
   },
   {
    "duration": 6,
    "start_time": "2022-02-04T08:34:59.160Z"
   },
   {
    "duration": 10,
    "start_time": "2022-02-04T08:34:59.198Z"
   },
   {
    "duration": 14,
    "start_time": "2022-02-04T08:34:59.210Z"
   },
   {
    "duration": 12,
    "start_time": "2022-02-04T08:34:59.225Z"
   },
   {
    "duration": 18,
    "start_time": "2022-02-04T08:34:59.239Z"
   },
   {
    "duration": 4,
    "start_time": "2022-02-04T08:34:59.259Z"
   },
   {
    "duration": 37,
    "start_time": "2022-02-04T08:34:59.265Z"
   },
   {
    "duration": 14,
    "start_time": "2022-02-04T08:34:59.304Z"
   },
   {
    "duration": 5,
    "start_time": "2022-02-04T08:34:59.320Z"
   },
   {
    "duration": 6,
    "start_time": "2022-02-04T08:34:59.329Z"
   },
   {
    "duration": 308,
    "start_time": "2022-02-04T08:34:59.337Z"
   },
   {
    "duration": 618,
    "start_time": "2022-02-04T08:34:59.646Z"
   },
   {
    "duration": 15,
    "start_time": "2022-02-04T08:35:00.266Z"
   },
   {
    "duration": 16,
    "start_time": "2022-02-04T08:35:00.283Z"
   },
   {
    "duration": 420,
    "start_time": "2022-02-04T08:35:00.300Z"
   },
   {
    "duration": 9,
    "start_time": "2022-02-04T08:35:00.722Z"
   },
   {
    "duration": 4,
    "start_time": "2022-02-04T08:35:00.733Z"
   },
   {
    "duration": 904,
    "start_time": "2022-02-04T08:35:00.739Z"
   },
   {
    "duration": 4,
    "start_time": "2022-02-04T08:35:01.645Z"
   },
   {
    "duration": 10,
    "start_time": "2022-02-04T08:35:01.651Z"
   },
   {
    "duration": 158,
    "start_time": "2022-02-04T08:35:01.663Z"
   },
   {
    "duration": 20,
    "start_time": "2022-02-04T08:35:01.823Z"
   },
   {
    "duration": 323,
    "start_time": "2022-02-04T08:35:01.845Z"
   },
   {
    "duration": 38,
    "start_time": "2022-02-04T08:35:02.170Z"
   },
   {
    "duration": 528,
    "start_time": "2022-02-04T08:35:02.210Z"
   },
   {
    "duration": 16,
    "start_time": "2022-02-04T08:35:02.741Z"
   },
   {
    "duration": 17,
    "start_time": "2022-02-04T08:35:02.759Z"
   },
   {
    "duration": 1021,
    "start_time": "2022-02-04T08:35:02.779Z"
   },
   {
    "duration": 13,
    "start_time": "2022-02-04T08:35:03.802Z"
   },
   {
    "duration": 36,
    "start_time": "2022-02-04T08:35:03.817Z"
   },
   {
    "duration": 35,
    "start_time": "2022-02-04T08:35:03.855Z"
   },
   {
    "duration": 264,
    "start_time": "2022-02-04T08:35:03.892Z"
   },
   {
    "duration": 45,
    "start_time": "2022-02-04T08:35:04.159Z"
   },
   {
    "duration": 432,
    "start_time": "2022-02-04T08:35:04.206Z"
   },
   {
    "duration": 14,
    "start_time": "2022-02-04T08:35:04.639Z"
   },
   {
    "duration": 52,
    "start_time": "2022-02-04T08:35:04.654Z"
   },
   {
    "duration": 20,
    "start_time": "2022-02-04T08:35:04.708Z"
   },
   {
    "duration": 22,
    "start_time": "2022-02-04T08:35:04.730Z"
   },
   {
    "duration": 29,
    "start_time": "2022-02-04T08:35:04.754Z"
   },
   {
    "duration": 18,
    "start_time": "2022-02-04T08:35:04.785Z"
   },
   {
    "duration": 28,
    "start_time": "2022-02-04T08:35:04.804Z"
   },
   {
    "duration": 24,
    "start_time": "2022-02-04T08:35:04.834Z"
   },
   {
    "duration": 140,
    "start_time": "2022-02-04T08:35:04.860Z"
   },
   {
    "duration": 47,
    "start_time": "2022-02-04T08:35:05.002Z"
   },
   {
    "duration": 532,
    "start_time": "2022-02-04T08:35:05.051Z"
   },
   {
    "duration": 3,
    "start_time": "2022-02-04T08:35:05.585Z"
   },
   {
    "duration": 35,
    "start_time": "2022-02-04T08:35:05.599Z"
   },
   {
    "duration": 40,
    "start_time": "2022-02-04T08:35:05.635Z"
   },
   {
    "duration": 1499,
    "start_time": "2022-02-07T07:40:29.968Z"
   },
   {
    "duration": 44,
    "start_time": "2022-02-07T07:40:31.470Z"
   },
   {
    "duration": 289,
    "start_time": "2022-02-07T07:40:31.517Z"
   },
   {
    "duration": 31,
    "start_time": "2022-02-07T07:40:31.809Z"
   },
   {
    "duration": 15,
    "start_time": "2022-02-07T07:40:31.842Z"
   },
   {
    "duration": 6,
    "start_time": "2022-02-07T07:40:31.860Z"
   },
   {
    "duration": 18,
    "start_time": "2022-02-07T07:40:31.868Z"
   },
   {
    "duration": 15,
    "start_time": "2022-02-07T07:40:31.890Z"
   },
   {
    "duration": 35,
    "start_time": "2022-02-07T07:40:31.908Z"
   },
   {
    "duration": 11,
    "start_time": "2022-02-07T07:40:31.945Z"
   },
   {
    "duration": 21,
    "start_time": "2022-02-07T07:40:31.958Z"
   },
   {
    "duration": 19,
    "start_time": "2022-02-07T07:40:31.981Z"
   },
   {
    "duration": 46,
    "start_time": "2022-02-07T07:40:32.001Z"
   },
   {
    "duration": 8,
    "start_time": "2022-02-07T07:40:32.049Z"
   },
   {
    "duration": 12,
    "start_time": "2022-02-07T07:40:32.060Z"
   },
   {
    "duration": 17,
    "start_time": "2022-02-07T07:40:32.075Z"
   },
   {
    "duration": 11,
    "start_time": "2022-02-07T07:40:32.131Z"
   },
   {
    "duration": 17,
    "start_time": "2022-02-07T07:40:32.145Z"
   },
   {
    "duration": 5,
    "start_time": "2022-02-07T07:40:32.165Z"
   },
   {
    "duration": 13,
    "start_time": "2022-02-07T07:40:32.173Z"
   },
   {
    "duration": 53,
    "start_time": "2022-02-07T07:40:32.188Z"
   },
   {
    "duration": 11,
    "start_time": "2022-02-07T07:40:32.244Z"
   },
   {
    "duration": 7,
    "start_time": "2022-02-07T07:40:32.260Z"
   },
   {
    "duration": 425,
    "start_time": "2022-02-07T07:40:32.270Z"
   },
   {
    "duration": 892,
    "start_time": "2022-02-07T07:40:32.698Z"
   },
   {
    "duration": 23,
    "start_time": "2022-02-07T07:40:33.593Z"
   },
   {
    "duration": 15,
    "start_time": "2022-02-07T07:40:33.618Z"
   },
   {
    "duration": 553,
    "start_time": "2022-02-07T07:40:33.636Z"
   },
   {
    "duration": 11,
    "start_time": "2022-02-07T07:40:34.192Z"
   },
   {
    "duration": 6,
    "start_time": "2022-02-07T07:40:34.206Z"
   },
   {
    "duration": 1363,
    "start_time": "2022-02-07T07:40:34.233Z"
   },
   {
    "duration": 6,
    "start_time": "2022-02-07T07:40:35.598Z"
   },
   {
    "duration": 26,
    "start_time": "2022-02-07T07:40:35.606Z"
   },
   {
    "duration": 236,
    "start_time": "2022-02-07T07:40:35.634Z"
   },
   {
    "duration": 13,
    "start_time": "2022-02-07T07:40:35.872Z"
   },
   {
    "duration": 405,
    "start_time": "2022-02-07T07:40:35.888Z"
   },
   {
    "duration": 46,
    "start_time": "2022-02-07T07:40:36.295Z"
   },
   {
    "duration": 698,
    "start_time": "2022-02-07T07:40:36.343Z"
   },
   {
    "duration": 24,
    "start_time": "2022-02-07T07:40:37.043Z"
   },
   {
    "duration": 30,
    "start_time": "2022-02-07T07:40:37.070Z"
   },
   {
    "duration": 1246,
    "start_time": "2022-02-07T07:40:37.103Z"
   },
   {
    "duration": 16,
    "start_time": "2022-02-07T07:40:38.352Z"
   },
   {
    "duration": 15,
    "start_time": "2022-02-07T07:40:38.371Z"
   },
   {
    "duration": 45,
    "start_time": "2022-02-07T07:40:38.389Z"
   },
   {
    "duration": 358,
    "start_time": "2022-02-07T07:40:38.437Z"
   },
   {
    "duration": 55,
    "start_time": "2022-02-07T07:40:38.797Z"
   },
   {
    "duration": 604,
    "start_time": "2022-02-07T07:40:38.855Z"
   },
   {
    "duration": 16,
    "start_time": "2022-02-07T07:40:39.461Z"
   },
   {
    "duration": 15,
    "start_time": "2022-02-07T07:40:39.480Z"
   },
   {
    "duration": 43,
    "start_time": "2022-02-07T07:40:39.498Z"
   },
   {
    "duration": 17,
    "start_time": "2022-02-07T07:40:39.544Z"
   },
   {
    "duration": 16,
    "start_time": "2022-02-07T07:40:39.564Z"
   },
   {
    "duration": 50,
    "start_time": "2022-02-07T07:40:39.582Z"
   },
   {
    "duration": 15,
    "start_time": "2022-02-07T07:40:39.635Z"
   },
   {
    "duration": 12,
    "start_time": "2022-02-07T07:40:39.653Z"
   },
   {
    "duration": 197,
    "start_time": "2022-02-07T07:40:39.668Z"
   },
   {
    "duration": 85,
    "start_time": "2022-02-07T07:40:39.868Z"
   },
   {
    "duration": 746,
    "start_time": "2022-02-07T07:40:39.955Z"
   },
   {
    "duration": 5,
    "start_time": "2022-02-07T07:40:40.704Z"
   },
   {
    "duration": 33,
    "start_time": "2022-02-07T07:40:40.712Z"
   },
   {
    "duration": 29,
    "start_time": "2022-02-07T07:40:40.748Z"
   },
   {
    "duration": 632,
    "start_time": "2022-02-07T07:43:53.556Z"
   },
   {
    "duration": 357,
    "start_time": "2022-02-07T07:44:02.848Z"
   },
   {
    "duration": 351,
    "start_time": "2022-02-07T07:44:15.971Z"
   },
   {
    "duration": 358,
    "start_time": "2022-02-07T07:44:28.036Z"
   },
   {
    "duration": 373,
    "start_time": "2022-02-07T07:44:57.271Z"
   },
   {
    "duration": 722,
    "start_time": "2022-02-07T07:57:00.004Z"
   },
   {
    "duration": 803,
    "start_time": "2022-02-07T07:57:27.433Z"
   }
  ],
  "kernelspec": {
   "display_name": "Python 3 (ipykernel)",
   "language": "python",
   "name": "python3"
  },
  "language_info": {
   "codemirror_mode": {
    "name": "ipython",
    "version": 3
   },
   "file_extension": ".py",
   "mimetype": "text/x-python",
   "name": "python",
   "nbconvert_exporter": "python",
   "pygments_lexer": "ipython3",
   "version": "3.9.12"
  },
  "toc": {
   "base_numbering": 1,
   "nav_menu": {},
   "number_sections": true,
   "sideBar": true,
   "skip_h1_title": true,
   "title_cell": "Table of Contents",
   "title_sidebar": "Contents",
   "toc_cell": false,
   "toc_position": {},
   "toc_section_display": true,
   "toc_window_display": false
  }
 },
 "nbformat": 4,
 "nbformat_minor": 5
}
